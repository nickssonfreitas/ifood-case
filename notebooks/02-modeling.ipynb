{
 "cells": [
  {
   "cell_type": "markdown",
   "id": "c49cf8fa-607a-41f5-a2e6-ca5eb9ca3fc2",
   "metadata": {},
   "source": [
    "# 🧠 Classificação: Predição de Conversão de Ofertas\n",
    "\n",
    "Este notebook tem como objetivo construir um modelo de classificação que auxilie o iFood a **prever se um cliente completará uma oferta recebida**. Essa predição pode ser usada para **personalizar campanhas**, **priorizar canais de comunicação** e **aumentar a taxa de conversão das promoções**.\n",
    "\n",
    "## 🧩 Problema\n",
    "\n",
    "Dado um conjunto de dados com informações sobre clientes, características das ofertas e eventos registrados durante a campanha (como *\"offer received\"*, *\"offer viewed\"*, *\"offer completed\"*, *\"transaction\"*, etc), o objetivo é:\n",
    "\n",
    "> **Prever se uma oferta será completada pelo cliente após ter sido recebida.**\n",
    "\n",
    "---\n",
    "\n",
    "## 📚 Etapas da modelagem\n",
    "\n",
    "1. **Seleção e preparação dos dados**\n",
    "   - Filtragem de eventos do tipo `\"offer received\"`\n",
    "   - Enriquecimento com dados do cliente e detalhes da oferta\n",
    "   - Criação da variável alvo: `completed` (1 para ofertas completadas, 0 caso contrário)\n",
    "\n",
    "2. **Engenharia de atributos**\n",
    "   - Conversão de variáveis categóricas para numéricas (One-Hot Encoding ou Label Encoding)\n",
    "   - Transformação de datas\n",
    "   - Criação de grupos etários e faixas de limite de crédito\n",
    "\n",
    "3. **Divisão dos dados**\n",
    "   - Separação entre conjunto de treino e teste (ex: 80/20)\n",
    "\n",
    "4. **Treinamento de modelos**\n",
    "   - Modelos como `RandomForestClassifier`, `LogisticRegression` e `XGBoost` podem ser utilizados\n",
    "   - Ajuste de hiperparâmetros (opcional)\n",
    "\n",
    "5. **Avaliação**\n",
    "   - Métricas: *Accuracy*, *Precision*, *Recall*, *F1-score*\n",
    "   - Análise de matriz de confusão e balanceamento das classes\n",
    "\n",
    "6. **Análise dos resultados**\n",
    "   - Interpretação de importância dos atributos\n",
    "   - Discussão sobre viabilidade de uso do modelo em campanhas reais\n",
    "\n",
    "---\n",
    "\n",
    "## 🎯 Resultado Esperado\n",
    "\n",
    "O modelo será capaz de auxiliar o time de marketing a **decidir qual cliente deve receber determinada oferta**, maximizando o retorno das campanhas promocionais."
   ]
  },
  {
   "cell_type": "code",
   "execution_count": 1,
   "id": "6880cf68-03c5-43a2-b123-622fd1de037c",
   "metadata": {},
   "outputs": [],
   "source": [
    "import sys\n",
    "import os\n",
    "\n",
    "# Obtém o caminho absoluto do diretório 'src'\n",
    "src_path = os.path.abspath(\"../\")\n",
    "\n",
    "if src_path not in sys.path:\n",
    "    sys.path.append(src_path)"
   ]
  },
  {
   "cell_type": "code",
   "execution_count": 2,
   "id": "2ad0a0a0-d4d3-4eeb-9483-0d3a1c27d79d",
   "metadata": {},
   "outputs": [],
   "source": [
    "import pandas as pd"
   ]
  },
  {
   "cell_type": "markdown",
   "id": "3c8fcdf7-0952-4ee7-9a0a-994e097cc191",
   "metadata": {},
   "source": [
    "## 1. Leitura, seleção e preparação dos dados"
   ]
  },
  {
   "cell_type": "code",
   "execution_count": 3,
   "id": "b0e48426-fa52-48fb-a4f1-6f236ccc39ce",
   "metadata": {},
   "outputs": [],
   "source": [
    "# Leitura do arquivo parquet gerado pelo Spark\n",
    "df = pd.read_parquet(\"../data/processed/full_data\")"
   ]
  },
  {
   "cell_type": "code",
   "execution_count": 4,
   "id": "5a4cd478-3024-4d16-8fdf-2caf0d98ec42",
   "metadata": {},
   "outputs": [
    {
     "data": {
      "text/html": [
       "<div>\n",
       "<style scoped>\n",
       "    .dataframe tbody tr th:only-of-type {\n",
       "        vertical-align: middle;\n",
       "    }\n",
       "\n",
       "    .dataframe tbody tr th {\n",
       "        vertical-align: top;\n",
       "    }\n",
       "\n",
       "    .dataframe thead th {\n",
       "        text-align: right;\n",
       "    }\n",
       "</style>\n",
       "<table border=\"1\" class=\"dataframe\">\n",
       "  <thead>\n",
       "    <tr style=\"text-align: right;\">\n",
       "      <th></th>\n",
       "      <th>account_id</th>\n",
       "      <th>event</th>\n",
       "      <th>time_since_test_start</th>\n",
       "      <th>value_amount</th>\n",
       "      <th>value_reward</th>\n",
       "      <th>offer_id</th>\n",
       "      <th>age</th>\n",
       "      <th>credit_card_limit</th>\n",
       "      <th>gender</th>\n",
       "      <th>registered_on</th>\n",
       "      <th>...</th>\n",
       "      <th>age_group</th>\n",
       "      <th>credit_limit_bucket</th>\n",
       "      <th>discount_value</th>\n",
       "      <th>duration</th>\n",
       "      <th>min_value</th>\n",
       "      <th>offer_type</th>\n",
       "      <th>channels_mobile</th>\n",
       "      <th>channels_email</th>\n",
       "      <th>channels_social</th>\n",
       "      <th>channels_web</th>\n",
       "    </tr>\n",
       "  </thead>\n",
       "  <tbody>\n",
       "    <tr>\n",
       "      <th>0</th>\n",
       "      <td>78afa995795e4d85b5d9ceeca43f5fef</td>\n",
       "      <td>offer received</td>\n",
       "      <td>0.0</td>\n",
       "      <td>NaN</td>\n",
       "      <td>NaN</td>\n",
       "      <td>9b98b8c7a33c4b65b9aebfe6a799e6d9</td>\n",
       "      <td>75</td>\n",
       "      <td>100000.0</td>\n",
       "      <td>F</td>\n",
       "      <td>20170509</td>\n",
       "      <td>...</td>\n",
       "      <td>Boomers (60+)</td>\n",
       "      <td>Very High (&gt; 60k)</td>\n",
       "      <td>5.0</td>\n",
       "      <td>7.0</td>\n",
       "      <td>5.0</td>\n",
       "      <td>bogo</td>\n",
       "      <td>1.0</td>\n",
       "      <td>1.0</td>\n",
       "      <td>0.0</td>\n",
       "      <td>1.0</td>\n",
       "    </tr>\n",
       "    <tr>\n",
       "      <th>1</th>\n",
       "      <td>a03223e636434f42ac4c3df47e8bac43</td>\n",
       "      <td>offer received</td>\n",
       "      <td>0.0</td>\n",
       "      <td>NaN</td>\n",
       "      <td>NaN</td>\n",
       "      <td>0b1e1539f2cc45b7b9fa7c272da2e1d7</td>\n",
       "      <td>118</td>\n",
       "      <td>63000.0</td>\n",
       "      <td>unknown</td>\n",
       "      <td>20170804</td>\n",
       "      <td>...</td>\n",
       "      <td>Boomers (60+)</td>\n",
       "      <td>Very High (&gt; 60k)</td>\n",
       "      <td>5.0</td>\n",
       "      <td>10.0</td>\n",
       "      <td>20.0</td>\n",
       "      <td>discount</td>\n",
       "      <td>0.0</td>\n",
       "      <td>1.0</td>\n",
       "      <td>0.0</td>\n",
       "      <td>1.0</td>\n",
       "    </tr>\n",
       "    <tr>\n",
       "      <th>2</th>\n",
       "      <td>e2127556f4f64592b11af22de27a7932</td>\n",
       "      <td>offer received</td>\n",
       "      <td>0.0</td>\n",
       "      <td>NaN</td>\n",
       "      <td>NaN</td>\n",
       "      <td>2906b810c7d4411798c6938adc9daaa5</td>\n",
       "      <td>68</td>\n",
       "      <td>70000.0</td>\n",
       "      <td>M</td>\n",
       "      <td>20180426</td>\n",
       "      <td>...</td>\n",
       "      <td>Boomers (60+)</td>\n",
       "      <td>Very High (&gt; 60k)</td>\n",
       "      <td>2.0</td>\n",
       "      <td>7.0</td>\n",
       "      <td>10.0</td>\n",
       "      <td>discount</td>\n",
       "      <td>1.0</td>\n",
       "      <td>1.0</td>\n",
       "      <td>0.0</td>\n",
       "      <td>1.0</td>\n",
       "    </tr>\n",
       "    <tr>\n",
       "      <th>3</th>\n",
       "      <td>8ec6ce2a7e7949b1bf142def7d0e0586</td>\n",
       "      <td>offer received</td>\n",
       "      <td>0.0</td>\n",
       "      <td>NaN</td>\n",
       "      <td>NaN</td>\n",
       "      <td>fafdcd668e3743c1bb461111dcafc2a4</td>\n",
       "      <td>118</td>\n",
       "      <td>63000.0</td>\n",
       "      <td>unknown</td>\n",
       "      <td>20170925</td>\n",
       "      <td>...</td>\n",
       "      <td>Boomers (60+)</td>\n",
       "      <td>Very High (&gt; 60k)</td>\n",
       "      <td>2.0</td>\n",
       "      <td>10.0</td>\n",
       "      <td>10.0</td>\n",
       "      <td>discount</td>\n",
       "      <td>1.0</td>\n",
       "      <td>1.0</td>\n",
       "      <td>1.0</td>\n",
       "      <td>1.0</td>\n",
       "    </tr>\n",
       "    <tr>\n",
       "      <th>4</th>\n",
       "      <td>68617ca6246f4fbc85e91a2a49552598</td>\n",
       "      <td>offer received</td>\n",
       "      <td>0.0</td>\n",
       "      <td>NaN</td>\n",
       "      <td>NaN</td>\n",
       "      <td>4d5c57ea9a6940dd891ad53e9dbe8da0</td>\n",
       "      <td>118</td>\n",
       "      <td>63000.0</td>\n",
       "      <td>unknown</td>\n",
       "      <td>20171002</td>\n",
       "      <td>...</td>\n",
       "      <td>Boomers (60+)</td>\n",
       "      <td>Very High (&gt; 60k)</td>\n",
       "      <td>10.0</td>\n",
       "      <td>5.0</td>\n",
       "      <td>10.0</td>\n",
       "      <td>bogo</td>\n",
       "      <td>1.0</td>\n",
       "      <td>1.0</td>\n",
       "      <td>1.0</td>\n",
       "      <td>1.0</td>\n",
       "    </tr>\n",
       "  </tbody>\n",
       "</table>\n",
       "<p>5 rows × 21 columns</p>\n",
       "</div>"
      ],
      "text/plain": [
       "                         account_id           event  time_since_test_start  \\\n",
       "0  78afa995795e4d85b5d9ceeca43f5fef  offer received                    0.0   \n",
       "1  a03223e636434f42ac4c3df47e8bac43  offer received                    0.0   \n",
       "2  e2127556f4f64592b11af22de27a7932  offer received                    0.0   \n",
       "3  8ec6ce2a7e7949b1bf142def7d0e0586  offer received                    0.0   \n",
       "4  68617ca6246f4fbc85e91a2a49552598  offer received                    0.0   \n",
       "\n",
       "   value_amount  value_reward                          offer_id  age  \\\n",
       "0           NaN           NaN  9b98b8c7a33c4b65b9aebfe6a799e6d9   75   \n",
       "1           NaN           NaN  0b1e1539f2cc45b7b9fa7c272da2e1d7  118   \n",
       "2           NaN           NaN  2906b810c7d4411798c6938adc9daaa5   68   \n",
       "3           NaN           NaN  fafdcd668e3743c1bb461111dcafc2a4  118   \n",
       "4           NaN           NaN  4d5c57ea9a6940dd891ad53e9dbe8da0  118   \n",
       "\n",
       "   credit_card_limit   gender registered_on  ...      age_group  \\\n",
       "0           100000.0        F      20170509  ...  Boomers (60+)   \n",
       "1            63000.0  unknown      20170804  ...  Boomers (60+)   \n",
       "2            70000.0        M      20180426  ...  Boomers (60+)   \n",
       "3            63000.0  unknown      20170925  ...  Boomers (60+)   \n",
       "4            63000.0  unknown      20171002  ...  Boomers (60+)   \n",
       "\n",
       "  credit_limit_bucket discount_value  duration  min_value  offer_type  \\\n",
       "0   Very High (> 60k)            5.0       7.0        5.0        bogo   \n",
       "1   Very High (> 60k)            5.0      10.0       20.0    discount   \n",
       "2   Very High (> 60k)            2.0       7.0       10.0    discount   \n",
       "3   Very High (> 60k)            2.0      10.0       10.0    discount   \n",
       "4   Very High (> 60k)           10.0       5.0       10.0        bogo   \n",
       "\n",
       "  channels_mobile  channels_email  channels_social  channels_web  \n",
       "0             1.0             1.0              0.0           1.0  \n",
       "1             0.0             1.0              0.0           1.0  \n",
       "2             1.0             1.0              0.0           1.0  \n",
       "3             1.0             1.0              1.0           1.0  \n",
       "4             1.0             1.0              1.0           1.0  \n",
       "\n",
       "[5 rows x 21 columns]"
      ]
     },
     "execution_count": 4,
     "metadata": {},
     "output_type": "execute_result"
    }
   ],
   "source": [
    "df.head()"
   ]
  },
  {
   "cell_type": "code",
   "execution_count": 5,
   "id": "ffeeeba9-c9b9-478d-8d46-419b6dabea27",
   "metadata": {},
   "outputs": [
    {
     "data": {
      "text/plain": [
       "(306534, 21)"
      ]
     },
     "execution_count": 5,
     "metadata": {},
     "output_type": "execute_result"
    }
   ],
   "source": [
    "df.shape"
   ]
  },
  {
   "cell_type": "code",
   "execution_count": 6,
   "id": "7d7aa75c-46fb-45bb-89a3-0f0fd92e2dd6",
   "metadata": {},
   "outputs": [
    {
     "name": "stdout",
     "output_type": "stream",
     "text": [
      "<class 'pandas.core.frame.DataFrame'>\n",
      "RangeIndex: 306534 entries, 0 to 306533\n",
      "Data columns (total 21 columns):\n",
      " #   Column                 Non-Null Count   Dtype  \n",
      "---  ------                 --------------   -----  \n",
      " 0   account_id             306534 non-null  object \n",
      " 1   event                  306534 non-null  object \n",
      " 2   time_since_test_start  306534 non-null  float64\n",
      " 3   value_amount           138953 non-null  float64\n",
      " 4   value_reward           33579 non-null   float64\n",
      " 5   offer_id               167581 non-null  object \n",
      " 6   age                    306534 non-null  int64  \n",
      " 7   credit_card_limit      306534 non-null  float64\n",
      " 8   gender                 306534 non-null  object \n",
      " 9   registered_on          306534 non-null  object \n",
      " 10  birth_year             306534 non-null  int64  \n",
      " 11  age_group              306534 non-null  object \n",
      " 12  credit_limit_bucket    306534 non-null  object \n",
      " 13  discount_value         167581 non-null  float64\n",
      " 14  duration               167581 non-null  float64\n",
      " 15  min_value              167581 non-null  float64\n",
      " 16  offer_type             167581 non-null  object \n",
      " 17  channels_mobile        167581 non-null  float64\n",
      " 18  channels_email         167581 non-null  float64\n",
      " 19  channels_social        167581 non-null  float64\n",
      " 20  channels_web           167581 non-null  float64\n",
      "dtypes: float64(11), int64(2), object(8)\n",
      "memory usage: 49.1+ MB\n"
     ]
    }
   ],
   "source": [
    "df.info()"
   ]
  },
  {
   "cell_type": "markdown",
   "id": "e8e4d949-1b19-45a0-9ae6-865e7f9944bb",
   "metadata": {},
   "source": [
    "### 1.1 Seleção das ofertas recebidas e completadas e criação da label (target)"
   ]
  },
  {
   "cell_type": "code",
   "execution_count": 7,
   "id": "015bcbed-94fc-451a-9ea7-ce7ed8e0f853",
   "metadata": {},
   "outputs": [],
   "source": [
    "offers_df = df[df[\"event\"].isin([\"offer received\", \"offer completed\"])].copy()"
   ]
  },
  {
   "cell_type": "code",
   "execution_count": 8,
   "id": "47fb35fa-4a98-48c9-ab91-2f3078847dc3",
   "metadata": {},
   "outputs": [],
   "source": [
    "offers_df[\"label\"] = (offers_df[\"event\"] == \"offer completed\").astype(int)"
   ]
  },
  {
   "cell_type": "markdown",
   "id": "856c70c2-698e-4ea5-8871-2bcfb9831ff1",
   "metadata": {},
   "source": [
    "### 1.2 Verificação do balanceamento dos dados"
   ]
  },
  {
   "cell_type": "code",
   "execution_count": 9,
   "id": "295f94dd-6440-4bdc-88a7-43201f7c874f",
   "metadata": {},
   "outputs": [
    {
     "data": {
      "text/html": [
       "<div>\n",
       "<style scoped>\n",
       "    .dataframe tbody tr th:only-of-type {\n",
       "        vertical-align: middle;\n",
       "    }\n",
       "\n",
       "    .dataframe tbody tr th {\n",
       "        vertical-align: top;\n",
       "    }\n",
       "\n",
       "    .dataframe thead th {\n",
       "        text-align: right;\n",
       "    }\n",
       "</style>\n",
       "<table border=\"1\" class=\"dataframe\">\n",
       "  <thead>\n",
       "    <tr style=\"text-align: right;\">\n",
       "      <th></th>\n",
       "      <th>count</th>\n",
       "      <th>proportion</th>\n",
       "    </tr>\n",
       "    <tr>\n",
       "      <th>label</th>\n",
       "      <th></th>\n",
       "      <th></th>\n",
       "    </tr>\n",
       "  </thead>\n",
       "  <tbody>\n",
       "    <tr>\n",
       "      <th>0</th>\n",
       "      <td>76277</td>\n",
       "      <td>69.433622</td>\n",
       "    </tr>\n",
       "    <tr>\n",
       "      <th>1</th>\n",
       "      <td>33579</td>\n",
       "      <td>30.566378</td>\n",
       "    </tr>\n",
       "  </tbody>\n",
       "</table>\n",
       "</div>"
      ],
      "text/plain": [
       "       count  proportion\n",
       "label                   \n",
       "0      76277   69.433622\n",
       "1      33579   30.566378"
      ]
     },
     "execution_count": 9,
     "metadata": {},
     "output_type": "execute_result"
    }
   ],
   "source": [
    "pd.concat([offers_df['label'].value_counts(), \n",
    "          offers_df['label'].value_counts(normalize=True)*100], axis=1)"
   ]
  },
  {
   "cell_type": "markdown",
   "id": "ad597fd0-f547-481c-b699-9ca3b86b5ad7",
   "metadata": {},
   "source": [
    "### 1.3 Seleção das features"
   ]
  },
  {
   "cell_type": "code",
   "execution_count": 10,
   "id": "a7f518aa-2447-44db-aec7-8e9c5c46738e",
   "metadata": {},
   "outputs": [
    {
     "data": {
      "text/plain": [
       "['account_id',\n",
       " 'event',\n",
       " 'time_since_test_start',\n",
       " 'value_amount',\n",
       " 'value_reward',\n",
       " 'offer_id',\n",
       " 'age',\n",
       " 'credit_card_limit',\n",
       " 'gender',\n",
       " 'registered_on',\n",
       " 'birth_year',\n",
       " 'age_group',\n",
       " 'credit_limit_bucket',\n",
       " 'discount_value',\n",
       " 'duration',\n",
       " 'min_value',\n",
       " 'offer_type',\n",
       " 'channels_mobile',\n",
       " 'channels_email',\n",
       " 'channels_social',\n",
       " 'channels_web',\n",
       " 'label']"
      ]
     },
     "execution_count": 10,
     "metadata": {},
     "output_type": "execute_result"
    }
   ],
   "source": [
    "list(offers_df.columns)"
   ]
  },
  {
   "cell_type": "code",
   "execution_count": 11,
   "id": "07fcd1d6-b8ae-4aec-ad1d-cfda8e145ed8",
   "metadata": {},
   "outputs": [
    {
     "name": "stdout",
     "output_type": "stream",
     "text": [
      "❌ Colunas extras: ['account_id', 'event', 'time_since_test_start', 'value_amount', 'value_reward', 'offer_id', 'registered_on']\n"
     ]
    }
   ],
   "source": [
    "# 🧱 Mantém apenas colunas relevantes\n",
    "features = [\n",
    "    \"age\", \"gender\", \"credit_card_limit\",\n",
    "    \"birth_year\", \"age_group\", \"credit_limit_bucket\", \"offer_type\",\n",
    "    \"discount_value\", \"duration\", \"min_value\", \"channels_email\",\n",
    "    \"channels_mobile\", \"channels_social\", \"channels_web\"\n",
    "]\n",
    "extra_columns = [col for col in df.columns if col not in features]\n",
    "print(\"❌ Colunas extras:\", extra_columns)"
   ]
  },
  {
   "cell_type": "markdown",
   "id": "dc783897-b942-46eb-9e45-3e49c8ed790b",
   "metadata": {},
   "source": [
    "## 2. Divisão dos dados em treino e teste"
   ]
  },
  {
   "cell_type": "code",
   "execution_count": 12,
   "id": "943b5c63-6013-4dcc-93c3-24cf2767525b",
   "metadata": {},
   "outputs": [],
   "source": [
    "from sklearn.model_selection import train_test_split"
   ]
  },
  {
   "cell_type": "code",
   "execution_count": 13,
   "id": "4055a406-55b8-4f5b-8917-d6280d39f719",
   "metadata": {},
   "outputs": [
    {
     "name": "stdout",
     "output_type": "stream",
     "text": [
      "🔹 Treino: 87884 amostras\n",
      "🔹 Teste:  21972 amostras\n"
     ]
    }
   ],
   "source": [
    "# Separando variáveis preditoras e alvo\n",
    "X = offers_df[features]\n",
    "y = offers_df[\"label\"]\n",
    "\n",
    "# Separação treino/teste (80/20)\n",
    "X_train, X_test, y_train, y_test = train_test_split(\n",
    "    X, y, test_size=0.2, stratify=y, random_state=42\n",
    ")\n",
    "\n",
    "# Verificação de tamanhos\n",
    "print(f\"🔹 Treino: {len(X_train)} amostras\")\n",
    "print(f\"🔹 Teste:  {len(X_test)} amostras\")\n"
   ]
  },
  {
   "cell_type": "markdown",
   "id": "c7094bb6-1df4-49a9-ae21-f96224a72ccc",
   "metadata": {},
   "source": [
    "## 3. Pipeline de treinamento preparação dos dados (dados categoricos e dados numericos)"
   ]
  },
  {
   "cell_type": "code",
   "execution_count": 14,
   "id": "1fa9b77f-30f2-43d3-ad36-3c7e8d8faf81",
   "metadata": {},
   "outputs": [],
   "source": [
    "from sklearn.pipeline import Pipeline\n",
    "from sklearn.compose import ColumnTransformer\n",
    "from sklearn.preprocessing import StandardScaler, OneHotEncoder\n",
    "from sklearn.impute import SimpleImputer"
   ]
  },
  {
   "cell_type": "code",
   "execution_count": 15,
   "id": "fbe4ba99-5bcc-4afe-aff1-8d4be4fcbff2",
   "metadata": {},
   "outputs": [],
   "source": [
    "# Listas de colunas\n",
    "categorical_features = ['gender', 'age_group', 'credit_limit_bucket', 'offer_type']\n",
    "numerical_features = ['age', 'credit_card_limit', 'duration', 'min_value', 'discount_value']\n",
    "\n",
    "categorical_features = X.select_dtypes(include=\"object\").columns.tolist()\n",
    "numerical_features = X.select_dtypes(include=[\"int64\", \"float64\"]).columns.tolist()"
   ]
  },
  {
   "cell_type": "code",
   "execution_count": 16,
   "id": "ff2373ce-97ed-4889-a977-51b884f55707",
   "metadata": {},
   "outputs": [],
   "source": [
    "# 🔧 Preprocessadores\n",
    "numeric_pipeline = Pipeline([\n",
    "    (\"imputer\", SimpleImputer(strategy=\"median\")),\n",
    "    (\"scaler\", StandardScaler())\n",
    "])\n",
    "\n",
    "categorical_pipeline = Pipeline([\n",
    "    (\"imputer\", SimpleImputer(strategy=\"most_frequent\")),\n",
    "    (\"encoder\", OneHotEncoder(handle_unknown=\"ignore\"))\n",
    "])\n",
    "\n",
    "preprocessor = ColumnTransformer([\n",
    "    (\"num\", numeric_pipeline, numerical_features),\n",
    "    (\"cat\", categorical_pipeline, categorical_features)\n",
    "])\n"
   ]
  },
  {
   "cell_type": "markdown",
   "id": "16abbed6-47f1-477d-8bf5-df616403d423",
   "metadata": {},
   "source": [
    "## 4. Definição dos modelos e parâmetros\n",
    "\n",
    "| Algoritmo           | Justificativa de Escolha                                                                                         | Pontos Fortes                                                                                         | Pontos Fracos                                                                                      |\n",
    "|---------------------|-------------------------------------------------------------------------------------------------------------------|--------------------------------------------------------------------------------------------------------|----------------------------------------------------------------------------------------------------|\n",
    "| Logistic Regression | Serve como baseline simples e interpretável. Permite entender a influência de cada variável no comportamento.     | Interpretação fácil, rápido, boa generalização com regularização.                                      | Supõe linearidade entre variáveis, pode ser limitado em problemas complexos.                     |\n",
    "| Random Forest       | Algoritmo robusto e versátil, adequado para conjuntos de dados com muitas variáveis e relações não lineares.      | Lida bem com outliers e variáveis categóricas, baixa chance de overfitting.                           | Pode ser lento para grandes volumes e menos eficiente em ranqueamento de top-K.                  |\n",
    "| XGBoost             | Estado da arte para problemas com desbalanceamento. Muito eficaz para previsão de eventos raros como conversão.   | Alta performance, controle fino dos parâmetros, bom para ensembles e dados desbalanceados.             | Risco de overfitting, exige mais tuning e sensível à qualidade de dados.                         |\n",
    "| CatBoost            | Otimizado para variáveis categóricas e possui bom desempenho geral sem tanto ajuste.                              | Funciona bem com dados tabulares, excelente tratamento de dados categóricos sem muita engenharia.     | Mais difícil de interpretar, ainda sensível ao desbalanceamento se `class_weights` não ajustado. |\n"
   ]
  },
  {
   "cell_type": "code",
   "execution_count": 33,
   "id": "28284926-efdb-4eeb-837b-c5d7bc464bd7",
   "metadata": {},
   "outputs": [],
   "source": [
    "from sklearn.model_selection import train_test_split, GridSearchCV\n",
    "from sklearn.linear_model import LogisticRegression\n",
    "from sklearn.ensemble import RandomForestClassifier\n",
    "from catboost import CatBoostClassifier\n",
    "from xgboost import XGBClassifier\n",
    "\n",
    "from sklearn.metrics import classification_report\n",
    "from sklearn.linear_model import LogisticRegression\n",
    "from collections import Counter"
   ]
  },
  {
   "cell_type": "code",
   "execution_count": 34,
   "id": "b33459be-b10c-4417-b211-db1354008fc4",
   "metadata": {},
   "outputs": [],
   "source": [
    "# Calcular o peso para a classe 1\n",
    "counter = Counter(y_train)\n",
    "scale_pos_weight = counter[0] / counter[1]\n",
    "\n",
    "models = {\n",
    "    \"LogisticRegression\": (\n",
    "        LogisticRegression(max_iter=2000, solver=\"liblinear\"),\n",
    "        {\n",
    "            \"model__C\": [0.01, 0.1, 1, 10],\n",
    "            \"model__class_weight\": [None, \"balanced\"]\n",
    "        }\n",
    "    ),\n",
    "    \"RandomForest\": (\n",
    "        RandomForestClassifier(random_state=42),\n",
    "        {\n",
    "            \"model__n_estimators\": [100, 200, 500],\n",
    "            \"model__max_depth\": [10, 20, None],\n",
    "            \"model__class_weight\": [None, \"balanced\"]\n",
    "        }\n",
    "    ),\n",
    "    \"XGBoost\": (\n",
    "        XGBClassifier(eval_metric=\"logloss\",  \n",
    "                      scale_pos_weight=scale_pos_weight,\n",
    "                      random_state=42, \n",
    "                      verbosity=0),\n",
    "        {\n",
    "            \"model__n_estimators\": [100, 200, 500],\n",
    "            \"model__max_depth\": [3, 5, 7],\n",
    "            \"model__learning_rate\": [0.1, 0.01],\n",
    "            \"model__subsample\": [0.8, 1.0],\n",
    "            \"model__colsample_bytree\": [0.8, 1.0]\n",
    "        }\n",
    "    ),\n",
    "    \"CatBoost\": (\n",
    "        CatBoostClassifier(verbose=0, random_state=42),\n",
    "        {\n",
    "            \"model__iterations\": [100, 200, 500],\n",
    "            \"model__depth\": [6, 10],\n",
    "            \"model__learning_rate\": [0.1, 0.05],\n",
    "            \"model__l2_leaf_reg\": [1, 3, 5]\n",
    "        }\n",
    "    )\n",
    "}"
   ]
  },
  {
   "cell_type": "markdown",
   "id": "c2a1c440-d190-4cac-b7a4-24950cab2287",
   "metadata": {},
   "source": [
    "## 5. Avaliação dos modelos\n",
    "\n",
    "✅ Qual a vantagem de usar precision?\n",
    "- custo alto de falso positivo ()\n",
    "- Se você prever que um cliente vai completar uma oferta e ele não completa (falso positivo), você pode gastar uma verba de marketing à toa.\n",
    "\n",
    "✅ Qual a vantagem de usar recall?\n",
    "- Custo alto de falso negativo\n",
    "- Se você não prever que o cliente completaria (falso negativo), você perde uma oportunidade de engajamento.\n",
    "\n",
    "🎯 **F1 Score – A melhor candidata para este caso (equilibra o precision e recall)**\n",
    "\n",
    "✅ Por que F1 Score?\n",
    "- F1 Score = 2 × (Precision × Recall) / (Precision + Recall)\n",
    "- Ele equilibra os dois, sendo especialmente útil em bases desbalanceadas."
   ]
  },
  {
   "cell_type": "code",
   "execution_count": 35,
   "id": "61364020-db18-4e33-bd18-519c87870d0b",
   "metadata": {},
   "outputs": [],
   "source": [
    "from src.ml.metrics import precision_at_k, recall_at_k, f1_at_k"
   ]
  },
  {
   "cell_type": "code",
   "execution_count": 36,
   "id": "99aaf520-3b85-4e74-af77-0fea1a499c5b",
   "metadata": {},
   "outputs": [],
   "source": [
    "os.makedirs(\"../reports\", exist_ok=True)"
   ]
  },
  {
   "cell_type": "code",
   "execution_count": null,
   "id": "7d9f5f78-1fb6-4ef2-9d66-254da09da174",
   "metadata": {},
   "outputs": [
    {
     "name": "stdout",
     "output_type": "stream",
     "text": [
      "\n",
      "🔍 Treinando modelo: LogisticRegression\n",
      "Fitting 5 folds for each of 8 candidates, totalling 40 fits\n",
      "✅ Melhores parâmetros (LogisticRegression): {'model__C': 0.1, 'model__class_weight': 'balanced'}\n",
      "\n",
      "📊 Avaliação no TESTE:\n",
      "              precision    recall  f1-score   support\n",
      "\n",
      "           0       0.87      0.46      0.60     15256\n",
      "           1       0.41      0.84      0.55      6716\n",
      "\n",
      "    accuracy                           0.58     21972\n",
      "   macro avg       0.64      0.65      0.57     21972\n",
      "weighted avg       0.73      0.58      0.59     21972\n",
      "\n",
      "🎯 Precision@10: 70.00%\n",
      "🎯 Recall@10: 0.10%\n",
      "🎯 F1@10: 0.21%\n",
      "\n",
      "🔍 Treinando modelo: RandomForest\n",
      "Fitting 5 folds for each of 18 candidates, totalling 90 fits\n"
     ]
    },
    {
     "name": "stderr",
     "output_type": "stream",
     "text": [
      "/usr/local/lib/python3.11/site-packages/joblib/externals/loky/process_executor.py:752: UserWarning: A worker stopped while some jobs were given to the executor. This can be caused by a too short worker timeout or by a memory leak.\n",
      "  warnings.warn(\n"
     ]
    },
    {
     "name": "stdout",
     "output_type": "stream",
     "text": [
      "✅ Melhores parâmetros (RandomForest): {'model__class_weight': 'balanced', 'model__max_depth': 10, 'model__n_estimators': 200}\n",
      "\n",
      "📊 Avaliação no TESTE:\n",
      "              precision    recall  f1-score   support\n",
      "\n",
      "           0       0.88      0.42      0.57     15256\n",
      "           1       0.40      0.87      0.55      6716\n",
      "\n",
      "    accuracy                           0.56     21972\n",
      "   macro avg       0.64      0.65      0.56     21972\n",
      "weighted avg       0.73      0.56      0.56     21972\n",
      "\n",
      "🎯 Precision@10: 10.00%\n",
      "🎯 Recall@10: 0.01%\n",
      "🎯 F1@10: 0.03%\n",
      "\n",
      "🔍 Treinando modelo: XGBoost\n",
      "Fitting 5 folds for each of 72 candidates, totalling 360 fits\n"
     ]
    },
    {
     "name": "stderr",
     "output_type": "stream",
     "text": [
      "/usr/local/lib/python3.11/site-packages/joblib/externals/loky/process_executor.py:752: UserWarning: A worker stopped while some jobs were given to the executor. This can be caused by a too short worker timeout or by a memory leak.\n",
      "  warnings.warn(\n"
     ]
    },
    {
     "name": "stdout",
     "output_type": "stream",
     "text": [
      "✅ Melhores parâmetros (XGBoost): {'model__colsample_bytree': 0.8, 'model__learning_rate': 0.1, 'model__max_depth': 3, 'model__n_estimators': 500, 'model__subsample': 0.8}\n",
      "\n",
      "📊 Avaliação no TESTE:\n",
      "              precision    recall  f1-score   support\n",
      "\n",
      "           0       0.88      0.45      0.59     15256\n",
      "           1       0.41      0.86      0.55      6716\n",
      "\n",
      "    accuracy                           0.57     21972\n",
      "   macro avg       0.64      0.65      0.57     21972\n",
      "weighted avg       0.74      0.57      0.58     21972\n",
      "\n",
      "🎯 Precision@10: 30.00%\n",
      "🎯 Recall@10: 0.04%\n",
      "🎯 F1@10: 0.09%\n",
      "\n",
      "🔍 Treinando modelo: CatBoost\n",
      "Fitting 5 folds for each of 36 candidates, totalling 180 fits\n"
     ]
    },
    {
     "name": "stderr",
     "output_type": "stream",
     "text": [
      "/usr/local/lib/python3.11/site-packages/joblib/externals/loky/process_executor.py:752: UserWarning: A worker stopped while some jobs were given to the executor. This can be caused by a too short worker timeout or by a memory leak.\n",
      "  warnings.warn(\n"
     ]
    }
   ],
   "source": [
    "# 🔍 Treinamento e avaliação com Top-K\n",
    "results = {}\n",
    "k = 10  # ou int(0.05 * len(y_test))\n",
    "\n",
    "for name, (model, param_grid) in models.items():\n",
    "    print(f\"\\n🔍 Treinando modelo: {name}\")\n",
    "    \n",
    "    pipe = Pipeline([\n",
    "        (\"preprocessor\", preprocessor),\n",
    "        (\"model\", model)\n",
    "    ])\n",
    "\n",
    "    grid = GridSearchCV(\n",
    "        pipe, \n",
    "        param_grid, \n",
    "        scoring=\"f1\", \n",
    "        cv=5, \n",
    "        n_jobs=-1,\n",
    "        verbose=1\n",
    "    )\n",
    "    \n",
    "    grid.fit(X_train, y_train)\n",
    "\n",
    "    print(f\"✅ Melhores parâmetros ({name}): {grid.best_params_}\")\n",
    "\n",
    "    # Predições\n",
    "    test_pred = grid.predict(X_test)\n",
    "    test_probs = grid.predict_proba(X_test)[:, 1]\n",
    "\n",
    "    # 🎯 Avaliações Top-K\n",
    "    precision_topk = precision_at_k(y_test, test_probs, k)\n",
    "    recall_topk = recall_at_k(y_test, test_probs, k)\n",
    "    f1_topk = f1_at_k(y_test, test_probs, k)\n",
    "\n",
    "    print(\"\\n📊 Avaliação no TESTE:\")\n",
    "    print(classification_report(y_test, test_pred))\n",
    "    print(f\"🎯 Precision@{k}: {precision_topk:.2%}\")\n",
    "    print(f\"🎯 Recall@{k}: {recall_topk:.2%}\")\n",
    "    print(f\"🎯 F1@{k}: {f1_topk:.2%}\")\n",
    "\n",
    "    # Salvar resultados\n",
    "    results[name] = {\n",
    "        \"best_estimator\": grid.best_estimator_,\n",
    "        \"test_report\": classification_report(y_test, test_pred, output_dict=True),\n",
    "        \"accuracy\": grid.score(X_test, y_test),\n",
    "        \"precision\": precision_topk,\n",
    "        \"recall\": recall_topk,\n",
    "        \"f1_score\": f1_topk,\n",
    "        f\"precision_at_{k}\": precision_topk,\n",
    "        f\"recall_at_{k}\": recall_topk,\n",
    "        f\"f1_at_{k}\": f1_topk\n",
    "    }\n"
   ]
  },
  {
   "cell_type": "code",
   "execution_count": 30,
   "id": "98256b7d-78b0-4fc9-ac67-baf23f06bcbd",
   "metadata": {},
   "outputs": [
    {
     "name": "stdout",
     "output_type": "stream",
     "text": [
      "\n",
      "✅ Resultados salvos em: ../reports/classification_result.csv\n"
     ]
    }
   ],
   "source": [
    "# Salva os resultados em CSV\n",
    "df_results = pd.DataFrame(results).T\n",
    "df_results.to_csv(\"../reports/classification_result.csv\", index=False, sep=';')\n",
    "print(\"\\n✅ Resultados salvos em: ../reports/classification_result.csv\")"
   ]
  },
  {
   "cell_type": "markdown",
   "id": "6d82f2e0-f536-42fa-a828-ee38023c323e",
   "metadata": {},
   "source": [
    "### 📊 6. Comparativo de Modelos – Resultados e Discussão\n",
    "\n",
    "### 🔍 Conclusões\n",
    "\n",
    "- **Logistic Regression** entrega o melhor **equilíbrio entre métricas clássicas e Top-K**, mesmo sendo um modelo linear.\n",
    "- **Random Forest** acerta muitos casos de conversão, mas **não consegue priorizar bem os top leads**.\n",
    "- **XGBoost** e **CatBoost** parecem fortemente enviesados pela maioria (classe 0). Isso **reflete na baixa capacidade de prever classe 1**.\n",
    "- Para o negócio do iFood, **maximizar Precision@K e Recall@K** é fundamental — e apenas o modelo logístico entrega resultados relevantes nisso.\n"
   ]
  },
  {
   "cell_type": "code",
   "execution_count": null,
   "id": "16f7fa10-f066-49de-b50e-dc589ac83a65",
   "metadata": {},
   "outputs": [],
   "source": []
  }
 ],
 "metadata": {
  "kernelspec": {
   "display_name": "Python 3 (ipykernel)",
   "language": "python",
   "name": "python3"
  },
  "language_info": {
   "codemirror_mode": {
    "name": "ipython",
    "version": 3
   },
   "file_extension": ".py",
   "mimetype": "text/x-python",
   "name": "python",
   "nbconvert_exporter": "python",
   "pygments_lexer": "ipython3",
   "version": "3.11.11"
  }
 },
 "nbformat": 4,
 "nbformat_minor": 5
}
