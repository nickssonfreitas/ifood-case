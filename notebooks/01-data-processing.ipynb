{
 "cells": [
  {
   "cell_type": "markdown",
   "id": "6381b590-08c8-405d-9fd0-a314c486de49",
   "metadata": {},
   "source": [
    "# 📊 Notebook 1 — Processamento e Preparação de Dados\n",
    "\n",
    "Este notebook tem como objetivo realizar a **exploração, limpeza e preparação dos dados brutos** do case técnico proposto, utilizando **PySpark** como engine principal de processamento distribuído.\n",
    "\n",
    "---\n",
    "\n",
    "## 🎯 Objetivo\n",
    "\n",
    "- Carregar os dados brutos fornecidos (`customers.json.gz`, `offers.json.gz`, `transactions.json.gz`)\n",
    "- Realizar uma análise exploratória inicial (**EDA**) para entender a estrutura, qualidade e distribuição dos dados\n",
    "- Tratar dados faltantes, tipos e formatos\n",
    "- Preparar um conjunto de dados unificado e otimizado para análise e modelagem futura\n",
    "- Salvar os dados tratados em formato **Parquet**, que é mais eficiente e leve para uso com Spark\n",
    "\n",
    "## 🔁 Etapas executadas neste notebook\n",
    "\n",
    "1. Importação de bibliotecas e configuração do ambiente PySpark\n",
    "2. Leitura dos arquivos `.json.gz` diretamente com Spark\n",
    "3. Exploração e validação de schemas e estatísticas dos dados\n",
    "4. Tratamento de dados ausentes, inconsistentes ou inválidos\n",
    "5. Conversão para formatos otimizados (`.parquet`)\n",
    "6. Exportação dos dados tratados para `data/processed/`\n",
    "\n",
    "---\n",
    "\n",
    "## 🗂️ Estrutura esperada dos dados\n",
    "\n",
    "- `data/raw/` → Arquivos `.json.gz` (compactados)\n",
    "- `data/processed/` → Arquivos `.parquet` tratados e otimizados\n",
    "\n",
    "---\n",
    "\n",
    "## ⚙️ Tecnologias utilizadas\n",
    "\n",
    "- Python 3.11\n",
    "- PySpark\n",
    "- JupyterLab\n",
    "- Pandas (suporte auxiliar para análise exploratória)\n"
   ]
  },
  {
   "cell_type": "markdown",
   "id": "4982ded1-364a-414f-98cb-808087dbe2b5",
   "metadata": {},
   "source": [
    "## 1. 📦 Importação de bibliotecas e configuração do PySpark\n",
    "\n",
    "Nesta etapa, vamos:\n",
    "\n",
    "- Importar as bibliotecas necessárias para manipulação e análise dos dados\n",
    "- Inicializar a sessão do PySpark (`SparkSession`), que será usada para leitura, transformação e gravação dos dados\n",
    "- Configurar parâmetros básicos de execução, como nome da aplicação e quantidade de memória (caso necessário)"
   ]
  },
  {
   "cell_type": "code",
   "execution_count": 1,
   "id": "19987cee-1254-42c6-a6c9-0e311043f36b",
   "metadata": {},
   "outputs": [],
   "source": [
    "import sys\n",
    "import os\n",
    "\n",
    "# Obtém o caminho absoluto do diretório 'src'\n",
    "src_path = os.path.abspath(\"../\")\n",
    "# Adiciona 'src' ao sys.path\n",
    "if src_path not in sys.path:\n",
    "    sys.path.append(src_path)\n",
    "\n",
    "from pyspark.sql import SparkSession\n",
    "from pyspark.sql.functions import col, when, isnan, count\n",
    "from pathlib import Path"
   ]
  },
  {
   "cell_type": "code",
   "execution_count": 2,
   "id": "89f5d922-f3f8-434e-b504-14a75864093c",
   "metadata": {},
   "outputs": [
    {
     "data": {
      "text/plain": [
       "['/usr/local/lib/python311.zip',\n",
       " '/usr/local/lib/python3.11',\n",
       " '/usr/local/lib/python3.11/lib-dynload',\n",
       " '',\n",
       " '/usr/local/lib/python3.11/site-packages',\n",
       " '/app']"
      ]
     },
     "execution_count": 2,
     "metadata": {},
     "output_type": "execute_result"
    }
   ],
   "source": [
    "sys.path"
   ]
  },
  {
   "cell_type": "code",
   "execution_count": 3,
   "id": "fa0dd7c6-5ba0-4ee5-b415-c920b9bd24fd",
   "metadata": {},
   "outputs": [
    {
     "name": "stderr",
     "output_type": "stream",
     "text": [
      "Setting default log level to \"WARN\".\n",
      "To adjust logging level use sc.setLogLevel(newLevel). For SparkR, use setLogLevel(newLevel).\n",
      "25/03/28 02:32:21 WARN NativeCodeLoader: Unable to load native-hadoop library for your platform... using builtin-java classes where applicable\n"
     ]
    },
    {
     "name": "stdout",
     "output_type": "stream",
     "text": [
      "✅ SparkSession iniciada com sucesso!\n"
     ]
    }
   ],
   "source": [
    "# Inicialização do SparkSession\n",
    "spark = SparkSession.builder \\\n",
    "    .appName(\"iFood - Data Processing\") \\\n",
    "    .getOrCreate()\n",
    "\n",
    "#Testa se Spark está funcionando\n",
    "spark.sparkContext.setLogLevel(\"WARN\")\n",
    "print(\"✅ SparkSession iniciada com sucesso!\")\n"
   ]
  },
  {
   "cell_type": "markdown",
   "id": "8c030c96-251b-4702-bafa-04a302652a0d",
   "metadata": {},
   "source": [
    "## 2. Leitura e entendimento dos dados brutos (.json.gz)\n",
    "\n",
    "Nesta etapa, vamos:\n",
    "\n",
    "- Ler os três conjuntos de dados fornecidos: `offers.json`, `customers.json` e `transactions.json`\n",
    "- Compreender a estrutura e os tipos de dados presentes em cada conjunto\n",
    "- Preparar os dados para as próximas etapas do pipeline\n",
    "\n",
    "### 🟦 `customers.json`\n",
    "\n",
    "Contém atributos de aproximadamente **17 mil clientes** registrados:\n",
    "\n",
    "| Coluna              | Tipo     | Descrição                                          |\n",
    "|---------------------|----------|----------------------------------------------------|\n",
    "| `id`                | `string` | ID único do cliente                                |\n",
    "| `age`               | `int`    | Idade no momento de criação da conta               |\n",
    "| `registered_on`     | `int`    | Data de criação da conta (em dias desde o início do teste) |\n",
    "| `gender`            | `string` | Gênero do cliente (`M`, `F`, `O`, ou `NULL`)        |\n",
    "| `credit_card_limit` | `float`  | Limite de crédito informado na conta               |\n",
    "\n",
    "---\n",
    "### 🟩 `offers.json`\n",
    "\n",
    "Contém os **IDs das ofertas** e seus respectivos **metadados**:\n",
    "\n",
    "| Coluna           | Tipo           | Descrição                                          |\n",
    "|------------------|----------------|----------------------------------------------------|\n",
    "| `id`             | `string`       | ID único da oferta                                 |\n",
    "| `offer_type`     | `string`       | Tipo da oferta: `bogo`, `discount` ou `informational` |\n",
    "| `min_value`      | `int`          | Valor mínimo necessário para ativar a oferta       |\n",
    "| `duration`       | `int`          | Duração da oferta (em dias)                        |\n",
    "| `discount_value` | `int`          | Valor do desconto aplicado                         |\n",
    "| `channels`       | `array<string>`| Canais de veiculação (ex: `email`, `mobile`, etc.) |\n",
    "\n",
    "---\n",
    "\n",
    "### 🟨 `transactions.json`\n",
    "\n",
    "Contém cerca de **300 mil eventos** registrados durante o período de teste:\n",
    "\n",
    "| Coluna              | Tipo      | Descrição                                          |\n",
    "|---------------------|-----------|----------------------------------------------------|\n",
    "| `event`             | `string`  | Tipo do evento (`transaction`, `offer received`, etc.) |\n",
    "| `account_id`        | `string`  | ID do cliente associado ao evento                 |\n",
    "| `time_since_test_start` | `int` | Tempo (em dias) desde o início do experimento     |\n",
    "| `value`             | `json`    | Valor associado ao evento (`offer_id`, `reward` ou `amount`) |\n",
    "\n",
    "---\n",
    "\n",
    "🔍 Vamos agora carregarboth_present_df = df.filter(\n",
    "    col(\"value.offer_id\").isNotNull() & col(\"value.`offer id`\").isNotNull()\n",
    ") esses arquivos utilizando o **PySpark**, garantindo que os tipos de dados sejam corretamente interpretados e que os dados estejam prontos para análise\n"
   ]
  },
  {
   "cell_type": "code",
   "execution_count": 4,
   "id": "c06caeb9-21a5-472d-8b8f-f28016000388",
   "metadata": {},
   "outputs": [
    {
     "name": "stderr",
     "output_type": "stream",
     "text": [
      "                                                                                "
     ]
    }
   ],
   "source": [
    "# Lê os arquivos JSON compactados com PySpark\n",
    "customers_df = spark.read.json(\"/app/data/raw/profile.json.gz\")\n",
    "offers_df = spark.read.json(\"/app/data/raw/offers.json.gz\")\n",
    "transactions_df = spark.read.json(\"/app/data/raw/transactions.json.gz\")"
   ]
  },
  {
   "cell_type": "code",
   "execution_count": 5,
   "id": "24781c02-bef3-4f90-a225-5b6ab59c4e22",
   "metadata": {},
   "outputs": [
    {
     "name": "stdout",
     "output_type": "stream",
     "text": [
      "👤 Customers:\n",
      "+---+-----------------+------+--------------------------------+-------------+\n",
      "|age|credit_card_limit|gender|id                              |registered_on|\n",
      "+---+-----------------+------+--------------------------------+-------------+\n",
      "|118|NULL             |NULL  |68be06ca386d4c31939f3a4f0e3dd783|20170212     |\n",
      "|55 |112000.0         |F     |0610b486422d4921ae7d2bf64640c50b|20170715     |\n",
      "|118|NULL             |NULL  |38fe809add3b4fcf9315a9694bb96ff5|20180712     |\n",
      "|75 |100000.0         |F     |78afa995795e4d85b5d9ceeca43f5fef|20170509     |\n",
      "|118|NULL             |NULL  |a03223e636434f42ac4c3df47e8bac43|20170804     |\n",
      "+---+-----------------+------+--------------------------------+-------------+\n",
      "only showing top 5 rows\n",
      "\n",
      "🏷️ Offers:\n",
      "+----------------------------+--------------+--------+--------------------------------+---------+-------------+\n",
      "|channels                    |discount_value|duration|id                              |min_value|offer_type   |\n",
      "+----------------------------+--------------+--------+--------------------------------+---------+-------------+\n",
      "|[email, mobile, social]     |10            |7.0     |ae264e3637204a6fb9bb56bc8210ddfd|10       |bogo         |\n",
      "|[web, email, mobile, social]|10            |5.0     |4d5c57ea9a6940dd891ad53e9dbe8da0|10       |bogo         |\n",
      "|[web, email, mobile]        |0             |4.0     |3f207df678b143eea3cee63160fa8bed|0        |informational|\n",
      "|[web, email, mobile]        |5             |7.0     |9b98b8c7a33c4b65b9aebfe6a799e6d9|5        |bogo         |\n",
      "|[web, email]                |5             |10.0    |0b1e1539f2cc45b7b9fa7c272da2e1d7|20       |discount     |\n",
      "+----------------------------+--------------+--------+--------------------------------+---------+-------------+\n",
      "only showing top 5 rows\n",
      "\n",
      "💳 Transactions:\n",
      "+--------------------------------+--------------+---------------------+----------------------------------------------------+\n",
      "|account_id                      |event         |time_since_test_start|value                                               |\n",
      "+--------------------------------+--------------+---------------------+----------------------------------------------------+\n",
      "|78afa995795e4d85b5d9ceeca43f5fef|offer received|0.0                  |{NULL, 9b98b8c7a33c4b65b9aebfe6a799e6d9, NULL, NULL}|\n",
      "|a03223e636434f42ac4c3df47e8bac43|offer received|0.0                  |{NULL, 0b1e1539f2cc45b7b9fa7c272da2e1d7, NULL, NULL}|\n",
      "|e2127556f4f64592b11af22de27a7932|offer received|0.0                  |{NULL, 2906b810c7d4411798c6938adc9daaa5, NULL, NULL}|\n",
      "|8ec6ce2a7e7949b1bf142def7d0e0586|offer received|0.0                  |{NULL, fafdcd668e3743c1bb461111dcafc2a4, NULL, NULL}|\n",
      "|68617ca6246f4fbc85e91a2a49552598|offer received|0.0                  |{NULL, 4d5c57ea9a6940dd891ad53e9dbe8da0, NULL, NULL}|\n",
      "+--------------------------------+--------------+---------------------+----------------------------------------------------+\n",
      "only showing top 5 rows\n",
      "\n"
     ]
    },
    {
     "name": "stderr",
     "output_type": "stream",
     "text": [
      "                                                                                "
     ]
    }
   ],
   "source": [
    "# Mostra uma prévia dos dados\n",
    "print(\"👤 Customers:\")\n",
    "customers_df.show(5, truncate=False)\n",
    "\n",
    "print(\"🏷️ Offers:\")\n",
    "offers_df.show(5, truncate=False)\n",
    "\n",
    "print(\"💳 Transactions:\")\n",
    "transactions_df.show(5, truncate=False)"
   ]
  },
  {
   "cell_type": "code",
   "execution_count": 6,
   "id": "58c6e4ea-5c4c-41de-8295-2e2590567567",
   "metadata": {},
   "outputs": [
    {
     "name": "stdout",
     "output_type": "stream",
     "text": [
      "customers_df: 17000 linhas\n",
      "offers_df: 10 linhas\n",
      "transactions_df: 306534 linhas\n"
     ]
    }
   ],
   "source": [
    "print(f\"customers_df: {customers_df.count()} linhas\")\n",
    "print(f\"offers_df: {offers_df.count()} linhas\")\n",
    "print(f\"transactions_df: {transactions_df.count()} linhas\")"
   ]
  },
  {
   "cell_type": "markdown",
   "id": "8b547293-ddef-4d7e-b11d-c2b63a6ea294",
   "metadata": {},
   "source": [
    "## 3. 🔍 Exploração e Validação dos Dados (EDA)\n",
    "\n",
    "Nesta etapa, vamos:\n",
    "\n",
    "- Explorar os schemas das tabelas para verificar tipos de dados\n",
    "- Observar estatísticas descritivas básicas\n",
    "- Contar valores nulos e valores únicos\n",
    "- Identificar possíveis problemas de qualidade (ex: campos vazios, inconsistentes)\n",
    "- Verificar distribuições de colunas importantes"
   ]
  },
  {
   "cell_type": "code",
   "execution_count": 7,
   "id": "0506918f-bfe2-4a8d-adaa-65ec8f968867",
   "metadata": {},
   "outputs": [],
   "source": [
    "from src.eda.data_diagnostics import isna_sum, value_counts\n",
    "from src.eda.pipeline import clean_customers_data\n",
    "from src.eda.pipeline import feature_engineering_customers_data"
   ]
  },
  {
   "cell_type": "markdown",
   "id": "0436d17d-123e-4e4d-b5ac-1290cb217ecf",
   "metadata": {},
   "source": [
    "### 3.1 Tabela ``customers``\n",
    "\n",
    "#### 3.1.1 Check NaN Values"
   ]
  },
  {
   "cell_type": "code",
   "execution_count": 8,
   "id": "fea2e706-b817-43d6-b3fb-4adc076004c8",
   "metadata": {},
   "outputs": [
    {
     "name": "stdout",
     "output_type": "stream",
     "text": [
      "\n",
      "📘 Schema de customers:\n",
      "root\n",
      " |-- age: long (nullable = true)\n",
      " |-- credit_card_limit: double (nullable = true)\n",
      " |-- gender: string (nullable = true)\n",
      " |-- id: string (nullable = true)\n",
      " |-- registered_on: string (nullable = true)\n",
      "\n",
      "\n",
      "🔢 Total de linhas: 17000\n",
      "\n",
      "📊 Nulos por coluna (valores e %):\n",
      "– age: 0 nulos (0.00%)\n",
      "– credit_card_limit: 2175 nulos (12.79%)\n",
      "– gender: 2175 nulos (12.79%)\n",
      "– id: 0 nulos (0.00%)\n",
      "– registered_on: 0 nulos (0.00%)\n",
      "\n",
      "🔎 Amostra de customers:\n",
      "+---+-----------------+------+--------------------------------+-------------+\n",
      "|age|credit_card_limit|gender|id                              |registered_on|\n",
      "+---+-----------------+------+--------------------------------+-------------+\n",
      "|118|NULL             |NULL  |68be06ca386d4c31939f3a4f0e3dd783|20170212     |\n",
      "|55 |112000.0         |F     |0610b486422d4921ae7d2bf64640c50b|20170715     |\n",
      "|118|NULL             |NULL  |38fe809add3b4fcf9315a9694bb96ff5|20180712     |\n",
      "|75 |100000.0         |F     |78afa995795e4d85b5d9ceeca43f5fef|20170509     |\n",
      "|118|NULL             |NULL  |a03223e636434f42ac4c3df47e8bac43|20170804     |\n",
      "+---+-----------------+------+--------------------------------+-------------+\n",
      "only showing top 5 rows\n",
      "\n"
     ]
    }
   ],
   "source": [
    "isna_sum(customers_df, \"customers\")"
   ]
  },
  {
   "cell_type": "markdown",
   "id": "5ddb12a8-4e36-4ae4-9171-fa217dc93328",
   "metadata": {},
   "source": [
    "#### 3.1.2 Data Analysis ``gender`` and ``credit_card_limit``"
   ]
  },
  {
   "cell_type": "code",
   "execution_count": 9,
   "id": "0fea92e4-6c06-4775-95bb-77a8a1c10748",
   "metadata": {},
   "outputs": [
    {
     "name": "stdout",
     "output_type": "stream",
     "text": [
      "\n",
      "📊 Distribuição da coluna: gender (total: 17000 registros)\n",
      "+------+-----+------------------+\n",
      "|gender|count|percent           |\n",
      "+------+-----+------------------+\n",
      "|M     |8484 |49.90588235294118 |\n",
      "|F     |6129 |36.05294117647059 |\n",
      "|NULL  |2175 |12.794117647058822|\n",
      "|O     |212  |1.2470588235294118|\n",
      "+------+-----+------------------+\n",
      "\n"
     ]
    }
   ],
   "source": [
    "value_counts(customers_df, \"gender\")"
   ]
  },
  {
   "cell_type": "code",
   "execution_count": 10,
   "id": "5def0aed-c61f-455f-99f7-7f9a6dfb7356",
   "metadata": {},
   "outputs": [
    {
     "name": "stdout",
     "output_type": "stream",
     "text": [
      "\n",
      "📊 Distribuição da coluna: credit_card_limit (total: 17000 registros)\n",
      "+-----------------+-----+------------------+\n",
      "|credit_card_limit|count|percent           |\n",
      "+-----------------+-----+------------------+\n",
      "|NULL             |2175 |12.794117647058822|\n",
      "|73000.0          |314  |1.8470588235294116|\n",
      "|72000.0          |297  |1.7470588235294116|\n",
      "|71000.0          |294  |1.7294117647058824|\n",
      "|57000.0          |288  |1.6941176470588233|\n",
      "|74000.0          |282  |1.6588235294117646|\n",
      "|53000.0          |282  |1.6588235294117646|\n",
      "|52000.0          |281  |1.6529411764705884|\n",
      "|56000.0          |281  |1.6529411764705884|\n",
      "|54000.0          |272  |1.6               |\n",
      "|70000.0          |270  |1.588235294117647 |\n",
      "|51000.0          |268  |1.576470588235294 |\n",
      "|61000.0          |258  |1.5176470588235296|\n",
      "|64000.0          |258  |1.5176470588235296|\n",
      "|55000.0          |254  |1.4941176470588236|\n",
      "|50000.0          |253  |1.4882352941176469|\n",
      "|60000.0          |251  |1.4764705882352942|\n",
      "|75000.0          |243  |1.4294117647058824|\n",
      "|59000.0          |243  |1.4294117647058824|\n",
      "|67000.0          |242  |1.423529411764706 |\n",
      "+-----------------+-----+------------------+\n",
      "only showing top 20 rows\n",
      "\n"
     ]
    }
   ],
   "source": [
    "value_counts(customers_df, \"credit_card_limit\")"
   ]
  },
  {
   "cell_type": "markdown",
   "id": "5c50bec7-b1b1-43fb-8561-45d313fcb09b",
   "metadata": {},
   "source": [
    "#### 3.1.3 Replace NaN Values\n",
    "1. Coluna gender: Colocar o gender \"O\" para \"NULL\"\n",
    "2. Coluna credit_card_limit: Usar a mediana para substituir os dados nulos"
   ]
  },
  {
   "cell_type": "code",
   "execution_count": 11,
   "id": "4f040040-d58c-4f80-a431-67731913a247",
   "metadata": {},
   "outputs": [
    {
     "name": "stdout",
     "output_type": "stream",
     "text": [
      "🔍 Cleaning 'gender' column...\n",
      "✅ 'gender' cleaned: values normalized (M, F, unknown)\n",
      "\n",
      "📈 Calculating statistics for 'credit_card_limit'...\n",
      "📊 Mean credit limit: 65404.99\n",
      "📏 Median credit limit: 63000.00\n",
      "✅ 'credit_card_limit' nulls filled with median.\n"
     ]
    }
   ],
   "source": [
    "customers_df = clean_customers_data(customers_df)"
   ]
  },
  {
   "cell_type": "code",
   "execution_count": 12,
   "id": "961e68b3-e429-4767-97e2-ae245e08eee3",
   "metadata": {},
   "outputs": [
    {
     "name": "stdout",
     "output_type": "stream",
     "text": [
      "\n",
      "📘 Schema de customers:\n",
      "root\n",
      " |-- age: long (nullable = true)\n",
      " |-- credit_card_limit: double (nullable = false)\n",
      " |-- gender: string (nullable = true)\n",
      " |-- id: string (nullable = true)\n",
      " |-- registered_on: string (nullable = true)\n",
      "\n",
      "\n",
      "🔢 Total de linhas: 17000\n",
      "\n",
      "📊 Nulos por coluna (valores e %):\n",
      "– age: 0 nulos (0.00%)\n",
      "– credit_card_limit: 0 nulos (0.00%)\n",
      "– gender: 0 nulos (0.00%)\n",
      "– id: 0 nulos (0.00%)\n",
      "– registered_on: 0 nulos (0.00%)\n",
      "\n",
      "🔎 Amostra de customers:\n",
      "+---+-----------------+-------+--------------------------------+-------------+\n",
      "|age|credit_card_limit|gender |id                              |registered_on|\n",
      "+---+-----------------+-------+--------------------------------+-------------+\n",
      "|118|63000.0          |unknown|68be06ca386d4c31939f3a4f0e3dd783|20170212     |\n",
      "|55 |112000.0         |F      |0610b486422d4921ae7d2bf64640c50b|20170715     |\n",
      "|118|63000.0          |unknown|38fe809add3b4fcf9315a9694bb96ff5|20180712     |\n",
      "|75 |100000.0         |F      |78afa995795e4d85b5d9ceeca43f5fef|20170509     |\n",
      "|118|63000.0          |unknown|a03223e636434f42ac4c3df47e8bac43|20170804     |\n",
      "+---+-----------------+-------+--------------------------------+-------------+\n",
      "only showing top 5 rows\n",
      "\n"
     ]
    }
   ],
   "source": [
    "isna_sum(customers_df, \"customers\")"
   ]
  },
  {
   "cell_type": "code",
   "execution_count": 13,
   "id": "c06efd5d-d184-4653-8583-29e8a13ddfe0",
   "metadata": {},
   "outputs": [
    {
     "data": {
      "text/plain": [
       "[30000.0, 39000.0, 51000.0, 63000.0, 75000.0, 93000.0, 120000.0]"
      ]
     },
     "execution_count": 13,
     "metadata": {},
     "output_type": "execute_result"
    }
   ],
   "source": [
    "credit_card_limit_quantiles = customers_df.approxQuantile('credit_card_limit', [0.0, 0.1, 0.25, 0.5, 0.75, 0.9, 1.0], 0.01)\n",
    "credit_card_limit_quantiles"
   ]
  },
  {
   "cell_type": "code",
   "execution_count": 14,
   "id": "9dd72e5e-df29-4351-8d3f-c025ee9859a5",
   "metadata": {},
   "outputs": [
    {
     "data": {
      "text/plain": [
       "[18.0, 45.0, 58.0, 72.0, 118.0, 118.0]"
      ]
     },
     "execution_count": 14,
     "metadata": {},
     "output_type": "execute_result"
    }
   ],
   "source": [
    "age_quantiles = customers_df.approxQuantile('age', [0.0, 0.25, 0.5, 0.75, 0.88, 1.0], 0.01)\n",
    "age_quantiles"
   ]
  },
  {
   "cell_type": "markdown",
   "id": "39210827-d31f-45d2-9d5a-92c9504aff4f",
   "metadata": {},
   "source": [
    "🔎 Grande parte da base é composta por clientes mais velhos. Com 75% dos usuários com mais de 45 anos, e com 12% da base concentrada nos 118 anos (idade máxima), isso indica que:"
   ]
  },
  {
   "cell_type": "markdown",
   "id": "b5cb60be-1b90-46dc-9f57-05df5e843d18",
   "metadata": {},
   "source": [
    "#### 3.1.4 Feature Engineering ``Customers``\n",
    "- Create new feature ``birth_year`` (\"Ano de nascimento = Ano de cadastro - idade na data do cadastro\")\n",
    "- Create new feature ``age_group``\n",
    "- Create new feature ``credit_limit_bucket``"
   ]
  },
  {
   "cell_type": "code",
   "execution_count": 15,
   "id": "fcbf7133-8153-448b-a83d-612df9312106",
   "metadata": {},
   "outputs": [],
   "source": [
    "customers_df = feature_engineering_customers_data(customers_df)"
   ]
  },
  {
   "cell_type": "code",
   "execution_count": 16,
   "id": "ee7eabc7-c669-41f8-a538-ad918996dab1",
   "metadata": {},
   "outputs": [
    {
     "name": "stdout",
     "output_type": "stream",
     "text": [
      "+---+-----------------+-------+--------------------+-------------+----------+-------------+-------------------+\n",
      "|age|credit_card_limit| gender|                  id|registered_on|birth_year|    age_group|credit_limit_bucket|\n",
      "+---+-----------------+-------+--------------------+-------------+----------+-------------+-------------------+\n",
      "|118|          63000.0|unknown|68be06ca386d4c319...|     20170212|      1899|Boomers (60+)|  Very High (> 60k)|\n",
      "| 55|         112000.0|      F|0610b486422d4921a...|     20170715|      1962|Boomers (60+)|  Very High (> 60k)|\n",
      "|118|          63000.0|unknown|38fe809add3b4fcf9...|     20180712|      1900|Boomers (60+)|  Very High (> 60k)|\n",
      "| 75|         100000.0|      F|78afa995795e4d85b...|     20170509|      1942|Boomers (60+)|  Very High (> 60k)|\n",
      "|118|          63000.0|unknown|a03223e636434f42a...|     20170804|      1899|Boomers (60+)|  Very High (> 60k)|\n",
      "+---+-----------------+-------+--------------------+-------------+----------+-------------+-------------------+\n",
      "only showing top 5 rows\n",
      "\n"
     ]
    }
   ],
   "source": [
    "customers_df.show(5)"
   ]
  },
  {
   "cell_type": "markdown",
   "id": "5e2e869b-037d-42d7-8cac-e8dcf4a4969c",
   "metadata": {},
   "source": [
    "### 3.2 Tabela ``offers``"
   ]
  },
  {
   "cell_type": "code",
   "execution_count": 17,
   "id": "9e17515c-5bcb-4a47-a058-1412bd0625c5",
   "metadata": {},
   "outputs": [
    {
     "name": "stdout",
     "output_type": "stream",
     "text": [
      "+----------------------------+--------------+--------+--------------------------------+---------+-------------+\n",
      "|channels                    |discount_value|duration|id                              |min_value|offer_type   |\n",
      "+----------------------------+--------------+--------+--------------------------------+---------+-------------+\n",
      "|[email, mobile, social]     |10            |7.0     |ae264e3637204a6fb9bb56bc8210ddfd|10       |bogo         |\n",
      "|[web, email, mobile, social]|10            |5.0     |4d5c57ea9a6940dd891ad53e9dbe8da0|10       |bogo         |\n",
      "|[web, email, mobile]        |0             |4.0     |3f207df678b143eea3cee63160fa8bed|0        |informational|\n",
      "|[web, email, mobile]        |5             |7.0     |9b98b8c7a33c4b65b9aebfe6a799e6d9|5        |bogo         |\n",
      "|[web, email]                |5             |10.0    |0b1e1539f2cc45b7b9fa7c272da2e1d7|20       |discount     |\n",
      "+----------------------------+--------------+--------+--------------------------------+---------+-------------+\n",
      "only showing top 5 rows\n",
      "\n"
     ]
    }
   ],
   "source": [
    "offers_df.show(5, truncate=False)"
   ]
  },
  {
   "cell_type": "markdown",
   "id": "96ae47cc-0125-4b00-bdf4-caf99e58a0a6",
   "metadata": {},
   "source": [
    "#### 3.2.1 OneHotEncoder columns ``Channels``"
   ]
  },
  {
   "cell_type": "code",
   "execution_count": 18,
   "id": "23ed86b7-b2a8-49a5-83ff-e10f675ed5a2",
   "metadata": {},
   "outputs": [],
   "source": [
    "from src.eda.transform import explode_list_columns_to_ohe"
   ]
  },
  {
   "cell_type": "code",
   "execution_count": 19,
   "id": "fd2a3ff9-3a19-494c-8272-a292e18883e0",
   "metadata": {},
   "outputs": [
    {
     "name": "stderr",
     "output_type": "stream",
     "text": [
      "                                                                                "
     ]
    }
   ],
   "source": [
    "offers_df = explode_list_columns_to_ohe(offers_df)"
   ]
  },
  {
   "cell_type": "code",
   "execution_count": 20,
   "id": "a94f73da-22e0-4cf6-93a9-d7070f947dcd",
   "metadata": {},
   "outputs": [
    {
     "name": "stdout",
     "output_type": "stream",
     "text": [
      "root\n",
      " |-- discount_value: long (nullable = true)\n",
      " |-- duration: double (nullable = true)\n",
      " |-- id: string (nullable = true)\n",
      " |-- min_value: long (nullable = true)\n",
      " |-- offer_type: string (nullable = true)\n",
      " |-- channels_mobile: integer (nullable = false)\n",
      " |-- channels_email: integer (nullable = false)\n",
      " |-- channels_social: integer (nullable = false)\n",
      " |-- channels_web: integer (nullable = false)\n",
      "\n"
     ]
    }
   ],
   "source": [
    "offers_df.printSchema()"
   ]
  },
  {
   "cell_type": "code",
   "execution_count": 21,
   "id": "fc9c6ace-0b47-406f-9b83-7b0ebf97b8b8",
   "metadata": {},
   "outputs": [
    {
     "name": "stdout",
     "output_type": "stream",
     "text": [
      "+--------------+--------+--------------------------------+---------+-------------+---------------+--------------+---------------+------------+\n",
      "|discount_value|duration|id                              |min_value|offer_type   |channels_mobile|channels_email|channels_social|channels_web|\n",
      "+--------------+--------+--------------------------------+---------+-------------+---------------+--------------+---------------+------------+\n",
      "|10            |7.0     |ae264e3637204a6fb9bb56bc8210ddfd|10       |bogo         |1              |1             |1              |0           |\n",
      "|10            |5.0     |4d5c57ea9a6940dd891ad53e9dbe8da0|10       |bogo         |1              |1             |1              |1           |\n",
      "|0             |4.0     |3f207df678b143eea3cee63160fa8bed|0        |informational|1              |1             |0              |1           |\n",
      "|5             |7.0     |9b98b8c7a33c4b65b9aebfe6a799e6d9|5        |bogo         |1              |1             |0              |1           |\n",
      "|5             |10.0    |0b1e1539f2cc45b7b9fa7c272da2e1d7|20       |discount     |0              |1             |0              |1           |\n",
      "|3             |7.0     |2298d6c36e964ae4a3e7e9706d1fb8c2|7        |discount     |1              |1             |1              |1           |\n",
      "|2             |10.0    |fafdcd668e3743c1bb461111dcafc2a4|10       |discount     |1              |1             |1              |1           |\n",
      "|0             |3.0     |5a8bc65990b245e5a138643cd4eb9837|0        |informational|1              |1             |1              |0           |\n",
      "|5             |5.0     |f19421c1d4aa40978ebb69ca19b0e20d|5        |bogo         |1              |1             |1              |1           |\n",
      "|2             |7.0     |2906b810c7d4411798c6938adc9daaa5|10       |discount     |1              |1             |0              |1           |\n",
      "+--------------+--------+--------------------------------+---------+-------------+---------------+--------------+---------------+------------+\n",
      "\n"
     ]
    }
   ],
   "source": [
    "offers_df.show(50, truncate=False)"
   ]
  },
  {
   "cell_type": "markdown",
   "id": "cfb3ad77-f88f-4aa7-a5fd-d81384a98b8d",
   "metadata": {},
   "source": [
    "#### 3.2.2 Check NaN Values ``Offers``\n",
    "**obs:** Não existe dados nulos na tabela Ofertas"
   ]
  },
  {
   "cell_type": "code",
   "execution_count": 22,
   "id": "3aaa1970-b9b2-426d-98a0-21ce1ad50ff1",
   "metadata": {},
   "outputs": [
    {
     "name": "stdout",
     "output_type": "stream",
     "text": [
      "\n",
      "📘 Schema de offers:\n",
      "root\n",
      " |-- discount_value: long (nullable = true)\n",
      " |-- duration: double (nullable = true)\n",
      " |-- id: string (nullable = true)\n",
      " |-- min_value: long (nullable = true)\n",
      " |-- offer_type: string (nullable = true)\n",
      " |-- channels_mobile: integer (nullable = false)\n",
      " |-- channels_email: integer (nullable = false)\n",
      " |-- channels_social: integer (nullable = false)\n",
      " |-- channels_web: integer (nullable = false)\n",
      "\n",
      "\n",
      "🔢 Total de linhas: 10\n",
      "\n",
      "📊 Nulos por coluna (valores e %):\n",
      "– discount_value: 0 nulos (0.00%)\n",
      "– duration: 0 nulos (0.00%)\n",
      "– id: 0 nulos (0.00%)\n",
      "– min_value: 0 nulos (0.00%)\n",
      "– offer_type: 0 nulos (0.00%)\n",
      "– channels_mobile: 0 nulos (0.00%)\n",
      "– channels_email: 0 nulos (0.00%)\n",
      "– channels_social: 0 nulos (0.00%)\n",
      "– channels_web: 0 nulos (0.00%)\n",
      "\n",
      "🔎 Amostra de offers:\n",
      "+--------------+--------+--------------------------------+---------+-------------+---------------+--------------+---------------+------------+\n",
      "|discount_value|duration|id                              |min_value|offer_type   |channels_mobile|channels_email|channels_social|channels_web|\n",
      "+--------------+--------+--------------------------------+---------+-------------+---------------+--------------+---------------+------------+\n",
      "|10            |7.0     |ae264e3637204a6fb9bb56bc8210ddfd|10       |bogo         |1              |1             |1              |0           |\n",
      "|10            |5.0     |4d5c57ea9a6940dd891ad53e9dbe8da0|10       |bogo         |1              |1             |1              |1           |\n",
      "|0             |4.0     |3f207df678b143eea3cee63160fa8bed|0        |informational|1              |1             |0              |1           |\n",
      "|5             |7.0     |9b98b8c7a33c4b65b9aebfe6a799e6d9|5        |bogo         |1              |1             |0              |1           |\n",
      "|5             |10.0    |0b1e1539f2cc45b7b9fa7c272da2e1d7|20       |discount     |0              |1             |0              |1           |\n",
      "+--------------+--------+--------------------------------+---------+-------------+---------------+--------------+---------------+------------+\n",
      "only showing top 5 rows\n",
      "\n"
     ]
    }
   ],
   "source": [
    "isna_sum(offers_df, \"offers\")"
   ]
  },
  {
   "cell_type": "markdown",
   "id": "73c63c66-5f4e-4081-a011-d1ba0b8b8ca2",
   "metadata": {},
   "source": [
    "#### 3.2.3 EDA ``Offers``"
   ]
  },
  {
   "cell_type": "code",
   "execution_count": 23,
   "id": "cc636af6-c4f7-4aa0-afdc-3ec0b4f4cce1",
   "metadata": {},
   "outputs": [
    {
     "name": "stdout",
     "output_type": "stream",
     "text": [
      "\n",
      "📊 Distribuição da coluna: min_value (total: 10 registros)\n",
      "+---------+-----+-------+\n",
      "|min_value|count|percent|\n",
      "+---------+-----+-------+\n",
      "|10       |4    |40.0   |\n",
      "|0        |2    |20.0   |\n",
      "|5        |2    |20.0   |\n",
      "|7        |1    |10.0   |\n",
      "|20       |1    |10.0   |\n",
      "+---------+-----+-------+\n",
      "\n"
     ]
    }
   ],
   "source": [
    "value_counts(offers_df, column='min_value')"
   ]
  },
  {
   "cell_type": "code",
   "execution_count": 24,
   "id": "c3a6e519-f145-4a62-baf2-0be68a7a204a",
   "metadata": {},
   "outputs": [
    {
     "name": "stdout",
     "output_type": "stream",
     "text": [
      "\n",
      "📊 Distribuição da coluna: offer_type (total: 10 registros)\n",
      "+-------------+-----+-------+\n",
      "|offer_type   |count|percent|\n",
      "+-------------+-----+-------+\n",
      "|discount     |4    |40.0   |\n",
      "|bogo         |4    |40.0   |\n",
      "|informational|2    |20.0   |\n",
      "+-------------+-----+-------+\n",
      "\n"
     ]
    }
   ],
   "source": [
    "value_counts(offers_df, column='offer_type')"
   ]
  },
  {
   "cell_type": "markdown",
   "id": "fe36f529-f8b8-4177-ae60-d04d42abbc9c",
   "metadata": {},
   "source": [
    "### 3.3 Tabela ``transactions``"
   ]
  },
  {
   "cell_type": "code",
   "execution_count": 25,
   "id": "581020d0-e5ed-4ea9-bed7-fd6c563964ba",
   "metadata": {},
   "outputs": [
    {
     "name": "stdout",
     "output_type": "stream",
     "text": [
      "+--------------------------------+--------------+---------------------+----------------------------------------------------+\n",
      "|account_id                      |event         |time_since_test_start|value                                               |\n",
      "+--------------------------------+--------------+---------------------+----------------------------------------------------+\n",
      "|78afa995795e4d85b5d9ceeca43f5fef|offer received|0.0                  |{NULL, 9b98b8c7a33c4b65b9aebfe6a799e6d9, NULL, NULL}|\n",
      "|a03223e636434f42ac4c3df47e8bac43|offer received|0.0                  |{NULL, 0b1e1539f2cc45b7b9fa7c272da2e1d7, NULL, NULL}|\n",
      "|e2127556f4f64592b11af22de27a7932|offer received|0.0                  |{NULL, 2906b810c7d4411798c6938adc9daaa5, NULL, NULL}|\n",
      "|8ec6ce2a7e7949b1bf142def7d0e0586|offer received|0.0                  |{NULL, fafdcd668e3743c1bb461111dcafc2a4, NULL, NULL}|\n",
      "|68617ca6246f4fbc85e91a2a49552598|offer received|0.0                  |{NULL, 4d5c57ea9a6940dd891ad53e9dbe8da0, NULL, NULL}|\n",
      "+--------------------------------+--------------+---------------------+----------------------------------------------------+\n",
      "only showing top 5 rows\n",
      "\n"
     ]
    },
    {
     "name": "stderr",
     "output_type": "stream",
     "text": [
      "                                                                                "
     ]
    }
   ],
   "source": [
    "transactions_df.show(5, truncate=False)"
   ]
  },
  {
   "cell_type": "code",
   "execution_count": 26,
   "id": "1a6d72ff-1df4-47fc-8385-d27ce58ca112",
   "metadata": {},
   "outputs": [
    {
     "name": "stdout",
     "output_type": "stream",
     "text": [
      "root\n",
      " |-- account_id: string (nullable = true)\n",
      " |-- event: string (nullable = true)\n",
      " |-- time_since_test_start: double (nullable = true)\n",
      " |-- value: struct (nullable = true)\n",
      " |    |-- amount: double (nullable = true)\n",
      " |    |-- offer id: string (nullable = true)\n",
      " |    |-- offer_id: string (nullable = true)\n",
      " |    |-- reward: double (nullable = true)\n",
      "\n"
     ]
    }
   ],
   "source": [
    "transactions_df.printSchema()"
   ]
  },
  {
   "cell_type": "markdown",
   "id": "bac86025-2721-414c-bdad-0dcd674fd226",
   "metadata": {},
   "source": [
    "#### 3.3.1 OneHotEncoder columns ``Value``"
   ]
  },
  {
   "cell_type": "code",
   "execution_count": 27,
   "id": "5c467006-2a28-48b0-b6a3-343fd4a768a0",
   "metadata": {},
   "outputs": [],
   "source": [
    "transactions_df = explode_list_columns_to_ohe(transactions_df)"
   ]
  },
  {
   "cell_type": "code",
   "execution_count": 28,
   "id": "ae80a888-3327-4117-9c03-b60916960730",
   "metadata": {},
   "outputs": [
    {
     "name": "stdout",
     "output_type": "stream",
     "text": [
      "+--------------------------------+--------------+---------------------+------------+--------------------------------+--------------+------------+\n",
      "|account_id                      |event         |time_since_test_start|value_amount|value_offer id                  |value_offer_id|value_reward|\n",
      "+--------------------------------+--------------+---------------------+------------+--------------------------------+--------------+------------+\n",
      "|78afa995795e4d85b5d9ceeca43f5fef|offer received|0.0                  |NULL        |9b98b8c7a33c4b65b9aebfe6a799e6d9|NULL          |NULL        |\n",
      "|a03223e636434f42ac4c3df47e8bac43|offer received|0.0                  |NULL        |0b1e1539f2cc45b7b9fa7c272da2e1d7|NULL          |NULL        |\n",
      "|e2127556f4f64592b11af22de27a7932|offer received|0.0                  |NULL        |2906b810c7d4411798c6938adc9daaa5|NULL          |NULL        |\n",
      "|8ec6ce2a7e7949b1bf142def7d0e0586|offer received|0.0                  |NULL        |fafdcd668e3743c1bb461111dcafc2a4|NULL          |NULL        |\n",
      "|68617ca6246f4fbc85e91a2a49552598|offer received|0.0                  |NULL        |4d5c57ea9a6940dd891ad53e9dbe8da0|NULL          |NULL        |\n",
      "+--------------------------------+--------------+---------------------+------------+--------------------------------+--------------+------------+\n",
      "only showing top 5 rows\n",
      "\n"
     ]
    },
    {
     "name": "stderr",
     "output_type": "stream",
     "text": [
      "                                                                                "
     ]
    }
   ],
   "source": [
    "transactions_df.show(5, truncate=False)"
   ]
  },
  {
   "cell_type": "markdown",
   "id": "71c57d71-b9f0-40e3-9cf9-a629ff70b2df",
   "metadata": {},
   "source": [
    "#### 3.3.2 Fix two columns ``value.offer_id``"
   ]
  },
  {
   "cell_type": "code",
   "execution_count": 29,
   "id": "faa129bd-9f8b-4111-8c1d-2bcc60087acd",
   "metadata": {},
   "outputs": [],
   "source": [
    "from src.eda.transform import consolidate_columns"
   ]
  },
  {
   "cell_type": "code",
   "execution_count": 30,
   "id": "5eebde11-55cf-4555-9907-8c0dd0684468",
   "metadata": {},
   "outputs": [
    {
     "name": "stdout",
     "output_type": "stream",
     "text": [
      "+--------------------------------+--------------+---------------------+------------+--------------------------------+--------------+------------+\n",
      "|account_id                      |event         |time_since_test_start|value_amount|value_offer id                  |value_offer_id|value_reward|\n",
      "+--------------------------------+--------------+---------------------+------------+--------------------------------+--------------+------------+\n",
      "|78afa995795e4d85b5d9ceeca43f5fef|offer received|0.0                  |NULL        |9b98b8c7a33c4b65b9aebfe6a799e6d9|NULL          |NULL        |\n",
      "|a03223e636434f42ac4c3df47e8bac43|offer received|0.0                  |NULL        |0b1e1539f2cc45b7b9fa7c272da2e1d7|NULL          |NULL        |\n",
      "|e2127556f4f64592b11af22de27a7932|offer received|0.0                  |NULL        |2906b810c7d4411798c6938adc9daaa5|NULL          |NULL        |\n",
      "|8ec6ce2a7e7949b1bf142def7d0e0586|offer received|0.0                  |NULL        |fafdcd668e3743c1bb461111dcafc2a4|NULL          |NULL        |\n",
      "|68617ca6246f4fbc85e91a2a49552598|offer received|0.0                  |NULL        |4d5c57ea9a6940dd891ad53e9dbe8da0|NULL          |NULL        |\n",
      "+--------------------------------+--------------+---------------------+------------+--------------------------------+--------------+------------+\n",
      "only showing top 5 rows\n",
      "\n"
     ]
    },
    {
     "name": "stderr",
     "output_type": "stream",
     "text": [
      "                                                                                "
     ]
    }
   ],
   "source": [
    "inconsistent_df = transactions_df.filter(\n",
    "    (col(\"value_offer_id\").isNull() & col(\"value.`offer id`\").isNotNull()) |\n",
    "    (col(\"value_offer_id\").isNotNull() & col(\"value.`offer id`\").isNull())\n",
    ")\n",
    "inconsistent_df.show(5, truncate=False)"
   ]
  },
  {
   "cell_type": "code",
   "execution_count": 31,
   "id": "22e58b61-e74b-4e37-a560-4e60b7e65cfd",
   "metadata": {},
   "outputs": [
    {
     "name": "stdout",
     "output_type": "stream",
     "text": [
      "+----------+-----+---------------------+------------+--------------+--------------+------------+\n",
      "|account_id|event|time_since_test_start|value_amount|value_offer id|value_offer_id|value_reward|\n",
      "+----------+-----+---------------------+------------+--------------+--------------+------------+\n",
      "+----------+-----+---------------------+------------+--------------+--------------+------------+\n",
      "\n"
     ]
    },
    {
     "name": "stderr",
     "output_type": "stream",
     "text": [
      "                                                                                "
     ]
    }
   ],
   "source": [
    "both_present_df = transactions_df.filter(\n",
    "    col(\"value_offer_id\").isNotNull() & col(\"value.`offer id`\").isNotNull()\n",
    ")\n",
    "both_present_df.show(5, truncate=False)"
   ]
  },
  {
   "cell_type": "code",
   "execution_count": 32,
   "id": "766be9b5-aa56-4f60-be38-506d73d10e2d",
   "metadata": {},
   "outputs": [],
   "source": [
    "transactions_df = consolidate_columns(\n",
    "    transactions_df,\n",
    "    output_col=\"offer_id\",\n",
    "    input_cols=[\"value_offer_id\", \"value_offer id\"]\n",
    ")"
   ]
  },
  {
   "cell_type": "code",
   "execution_count": 33,
   "id": "4853c369-7bbc-4d81-9659-82dc9e45f396",
   "metadata": {},
   "outputs": [
    {
     "name": "stdout",
     "output_type": "stream",
     "text": [
      "+--------------------------------+--------------+---------------------+------------+--------------------------------+--------------+------------+--------------------------------+\n",
      "|account_id                      |event         |time_since_test_start|value_amount|value_offer id                  |value_offer_id|value_reward|offer_id                        |\n",
      "+--------------------------------+--------------+---------------------+------------+--------------------------------+--------------+------------+--------------------------------+\n",
      "|78afa995795e4d85b5d9ceeca43f5fef|offer received|0.0                  |NULL        |9b98b8c7a33c4b65b9aebfe6a799e6d9|NULL          |NULL        |9b98b8c7a33c4b65b9aebfe6a799e6d9|\n",
      "|a03223e636434f42ac4c3df47e8bac43|offer received|0.0                  |NULL        |0b1e1539f2cc45b7b9fa7c272da2e1d7|NULL          |NULL        |0b1e1539f2cc45b7b9fa7c272da2e1d7|\n",
      "|e2127556f4f64592b11af22de27a7932|offer received|0.0                  |NULL        |2906b810c7d4411798c6938adc9daaa5|NULL          |NULL        |2906b810c7d4411798c6938adc9daaa5|\n",
      "|8ec6ce2a7e7949b1bf142def7d0e0586|offer received|0.0                  |NULL        |fafdcd668e3743c1bb461111dcafc2a4|NULL          |NULL        |fafdcd668e3743c1bb461111dcafc2a4|\n",
      "|68617ca6246f4fbc85e91a2a49552598|offer received|0.0                  |NULL        |4d5c57ea9a6940dd891ad53e9dbe8da0|NULL          |NULL        |4d5c57ea9a6940dd891ad53e9dbe8da0|\n",
      "+--------------------------------+--------------+---------------------+------------+--------------------------------+--------------+------------+--------------------------------+\n",
      "only showing top 5 rows\n",
      "\n"
     ]
    },
    {
     "name": "stderr",
     "output_type": "stream",
     "text": [
      "                                                                                "
     ]
    }
   ],
   "source": [
    "transactions_df.show(5, truncate=False)"
   ]
  },
  {
   "cell_type": "markdown",
   "id": "19a47bf5-ea99-4a7a-886e-c3ea06f082ea",
   "metadata": {},
   "source": [
    "#### 3.3.3 Ckeck NaN values"
   ]
  },
  {
   "cell_type": "code",
   "execution_count": 34,
   "id": "de490ff5-6814-436b-be35-4cb2b23184a9",
   "metadata": {},
   "outputs": [
    {
     "name": "stdout",
     "output_type": "stream",
     "text": [
      "\n",
      "📘 Schema de transactions:\n",
      "root\n",
      " |-- account_id: string (nullable = true)\n",
      " |-- event: string (nullable = true)\n",
      " |-- time_since_test_start: double (nullable = true)\n",
      " |-- value_amount: double (nullable = true)\n",
      " |-- value_offer id: string (nullable = true)\n",
      " |-- value_offer_id: string (nullable = true)\n",
      " |-- value_reward: double (nullable = true)\n",
      " |-- offer_id: string (nullable = true)\n",
      "\n",
      "\n",
      "🔢 Total de linhas: 306534\n",
      "\n",
      "📊 Nulos por coluna (valores e %):\n"
     ]
    },
    {
     "name": "stderr",
     "output_type": "stream",
     "text": [
      "                                                                                "
     ]
    },
    {
     "name": "stdout",
     "output_type": "stream",
     "text": [
      "– account_id: 0 nulos (0.00%)\n",
      "– event: 0 nulos (0.00%)\n",
      "– time_since_test_start: 0 nulos (0.00%)\n",
      "– value_amount: 167581 nulos (54.67%)\n",
      "– value_offer id: 172532 nulos (56.28%)\n",
      "– value_offer_id: 272955 nulos (89.05%)\n",
      "– value_reward: 272955 nulos (89.05%)\n",
      "– offer_id: 138953 nulos (45.33%)\n",
      "\n",
      "🔎 Amostra de transactions:\n",
      "+--------------------------------+--------------+---------------------+------------+--------------------------------+--------------+------------+--------------------------------+\n",
      "|account_id                      |event         |time_since_test_start|value_amount|value_offer id                  |value_offer_id|value_reward|offer_id                        |\n",
      "+--------------------------------+--------------+---------------------+------------+--------------------------------+--------------+------------+--------------------------------+\n",
      "|78afa995795e4d85b5d9ceeca43f5fef|offer received|0.0                  |NULL        |9b98b8c7a33c4b65b9aebfe6a799e6d9|NULL          |NULL        |9b98b8c7a33c4b65b9aebfe6a799e6d9|\n",
      "|a03223e636434f42ac4c3df47e8bac43|offer received|0.0                  |NULL        |0b1e1539f2cc45b7b9fa7c272da2e1d7|NULL          |NULL        |0b1e1539f2cc45b7b9fa7c272da2e1d7|\n",
      "|e2127556f4f64592b11af22de27a7932|offer received|0.0                  |NULL        |2906b810c7d4411798c6938adc9daaa5|NULL          |NULL        |2906b810c7d4411798c6938adc9daaa5|\n",
      "|8ec6ce2a7e7949b1bf142def7d0e0586|offer received|0.0                  |NULL        |fafdcd668e3743c1bb461111dcafc2a4|NULL          |NULL        |fafdcd668e3743c1bb461111dcafc2a4|\n",
      "|68617ca6246f4fbc85e91a2a49552598|offer received|0.0                  |NULL        |4d5c57ea9a6940dd891ad53e9dbe8da0|NULL          |NULL        |4d5c57ea9a6940dd891ad53e9dbe8da0|\n",
      "+--------------------------------+--------------+---------------------+------------+--------------------------------+--------------+------------+--------------------------------+\n",
      "only showing top 5 rows\n",
      "\n"
     ]
    },
    {
     "name": "stderr",
     "output_type": "stream",
     "text": [
      "                                                                                "
     ]
    }
   ],
   "source": [
    "isna_sum(transactions_df, \"transactions\")"
   ]
  },
  {
   "cell_type": "markdown",
   "id": "3cc4a967-6388-449c-b49d-c412a6d12acf",
   "metadata": {},
   "source": [
    "#### 3.3.4 Drop Columns"
   ]
  },
  {
   "cell_type": "code",
   "execution_count": 35,
   "id": "002d1eed-a505-436a-b78b-816f1d02cfa7",
   "metadata": {},
   "outputs": [],
   "source": [
    "from src.eda.transform import drop_columns"
   ]
  },
  {
   "cell_type": "code",
   "execution_count": 36,
   "id": "df830aea-7c0a-4c64-99a6-3ce842d19a61",
   "metadata": {},
   "outputs": [],
   "source": [
    "columns_to_remove = [\"value_offer_id\", \"value_offer id\"]\n",
    "transactions_df = drop_columns(transactions_df, columns_to_remove)"
   ]
  },
  {
   "cell_type": "code",
   "execution_count": 37,
   "id": "c4710ce7-f07c-4bdf-b88b-751387a6ff12",
   "metadata": {},
   "outputs": [
    {
     "name": "stdout",
     "output_type": "stream",
     "text": [
      "+--------------------------------+--------------+---------------------+------------+------------+--------------------------------+\n",
      "|account_id                      |event         |time_since_test_start|value_amount|value_reward|offer_id                        |\n",
      "+--------------------------------+--------------+---------------------+------------+------------+--------------------------------+\n",
      "|78afa995795e4d85b5d9ceeca43f5fef|offer received|0.0                  |NULL        |NULL        |9b98b8c7a33c4b65b9aebfe6a799e6d9|\n",
      "|a03223e636434f42ac4c3df47e8bac43|offer received|0.0                  |NULL        |NULL        |0b1e1539f2cc45b7b9fa7c272da2e1d7|\n",
      "|e2127556f4f64592b11af22de27a7932|offer received|0.0                  |NULL        |NULL        |2906b810c7d4411798c6938adc9daaa5|\n",
      "|8ec6ce2a7e7949b1bf142def7d0e0586|offer received|0.0                  |NULL        |NULL        |fafdcd668e3743c1bb461111dcafc2a4|\n",
      "|68617ca6246f4fbc85e91a2a49552598|offer received|0.0                  |NULL        |NULL        |4d5c57ea9a6940dd891ad53e9dbe8da0|\n",
      "+--------------------------------+--------------+---------------------+------------+------------+--------------------------------+\n",
      "only showing top 5 rows\n",
      "\n"
     ]
    },
    {
     "name": "stderr",
     "output_type": "stream",
     "text": [
      "                                                                                "
     ]
    }
   ],
   "source": [
    "transactions_df.show(5, truncate=False)"
   ]
  },
  {
   "cell_type": "markdown",
   "id": "3e02f506-6551-465d-8293-3af24d9b6582",
   "metadata": {},
   "source": [
    "#### 3.3.5 Data Analysis Table ``transactions``"
   ]
  },
  {
   "cell_type": "code",
   "execution_count": 38,
   "id": "6d0e17ec-6bc1-4128-b76f-bc8b09545281",
   "metadata": {},
   "outputs": [
    {
     "name": "stdout",
     "output_type": "stream",
     "text": [
      "\n",
      "📊 Distribuição da coluna: event (total: 306534 registros)\n",
      "+---------------+------+------------------+\n",
      "|event          |count |percent           |\n",
      "+---------------+------+------------------+\n",
      "|transaction    |138953|45.33037118231583 |\n",
      "|offer received |76277 |24.88369968747349 |\n",
      "|offer viewed   |57725 |18.831516242896384|\n",
      "|offer completed|33579 |10.954412887314295|\n",
      "+---------------+------+------------------+\n",
      "\n"
     ]
    }
   ],
   "source": [
    "value_counts(transactions_df, 'event', show_nulls=True)"
   ]
  },
  {
   "cell_type": "code",
   "execution_count": 39,
   "id": "2f48b28e-17cc-4ed7-acef-51dbe0d23c03",
   "metadata": {},
   "outputs": [
    {
     "name": "stdout",
     "output_type": "stream",
     "text": [
      "\n",
      "📊 Distribuição da coluna: time_since_test_start (total: 306534 registros)\n",
      "+---------------------+-----+------------------+\n",
      "|time_since_test_start|count|percent           |\n",
      "+---------------------+-----+------------------+\n",
      "|17.0                 |17030|5.555664298250765 |\n",
      "|24.0                 |17015|5.5507708769663395|\n",
      "|21.0                 |16822|5.487808856440068 |\n",
      "|14.0                 |16302|5.318170251913328 |\n",
      "|7.0                  |16150|5.2685835828978185|\n",
      "|0.0                  |15561|5.076435240462722 |\n",
      "|17.25                |3583 |1.1688752308063706|\n",
      "|21.25                |3514 |1.1463654928980147|\n",
      "|24.25                |3484 |1.1365786503291642|\n",
      "|24.5                 |3222 |1.051106891894537 |\n",
      "|21.5                 |3153 |1.028597153986181 |\n",
      "|17.5                 |3146 |1.0263135573867825|\n",
      "|14.25                |3017 |0.9842301343407257|\n",
      "|24.75                |2937 |0.9581318874904577|\n",
      "|17.75                |2908 |0.9486712730072357|\n",
      "|7.25                 |2823 |0.9209418857288262|\n",
      "|21.75                |2783 |0.9078927623036923|\n",
      "|25.0                 |2739 |0.893538726536045 |\n",
      "|18.0                 |2690 |0.8775535503402558|\n",
      "|7.5                  |2659 |0.8674404796857771|\n",
      "+---------------------+-----+------------------+\n",
      "only showing top 20 rows\n",
      "\n"
     ]
    }
   ],
   "source": [
    "value_counts(transactions_df, 'time_since_test_start', show_nulls=True)"
   ]
  },
  {
   "cell_type": "code",
   "execution_count": 40,
   "id": "e68aa232-784b-4390-801d-16046ff32fa3",
   "metadata": {},
   "outputs": [
    {
     "name": "stdout",
     "output_type": "stream",
     "text": [
      "\n",
      "📊 Distribuição da coluna: value_amount (total: 306534 registros)\n"
     ]
    },
    {
     "name": "stderr",
     "output_type": "stream",
     "text": [
      "[Stage 100:>                                                        (0 + 1) / 1]"
     ]
    },
    {
     "name": "stdout",
     "output_type": "stream",
     "text": [
      "+------------+------+--------------------+\n",
      "|value_amount|count |percent             |\n",
      "+------------+------+--------------------+\n",
      "|NULL        |167581|54.66962881768417   |\n",
      "|0.05        |431   |0.14060430490581793 |\n",
      "|0.66        |166   |0.05415386221430575 |\n",
      "|1.18        |165   |0.05382763412867741 |\n",
      "|1.01        |163   |0.05317517795742071 |\n",
      "|1.23        |161   |0.05252272178616402 |\n",
      "|0.9         |161   |0.05252272178616402 |\n",
      "|1.19        |159   |0.051870265614907325|\n",
      "|0.53        |159   |0.051870265614907325|\n",
      "|0.5         |159   |0.051870265614907325|\n",
      "|0.79        |157   |0.05121780944365062 |\n",
      "|1.5         |156   |0.05089158135802227 |\n",
      "|0.92        |156   |0.05089158135802227 |\n",
      "|1.54        |155   |0.05056535327239393 |\n",
      "|0.7         |154   |0.05023912518676558 |\n",
      "|0.74        |154   |0.05023912518676558 |\n",
      "|1.57        |154   |0.05023912518676558 |\n",
      "|1.27        |153   |0.04991289710113723 |\n",
      "|1.22        |153   |0.04991289710113723 |\n",
      "|0.65        |152   |0.049586669015508886|\n",
      "+------------+------+--------------------+\n",
      "only showing top 20 rows\n",
      "\n"
     ]
    },
    {
     "name": "stderr",
     "output_type": "stream",
     "text": [
      "                                                                                "
     ]
    }
   ],
   "source": [
    "value_counts(transactions_df, 'value_amount', show_nulls=True)"
   ]
  },
  {
   "cell_type": "code",
   "execution_count": 41,
   "id": "d8ec6bd5-feba-4a9d-a9bf-81088da15b37",
   "metadata": {},
   "outputs": [
    {
     "name": "stdout",
     "output_type": "stream",
     "text": [
      "\n",
      "📊 Distribuição da coluna: value_reward (total: 306534 registros)\n",
      "+------------+------+------------------+\n",
      "|value_reward|count |percent           |\n",
      "+------------+------+------------------+\n",
      "|NULL        |272955|89.04558711268571 |\n",
      "|5.0         |12070 |3.9375729935341592|\n",
      "|2.0         |9334  |3.0450129512549995|\n",
      "|10.0        |7019  |2.289794933025374 |\n",
      "|3.0         |5156  |1.6820320094997616|\n",
      "+------------+------+------------------+\n",
      "\n"
     ]
    },
    {
     "name": "stderr",
     "output_type": "stream",
     "text": [
      "                                                                                "
     ]
    }
   ],
   "source": [
    "value_counts(transactions_df, 'value_reward', show_nulls=True)"
   ]
  },
  {
   "cell_type": "code",
   "execution_count": 42,
   "id": "39f089bb-3b49-45d6-8f4d-e41f1b222176",
   "metadata": {},
   "outputs": [
    {
     "name": "stdout",
     "output_type": "stream",
     "text": [
      "\n",
      "📊 Distribuição da coluna: offer_id (total: 306534 registros)\n",
      "+--------------------------------+------+------------------+\n",
      "|offer_id                        |count |percent           |\n",
      "+--------------------------------+------+------------------+\n",
      "|NULL                            |138953|45.33037118231583 |\n",
      "|fafdcd668e3743c1bb461111dcafc2a4|20241 |6.60318268120339  |\n",
      "|2298d6c36e964ae4a3e7e9706d1fb8c2|20139 |6.569907416469299 |\n",
      "|f19421c1d4aa40978ebb69ca19b0e20d|19131 |6.241069506155924 |\n",
      "|4d5c57ea9a6940dd891ad53e9dbe8da0|18222 |5.944528176319755 |\n",
      "|ae264e3637204a6fb9bb56bc8210ddfd|18062 |5.89233168261922  |\n",
      "|9b98b8c7a33c4b65b9aebfe6a799e6d9|16202 |5.2855474433504925|\n",
      "|2906b810c7d4411798c6938adc9daaa5|15767 |5.143638226102162 |\n",
      "|5a8bc65990b245e5a138643cd4eb9837|14305 |4.666692764913517 |\n",
      "|0b1e1539f2cc45b7b9fa7c272da2e1d7|13751 |4.485962405475412 |\n",
      "|3f207df678b143eea3cee63160fa8bed|11761 |3.836768515075    |\n",
      "+--------------------------------+------+------------------+\n",
      "\n"
     ]
    },
    {
     "name": "stderr",
     "output_type": "stream",
     "text": [
      "                                                                                "
     ]
    }
   ],
   "source": [
    "value_counts(transactions_df, 'offer_id', show_nulls=True)"
   ]
  },
  {
   "cell_type": "markdown",
   "id": "9dfdf672-190e-4cca-b5cd-61d3d6ba750e",
   "metadata": {},
   "source": [
    "## 4. Data Integration"
   ]
  },
  {
   "cell_type": "code",
   "execution_count": 43,
   "id": "4a5484c4-a880-440c-a303-b1cab4f10109",
   "metadata": {},
   "outputs": [],
   "source": [
    "from src.eda.transform import integrate_all_dataframes"
   ]
  },
  {
   "cell_type": "code",
   "execution_count": 44,
   "id": "b5b2dd15-eead-4454-9690-bbb6db70edd5",
   "metadata": {},
   "outputs": [
    {
     "name": "stdout",
     "output_type": "stream",
     "text": [
      "+--------------+--------+--------------------+---------+----------+---------------+--------------+---------------+------------+\n",
      "|discount_value|duration|                  id|min_value|offer_type|channels_mobile|channels_email|channels_social|channels_web|\n",
      "+--------------+--------+--------------------+---------+----------+---------------+--------------+---------------+------------+\n",
      "|            10|     7.0|ae264e3637204a6fb...|       10|      bogo|              1|             1|              1|           0|\n",
      "|            10|     5.0|4d5c57ea9a6940dd8...|       10|      bogo|              1|             1|              1|           1|\n",
      "+--------------+--------+--------------------+---------+----------+---------------+--------------+---------------+------------+\n",
      "only showing top 2 rows\n",
      "\n"
     ]
    }
   ],
   "source": [
    "offers_df.show(2)"
   ]
  },
  {
   "cell_type": "code",
   "execution_count": 45,
   "id": "e629c257-0046-426a-bf73-4e7bb3d45cd2",
   "metadata": {},
   "outputs": [
    {
     "name": "stdout",
     "output_type": "stream",
     "text": [
      "+--------------------+--------------+---------------------+------------+------------+--------------------+\n",
      "|          account_id|         event|time_since_test_start|value_amount|value_reward|            offer_id|\n",
      "+--------------------+--------------+---------------------+------------+------------+--------------------+\n",
      "|78afa995795e4d85b...|offer received|                  0.0|        NULL|        NULL|9b98b8c7a33c4b65b...|\n",
      "|a03223e636434f42a...|offer received|                  0.0|        NULL|        NULL|0b1e1539f2cc45b7b...|\n",
      "+--------------------+--------------+---------------------+------------+------------+--------------------+\n",
      "only showing top 2 rows\n",
      "\n"
     ]
    },
    {
     "name": "stderr",
     "output_type": "stream",
     "text": [
      "                                                                                "
     ]
    }
   ],
   "source": [
    "transactions_df.show(2)"
   ]
  },
  {
   "cell_type": "code",
   "execution_count": 46,
   "id": "85228cf9-ca48-4bfe-9a10-ce026619c83e",
   "metadata": {},
   "outputs": [
    {
     "name": "stdout",
     "output_type": "stream",
     "text": [
      "+--------------+--------+--------------------+---------+----------+---------------+--------------+---------------+------------+\n",
      "|discount_value|duration|                  id|min_value|offer_type|channels_mobile|channels_email|channels_social|channels_web|\n",
      "+--------------+--------+--------------------+---------+----------+---------------+--------------+---------------+------------+\n",
      "|            10|     7.0|ae264e3637204a6fb...|       10|      bogo|              1|             1|              1|           0|\n",
      "|            10|     5.0|4d5c57ea9a6940dd8...|       10|      bogo|              1|             1|              1|           1|\n",
      "+--------------+--------+--------------------+---------+----------+---------------+--------------+---------------+------------+\n",
      "only showing top 2 rows\n",
      "\n"
     ]
    }
   ],
   "source": [
    "offers_df.show(2)"
   ]
  },
  {
   "cell_type": "code",
   "execution_count": 47,
   "id": "b5991fe9-2bea-421a-be2d-5b44034bf388",
   "metadata": {},
   "outputs": [
    {
     "name": "stdout",
     "output_type": "stream",
     "text": [
      "root\n",
      " |-- account_id: string (nullable = true)\n",
      " |-- event: string (nullable = true)\n",
      " |-- time_since_test_start: double (nullable = true)\n",
      " |-- value_amount: double (nullable = true)\n",
      " |-- value_reward: double (nullable = true)\n",
      " |-- offer_id: string (nullable = true)\n",
      " |-- age: long (nullable = true)\n",
      " |-- credit_card_limit: double (nullable = true)\n",
      " |-- gender: string (nullable = true)\n",
      " |-- registered_on: string (nullable = true)\n",
      " |-- birth_year: long (nullable = true)\n",
      " |-- age_group: string (nullable = true)\n",
      " |-- credit_limit_bucket: string (nullable = true)\n",
      " |-- discount_value: long (nullable = true)\n",
      " |-- duration: double (nullable = true)\n",
      " |-- min_value: long (nullable = true)\n",
      " |-- offer_type: string (nullable = true)\n",
      " |-- channels_mobile: integer (nullable = true)\n",
      " |-- channels_email: integer (nullable = true)\n",
      " |-- channels_social: integer (nullable = true)\n",
      " |-- channels_web: integer (nullable = true)\n",
      "\n"
     ]
    }
   ],
   "source": [
    "full_df = integrate_all_dataframes(transactions_df, customers_df, offers_df)\n",
    "full_df.printSchema()"
   ]
  },
  {
   "cell_type": "code",
   "execution_count": 48,
   "id": "b71d19c3-ee88-4eda-8e67-eb97289b8947",
   "metadata": {},
   "outputs": [
    {
     "name": "stderr",
     "output_type": "stream",
     "text": [
      "[Stage 120:>                                                        (0 + 1) / 1]"
     ]
    },
    {
     "name": "stdout",
     "output_type": "stream",
     "text": [
      "+--------------------------------+--------------+---------------------+------------+------------+--------------------------------+---+-----------------+-------+-------------+----------+-------------+-------------------+--------------+--------+---------+----------+---------------+--------------+---------------+------------+\n",
      "|account_id                      |event         |time_since_test_start|value_amount|value_reward|offer_id                        |age|credit_card_limit|gender |registered_on|birth_year|age_group    |credit_limit_bucket|discount_value|duration|min_value|offer_type|channels_mobile|channels_email|channels_social|channels_web|\n",
      "+--------------------------------+--------------+---------------------+------------+------------+--------------------------------+---+-----------------+-------+-------------+----------+-------------+-------------------+--------------+--------+---------+----------+---------------+--------------+---------------+------------+\n",
      "|78afa995795e4d85b5d9ceeca43f5fef|offer received|0.0                  |NULL        |NULL        |9b98b8c7a33c4b65b9aebfe6a799e6d9|75 |100000.0         |F      |20170509     |1942      |Boomers (60+)|Very High (> 60k)  |5             |7.0     |5        |bogo      |1              |1             |0              |1           |\n",
      "|a03223e636434f42ac4c3df47e8bac43|offer received|0.0                  |NULL        |NULL        |0b1e1539f2cc45b7b9fa7c272da2e1d7|118|63000.0          |unknown|20170804     |1899      |Boomers (60+)|Very High (> 60k)  |5             |10.0    |20       |discount  |0              |1             |0              |1           |\n",
      "|e2127556f4f64592b11af22de27a7932|offer received|0.0                  |NULL        |NULL        |2906b810c7d4411798c6938adc9daaa5|68 |70000.0          |M      |20180426     |1950      |Boomers (60+)|Very High (> 60k)  |2             |7.0     |10       |discount  |1              |1             |0              |1           |\n",
      "|8ec6ce2a7e7949b1bf142def7d0e0586|offer received|0.0                  |NULL        |NULL        |fafdcd668e3743c1bb461111dcafc2a4|118|63000.0          |unknown|20170925     |1899      |Boomers (60+)|Very High (> 60k)  |2             |10.0    |10       |discount  |1              |1             |1              |1           |\n",
      "|68617ca6246f4fbc85e91a2a49552598|offer received|0.0                  |NULL        |NULL        |4d5c57ea9a6940dd891ad53e9dbe8da0|118|63000.0          |unknown|20171002     |1899      |Boomers (60+)|Very High (> 60k)  |10            |5.0     |10       |bogo      |1              |1             |1              |1           |\n",
      "+--------------------------------+--------------+---------------------+------------+------------+--------------------------------+---+-----------------+-------+-------------+----------+-------------+-------------------+--------------+--------+---------+----------+---------------+--------------+---------------+------------+\n",
      "only showing top 5 rows\n",
      "\n"
     ]
    },
    {
     "name": "stderr",
     "output_type": "stream",
     "text": [
      "                                                                                "
     ]
    }
   ],
   "source": [
    "full_df.show(5, truncate=False)"
   ]
  },
  {
   "cell_type": "markdown",
   "id": "05e50498-0b4b-40d0-b916-939a1b291f4b",
   "metadata": {},
   "source": [
    "## 5. Exploratory Data Analysis\n",
    "\n",
    "### Questions:\n",
    "**a) Qual o perfil de clientes que completam ofertas considerando as features idade (ano de nascimento), gênero e limite de credito?**"
   ]
  },
  {
   "cell_type": "code",
   "execution_count": 49,
   "id": "b72d09f7-554c-4ff9-ba60-cc555af3e566",
   "metadata": {},
   "outputs": [],
   "source": [
    "from pyspark.sql.functions import col, count, round as spark_round"
   ]
  },
  {
   "cell_type": "code",
   "execution_count": 51,
   "id": "6127b77f-6a58-4b90-b6d2-2f3cc47d2d6a",
   "metadata": {},
   "outputs": [
    {
     "name": "stderr",
     "output_type": "stream",
     "text": [
      "[Stage 128:>                                                        (0 + 1) / 1]"
     ]
    },
    {
     "name": "stdout",
     "output_type": "stream",
     "text": [
      "+-------------------+-----+-------+\n",
      "|age_group          |count|percent|\n",
      "+-------------------+-----+-------+\n",
      "|Boomers (60+)      |21235|63.24  |\n",
      "|Gen X (45–59)      |7577 |22.56  |\n",
      "|Millennials (30–44)|3897 |11.61  |\n",
      "|Gen Z (15–29)      |870  |2.59   |\n",
      "+-------------------+-----+-------+\n",
      "\n"
     ]
    },
    {
     "name": "stderr",
     "output_type": "stream",
     "text": [
      "                                                                                "
     ]
    }
   ],
   "source": [
    "total = full_df.filter(col(\"event\") == \"offer completed\").count()\n",
    "\n",
    "full_df.filter(col(\"event\") == \"offer completed\") \\\n",
    "    .groupBy(\"age_group\") \\\n",
    "    .agg(count(\"*\").alias(\"count\")) \\\n",
    "    .withColumn(\"percent\", spark_round((col(\"count\") / total) * 100, 2)) \\\n",
    "    .orderBy(\"count\", ascending=False) \\\n",
    "    .show(5, truncate=False)"
   ]
  },
  {
   "cell_type": "markdown",
   "id": "fb83a606-d1e6-4aa0-99ce-ddccf1e7c5c8",
   "metadata": {},
   "source": [
    "🔍 Insight: a base tem **forte presença de clientes com 45 anos ou mais (Boomers e Gen X somam mais de 85%)**. Isso pode refletir o histórico da base de dados ou o público principal da plataforma nesse período."
   ]
  },
  {
   "cell_type": "code",
   "execution_count": 52,
   "id": "12a01e34-3801-42c4-9dc1-23576f518f6b",
   "metadata": {},
   "outputs": [
    {
     "name": "stderr",
     "output_type": "stream",
     "text": [
      "                                                                                "
     ]
    },
    {
     "name": "stdout",
     "output_type": "stream",
     "text": [
      "+-------+-----+-------+\n",
      "|gender |count|percent|\n",
      "+-------+-----+-------+\n",
      "|M      |16466|49.04  |\n",
      "|F      |15477|46.09  |\n",
      "|unknown|1636 |4.87   |\n",
      "+-------+-----+-------+\n",
      "\n"
     ]
    },
    {
     "name": "stderr",
     "output_type": "stream",
     "text": [
      "                                                                                "
     ]
    }
   ],
   "source": [
    "total = full_df.filter(col(\"event\") == \"offer completed\").count()\n",
    "\n",
    "full_df.filter(col(\"event\") == \"offer completed\") \\\n",
    "    .groupBy(\"gender\") \\\n",
    "    .agg(count(\"*\").alias(\"count\")) \\\n",
    "    .withColumn(\"percent\", spark_round((col(\"count\") / total) * 100, 2)) \\\n",
    "    .orderBy(\"count\", ascending=False) \\\n",
    "    .show(5, truncate=False)"
   ]
  },
  {
   "cell_type": "markdown",
   "id": "1f8ad2fa-72ef-4abc-b834-1212246f440e",
   "metadata": {},
   "source": [
    "🔍 Insight: **Distribuição de gênero bastante balanceada** — bom para estratégias de comunicação neutras ou segmentadas."
   ]
  },
  {
   "cell_type": "code",
   "execution_count": 53,
   "id": "a0883e1d-7c5a-44e5-9ae5-e2d2c102e602",
   "metadata": {},
   "outputs": [
    {
     "name": "stderr",
     "output_type": "stream",
     "text": [
      "                                                                                "
     ]
    },
    {
     "name": "stdout",
     "output_type": "stream",
     "text": [
      "+-------------------+-----+-------+\n",
      "|credit_limit_bucket|count|percent|\n",
      "+-------------------+-----+-------+\n",
      "|Very High (> 60k)  |21483|63.98  |\n",
      "|High (30k–60k)     |11976|35.67  |\n",
      "|Medium (10k–30k)   |120  |0.36   |\n",
      "+-------------------+-----+-------+\n",
      "\n"
     ]
    },
    {
     "name": "stderr",
     "output_type": "stream",
     "text": [
      "                                                                                "
     ]
    }
   ],
   "source": [
    "total = full_df.filter(col(\"event\") == \"offer completed\").count()\n",
    "\n",
    "full_df.filter(col(\"event\") == \"offer completed\") \\\n",
    "    .groupBy(\"credit_limit_bucket\") \\\n",
    "    .agg(count(\"*\").alias(\"count\")) \\\n",
    "    .withColumn(\"percent\", spark_round((col(\"count\") / total) * 100, 2)) \\\n",
    "    .orderBy(\"count\", ascending=False) \\\n",
    "    .show(5, truncate=False)"
   ]
  },
  {
   "cell_type": "markdown",
   "id": "ecca9d52-61f5-4e96-8b82-5491c6add5b9",
   "metadata": {},
   "source": [
    "🔍 Insight: A base está altamente concentrada em **clientes de alto poder aquisitivo**. Estratégias de cupons e ofertas podem ser mais voltadas para valor agregado (ex: brindes, experiências) do que simples descontos."
   ]
  },
  {
   "cell_type": "markdown",
   "id": "972fc0cf-c187-4a0a-bbde-01c92ac8644d",
   "metadata": {},
   "source": [
    "**a) Qual o perfil de clientes que completam ofertas considerando as features ano de nascimento, gênero e limite de credito?**"
   ]
  },
  {
   "cell_type": "code",
   "execution_count": 56,
   "id": "7bdb63b9-2f5d-49e6-abb9-057c04e9f27e",
   "metadata": {},
   "outputs": [
    {
     "name": "stderr",
     "output_type": "stream",
     "text": [
      "                                                                                "
     ]
    },
    {
     "name": "stdout",
     "output_type": "stream",
     "text": [
      "+-------------------+-----+-------+\n",
      "|age_group          |count|percent|\n",
      "+-------------------+-----+-------+\n",
      "|Boomers (60+)      |21235|15.28  |\n",
      "|Gen X (45–59)      |7577 |5.45   |\n",
      "|Millennials (30–44)|3897 |2.8    |\n",
      "|Gen Z (15–29)      |870  |0.63   |\n",
      "+-------------------+-----+-------+\n",
      "\n"
     ]
    },
    {
     "name": "stderr",
     "output_type": "stream",
     "text": [
      "                                                                                "
     ]
    }
   ],
   "source": [
    "total = full_df.filter(col(\"event\") == \"transaction\").count()\n",
    "\n",
    "full_df.filter(col(\"event\") == \"offer completed\") \\\n",
    "    .groupBy(\"age_group\") \\\n",
    "    .agg(count(\"*\").alias(\"count\")) \\\n",
    "    .withColumn(\"percent\", spark_round((col(\"count\") / total) * 100, 2)) \\\n",
    "    .orderBy(\"count\", ascending=False) \\\n",
    "    .show(5, truncate=False)"
   ]
  },
  {
   "cell_type": "code",
   "execution_count": null,
   "id": "7ee1d85b-4a29-4ccd-94a4-af3c47e1a570",
   "metadata": {},
   "outputs": [],
   "source": [
    "print(f\"Full df: {full_df.count()} linhas\")"
   ]
  },
  {
   "cell_type": "code",
   "execution_count": null,
   "id": "84fcacc8-5824-4195-9f52-18ff816b3d10",
   "metadata": {},
   "outputs": [],
   "source": [
    "value_counts(full_df, \"offer_type\")"
   ]
  },
  {
   "cell_type": "code",
   "execution_count": null,
   "id": "b046ce43-d678-4858-b97c-37c718cee91b",
   "metadata": {},
   "outputs": [],
   "source": [
    "value_counts(full_df, \"event\")"
   ]
  },
  {
   "cell_type": "code",
   "execution_count": null,
   "id": "72839c6d-b6a6-4acc-9ce0-9aa0c038dddc",
   "metadata": {},
   "outputs": [],
   "source": [
    " value_amount: double (nullable = true)\n",
    " |-- value_reward: double (nullable = true)\n",
    "\n",
    "isna_sum(full_df, 'full_df')"
   ]
  }
 ],
 "metadata": {
  "kernelspec": {
   "display_name": "Python 3 (ipykernel)",
   "language": "python",
   "name": "python3"
  },
  "language_info": {
   "codemirror_mode": {
    "name": "ipython",
    "version": 3
   },
   "file_extension": ".py",
   "mimetype": "text/x-python",
   "name": "python",
   "nbconvert_exporter": "python",
   "pygments_lexer": "ipython3",
   "version": "3.11.11"
  }
 },
 "nbformat": 4,
 "nbformat_minor": 5
}
