{
 "cells": [
  {
   "cell_type": "markdown",
   "id": "6381b590-08c8-405d-9fd0-a314c486de49",
   "metadata": {},
   "source": [
    "# 📊 Notebook 1 — Processamento e Preparação de Dados\n",
    "\n",
    "Este notebook tem como objetivo realizar a **exploração, limpeza e preparação dos dados brutos** do case técnico proposto, utilizando **PySpark** como engine principal de processamento distribuído.\n",
    "\n",
    "---\n",
    "\n",
    "## 🎯 Objetivo\n",
    "\n",
    "- Carregar os dados brutos fornecidos (`customers.json.gz`, `offers.json.gz`, `transactions.json.gz`)\n",
    "- Realizar uma análise exploratória inicial (**EDA**) para entender a estrutura, qualidade e distribuição dos dados\n",
    "- Tratar dados faltantes, tipos e formatos\n",
    "- Preparar um conjunto de dados unificado e otimizado para análise e modelagem futura\n",
    "- Salvar os dados tratados em formato **Parquet**, que é mais eficiente e leve para uso com Spark\n",
    "\n",
    "## 🔁 Etapas executadas neste notebook\n",
    "\n",
    "1. Importação de bibliotecas e configuração do ambiente PySpark\n",
    "2. Leitura dos arquivos `.json.gz` diretamente com Spark\n",
    "3. Exploração e validação de schemas e estatísticas dos dados\n",
    "4. Tratamento de dados ausentes, inconsistentes ou inválidos\n",
    "5. Conversão para formatos otimizados (`.parquet`)\n",
    "6. Exportação dos dados tratados para `data/processed/`\n",
    "\n",
    "---\n",
    "\n",
    "## 🗂️ Estrutura esperada dos dados\n",
    "\n",
    "- `data/raw/` → Arquivos `.json.gz` (compactados)\n",
    "- `data/processed/` → Arquivos `.parquet` tratados e otimizados\n",
    "\n",
    "---\n",
    "\n",
    "## ⚙️ Tecnologias utilizadas\n",
    "\n",
    "- Python 3.11\n",
    "- PySpark\n",
    "- JupyterLab\n",
    "- Pandas (suporte auxiliar para análise exploratória)\n"
   ]
  },
  {
   "cell_type": "markdown",
   "id": "4982ded1-364a-414f-98cb-808087dbe2b5",
   "metadata": {},
   "source": [
    "## 1. 📦 Importação de bibliotecas e configuração do PySpark\n",
    "\n",
    "Nesta etapa, vamos:\n",
    "\n",
    "- Importar as bibliotecas necessárias para manipulação e análise dos dados\n",
    "- Inicializar a sessão do PySpark (`SparkSession`), que será usada para leitura, transformação e gravação dos dados\n",
    "- Configurar parâmetros básicos de execução, como nome da aplicação e quantidade de memória (caso necessário)"
   ]
  },
  {
   "cell_type": "code",
   "execution_count": 111,
   "id": "19987cee-1254-42c6-a6c9-0e311043f36b",
   "metadata": {},
   "outputs": [],
   "source": [
    "import sys\n",
    "import os\n",
    "\n",
    "# Obtém o caminho absoluto do diretório 'src'\n",
    "src_path = os.path.abspath(\"../\")\n",
    "# Adiciona 'src' ao sys.path\n",
    "if src_path not in sys.path:\n",
    "    sys.path.append(src_path)\n",
    "\n",
    "from pyspark.sql.functions import col, lit, count, avg, sum as _sum, round as spark_round, row_number, collect_list, datediff, year, current_date, to_date, when\n",
    "from pyspark.sql.window import Window\n",
    "from src.eda.transform import drop_columns, explode_list_columns_to_ohe, consolidate_columns, integrate_all_dataframes\n",
    "from src.spark.session import create_spark_session\n",
    "from src.eda.data_diagnostics import value_counts, isna_sum\n",
    "from src.eda.pipeline import feature_engineering_customers_data, clean_customers_data\n",
    "from src.eda.io import save_spark_dataframe, read_spark_dataframe"
   ]
  },
  {
   "cell_type": "code",
   "execution_count": 20,
   "id": "89f5d922-f3f8-434e-b504-14a75864093c",
   "metadata": {},
   "outputs": [
    {
     "name": "stdout",
     "output_type": "stream",
     "text": [
      "✅ SparkSession iniciada com sucesso com nível de log 'WARN'!\n"
     ]
    }
   ],
   "source": [
    "spark = create_spark_session()"
   ]
  },
  {
   "cell_type": "markdown",
   "id": "8c030c96-251b-4702-bafa-04a302652a0d",
   "metadata": {},
   "source": [
    "## 2. Leitura e entendimento dos dados brutos (.json.gz)\n",
    "\n",
    "Nesta etapa, vamos:\n",
    "\n",
    "- Ler os três conjuntos de dados fornecidos: `offers.json`, `customers.json` e `transactions.json`\n",
    "- Compreender a estrutura e os tipos de dados presentes em cada conjunto\n",
    "- Preparar os dados para as próximas etapas do pipeline\n",
    "\n",
    "### 🟦 `customers.json`\n",
    "\n",
    "Contém atributos de aproximadamente **17 mil clientes** registrados:\n",
    "\n",
    "| Coluna              | Tipo     | Descrição                                          |\n",
    "|---------------------|----------|----------------------------------------------------|\n",
    "| `id`                | `string` | ID único do cliente                                |\n",
    "| `age`               | `int`    | Idade no momento de criação da conta               |\n",
    "| `registered_on`     | `int`    | Data de criação da conta (em dias desde o início do teste) |\n",
    "| `gender`            | `string` | Gênero do cliente (`M`, `F`, `O`, ou `NULL`)        |\n",
    "| `credit_card_limit` | `float`  | Limite de crédito informado na conta               |\n",
    "\n",
    "---\n",
    "### 🟩 `offers.json`\n",
    "\n",
    "Contém os **IDs das ofertas** e seus respectivos **metadados**:\n",
    "\n",
    "| Coluna           | Tipo           | Descrição                                          |\n",
    "|------------------|----------------|----------------------------------------------------|\n",
    "| `id`             | `string`       | ID único da oferta                                 |\n",
    "| `offer_type`     | `string`       | Tipo da oferta: `bogo`, `discount` ou `informational` |\n",
    "| `min_value`      | `int`          | Valor mínimo necessário para ativar a oferta       |\n",
    "| `duration`       | `int`          | Duração da oferta (em dias)                        |\n",
    "| `discount_value` | `int`          | Valor do desconto aplicado                         |\n",
    "| `channels`       | `array<string>`| Canais de veiculação (ex: `email`, `mobile`, etc.) |\n",
    "\n",
    "---\n",
    "\n",
    "### 🟨 `transactions.json`\n",
    "\n",
    "Contém cerca de **300 mil eventos** registrados durante o período de teste:\n",
    "\n",
    "| Coluna              | Tipo      | Descrição                                          |\n",
    "|---------------------|-----------|----------------------------------------------------|\n",
    "| `event`             | `string`  | Tipo do evento (`transaction`, `offer received`, etc.) |\n",
    "| `account_id`        | `string`  | ID do cliente associado ao evento                 |\n",
    "| `time_since_test_start` | `int` | Tempo (em dias) desde o início do experimento     |\n",
    "| `value`             | `json`    | Valor associado ao evento (`offer_id`, `reward` ou `amount`) |\n",
    "\n",
    "---\n",
    "\n",
    "🔍 Vamos agora carregarboth_present_df = df.filter(\n",
    "    col(\"value.offer_id\").isNotNull() & col(\"value.`offer id`\").isNotNull()\n",
    ") esses arquivos utilizando o **PySpark**, garantindo que os tipos de dados sejam corretamente interpretados e que os dados estejam prontos para análise\n"
   ]
  },
  {
   "cell_type": "code",
   "execution_count": 21,
   "id": "c06caeb9-21a5-472d-8b8f-f28016000388",
   "metadata": {},
   "outputs": [
    {
     "name": "stderr",
     "output_type": "stream",
     "text": [
      "                                                                                "
     ]
    }
   ],
   "source": [
    "# Lê os arquivos JSON compactados com PySpark\n",
    "customers_df = spark.read.json(\"/app/data/raw/profile.json.gz\")\n",
    "offers_df = spark.read.json(\"/app/data/raw/offers.json.gz\")\n",
    "transactions_df = spark.read.json(\"/app/data/raw/transactions.json.gz\")"
   ]
  },
  {
   "cell_type": "code",
   "execution_count": 22,
   "id": "24781c02-bef3-4f90-a225-5b6ab59c4e22",
   "metadata": {},
   "outputs": [
    {
     "name": "stdout",
     "output_type": "stream",
     "text": [
      "👤 Customers:\n",
      "+---+-----------------+------+--------------------------------+-------------+\n",
      "|age|credit_card_limit|gender|id                              |registered_on|\n",
      "+---+-----------------+------+--------------------------------+-------------+\n",
      "|118|NULL             |NULL  |68be06ca386d4c31939f3a4f0e3dd783|20170212     |\n",
      "|55 |112000.0         |F     |0610b486422d4921ae7d2bf64640c50b|20170715     |\n",
      "|118|NULL             |NULL  |38fe809add3b4fcf9315a9694bb96ff5|20180712     |\n",
      "|75 |100000.0         |F     |78afa995795e4d85b5d9ceeca43f5fef|20170509     |\n",
      "|118|NULL             |NULL  |a03223e636434f42ac4c3df47e8bac43|20170804     |\n",
      "+---+-----------------+------+--------------------------------+-------------+\n",
      "only showing top 5 rows\n",
      "\n",
      "🏷️ Offers:\n",
      "+----------------------------+--------------+--------+--------------------------------+---------+-------------+\n",
      "|channels                    |discount_value|duration|id                              |min_value|offer_type   |\n",
      "+----------------------------+--------------+--------+--------------------------------+---------+-------------+\n",
      "|[email, mobile, social]     |10            |7.0     |ae264e3637204a6fb9bb56bc8210ddfd|10       |bogo         |\n",
      "|[web, email, mobile, social]|10            |5.0     |4d5c57ea9a6940dd891ad53e9dbe8da0|10       |bogo         |\n",
      "|[web, email, mobile]        |0             |4.0     |3f207df678b143eea3cee63160fa8bed|0        |informational|\n",
      "|[web, email, mobile]        |5             |7.0     |9b98b8c7a33c4b65b9aebfe6a799e6d9|5        |bogo         |\n",
      "|[web, email]                |5             |10.0    |0b1e1539f2cc45b7b9fa7c272da2e1d7|20       |discount     |\n",
      "+----------------------------+--------------+--------+--------------------------------+---------+-------------+\n",
      "only showing top 5 rows\n",
      "\n",
      "💳 Transactions:\n",
      "+--------------------------------+--------------+---------------------+----------------------------------------------------+\n",
      "|account_id                      |event         |time_since_test_start|value                                               |\n",
      "+--------------------------------+--------------+---------------------+----------------------------------------------------+\n",
      "|78afa995795e4d85b5d9ceeca43f5fef|offer received|0.0                  |{NULL, 9b98b8c7a33c4b65b9aebfe6a799e6d9, NULL, NULL}|\n",
      "|a03223e636434f42ac4c3df47e8bac43|offer received|0.0                  |{NULL, 0b1e1539f2cc45b7b9fa7c272da2e1d7, NULL, NULL}|\n",
      "|e2127556f4f64592b11af22de27a7932|offer received|0.0                  |{NULL, 2906b810c7d4411798c6938adc9daaa5, NULL, NULL}|\n",
      "|8ec6ce2a7e7949b1bf142def7d0e0586|offer received|0.0                  |{NULL, fafdcd668e3743c1bb461111dcafc2a4, NULL, NULL}|\n",
      "|68617ca6246f4fbc85e91a2a49552598|offer received|0.0                  |{NULL, 4d5c57ea9a6940dd891ad53e9dbe8da0, NULL, NULL}|\n",
      "+--------------------------------+--------------+---------------------+----------------------------------------------------+\n",
      "only showing top 5 rows\n",
      "\n"
     ]
    },
    {
     "name": "stderr",
     "output_type": "stream",
     "text": [
      "                                                                                "
     ]
    }
   ],
   "source": [
    "# Mostra uma prévia dos dados\n",
    "print(\"👤 Customers:\")\n",
    "customers_df.show(5, truncate=False)\n",
    "\n",
    "print(\"🏷️ Offers:\")\n",
    "offers_df.show(5, truncate=False)\n",
    "\n",
    "print(\"💳 Transactions:\")\n",
    "transactions_df.show(5, truncate=False)"
   ]
  },
  {
   "cell_type": "code",
   "execution_count": 23,
   "id": "58c6e4ea-5c4c-41de-8295-2e2590567567",
   "metadata": {},
   "outputs": [
    {
     "name": "stdout",
     "output_type": "stream",
     "text": [
      "customers_df: 17000 linhas\n",
      "offers_df: 10 linhas\n",
      "transactions_df: 306534 linhas\n"
     ]
    }
   ],
   "source": [
    "print(f\"customers_df: {customers_df.count()} linhas\")\n",
    "print(f\"offers_df: {offers_df.count()} linhas\")\n",
    "print(f\"transactions_df: {transactions_df.count()} linhas\")"
   ]
  },
  {
   "cell_type": "markdown",
   "id": "8b547293-ddef-4d7e-b11d-c2b63a6ea294",
   "metadata": {},
   "source": [
    "## 3. 🔍 Exploração e Validação dos Dados (EDA)\n",
    "\n",
    "Nesta etapa, vamos:\n",
    "\n",
    "- Explorar os schemas das tabelas para verificar tipos de dados\n",
    "- Observar estatísticas descritivas básicas\n",
    "- Contar valores nulos e valores únicos\n",
    "- Identificar possíveis problemas de qualidade (ex: campos vazios, inconsistentes)\n",
    "- Verificar distribuições de colunas importantes"
   ]
  },
  {
   "cell_type": "markdown",
   "id": "0436d17d-123e-4e4d-b5ac-1290cb217ecf",
   "metadata": {},
   "source": [
    "### 3.1 Tabela ``customers``\n",
    "\n",
    "#### 3.1.1 Check NaN Values"
   ]
  },
  {
   "cell_type": "code",
   "execution_count": 24,
   "id": "fea2e706-b817-43d6-b3fb-4adc076004c8",
   "metadata": {},
   "outputs": [
    {
     "name": "stdout",
     "output_type": "stream",
     "text": [
      "\n",
      "📘 Schema de customers:\n",
      "root\n",
      " |-- age: long (nullable = true)\n",
      " |-- credit_card_limit: double (nullable = true)\n",
      " |-- gender: string (nullable = true)\n",
      " |-- id: string (nullable = true)\n",
      " |-- registered_on: string (nullable = true)\n",
      "\n",
      "\n",
      "🔢 Total de linhas: 17000\n",
      "\n",
      "📊 Nulos por coluna (valores e %):\n",
      "– age: 0 nulos (0.00%)\n",
      "– credit_card_limit: 2175 nulos (12.79%)\n",
      "– gender: 2175 nulos (12.79%)\n",
      "– id: 0 nulos (0.00%)\n",
      "– registered_on: 0 nulos (0.00%)\n",
      "\n",
      "🔎 Amostra de customers:\n",
      "+---+-----------------+------+--------------------------------+-------------+\n",
      "|age|credit_card_limit|gender|id                              |registered_on|\n",
      "+---+-----------------+------+--------------------------------+-------------+\n",
      "|118|NULL             |NULL  |68be06ca386d4c31939f3a4f0e3dd783|20170212     |\n",
      "|55 |112000.0         |F     |0610b486422d4921ae7d2bf64640c50b|20170715     |\n",
      "|118|NULL             |NULL  |38fe809add3b4fcf9315a9694bb96ff5|20180712     |\n",
      "|75 |100000.0         |F     |78afa995795e4d85b5d9ceeca43f5fef|20170509     |\n",
      "|118|NULL             |NULL  |a03223e636434f42ac4c3df47e8bac43|20170804     |\n",
      "+---+-----------------+------+--------------------------------+-------------+\n",
      "only showing top 5 rows\n",
      "\n"
     ]
    }
   ],
   "source": [
    "isna_sum(customers_df, \"customers\")"
   ]
  },
  {
   "cell_type": "markdown",
   "id": "5ddb12a8-4e36-4ae4-9171-fa217dc93328",
   "metadata": {},
   "source": [
    "#### 3.1.2 Data Analysis ``gender`` and ``credit_card_limit``"
   ]
  },
  {
   "cell_type": "code",
   "execution_count": 25,
   "id": "0fea92e4-6c06-4775-95bb-77a8a1c10748",
   "metadata": {},
   "outputs": [
    {
     "name": "stdout",
     "output_type": "stream",
     "text": [
      "\n",
      "📊 Distribuição da coluna: gender (total: 17000 registros)\n",
      "+------+-----+------------------+\n",
      "|gender|count|percent           |\n",
      "+------+-----+------------------+\n",
      "|M     |8484 |49.90588235294118 |\n",
      "|F     |6129 |36.05294117647059 |\n",
      "|NULL  |2175 |12.794117647058822|\n",
      "|O     |212  |1.2470588235294118|\n",
      "+------+-----+------------------+\n",
      "\n"
     ]
    }
   ],
   "source": [
    "value_counts(customers_df, \"gender\")"
   ]
  },
  {
   "cell_type": "code",
   "execution_count": 26,
   "id": "5def0aed-c61f-455f-99f7-7f9a6dfb7356",
   "metadata": {},
   "outputs": [
    {
     "name": "stdout",
     "output_type": "stream",
     "text": [
      "\n",
      "📊 Distribuição da coluna: credit_card_limit (total: 17000 registros)\n",
      "+-----------------+-----+------------------+\n",
      "|credit_card_limit|count|percent           |\n",
      "+-----------------+-----+------------------+\n",
      "|NULL             |2175 |12.794117647058822|\n",
      "|73000.0          |314  |1.8470588235294116|\n",
      "|72000.0          |297  |1.7470588235294116|\n",
      "|71000.0          |294  |1.7294117647058824|\n",
      "|57000.0          |288  |1.6941176470588233|\n",
      "|74000.0          |282  |1.6588235294117646|\n",
      "|53000.0          |282  |1.6588235294117646|\n",
      "|52000.0          |281  |1.6529411764705884|\n",
      "|56000.0          |281  |1.6529411764705884|\n",
      "|54000.0          |272  |1.6               |\n",
      "|70000.0          |270  |1.588235294117647 |\n",
      "|51000.0          |268  |1.576470588235294 |\n",
      "|61000.0          |258  |1.5176470588235296|\n",
      "|64000.0          |258  |1.5176470588235296|\n",
      "|55000.0          |254  |1.4941176470588236|\n",
      "|50000.0          |253  |1.4882352941176469|\n",
      "|60000.0          |251  |1.4764705882352942|\n",
      "|75000.0          |243  |1.4294117647058824|\n",
      "|59000.0          |243  |1.4294117647058824|\n",
      "|67000.0          |242  |1.423529411764706 |\n",
      "+-----------------+-----+------------------+\n",
      "only showing top 20 rows\n",
      "\n"
     ]
    }
   ],
   "source": [
    "value_counts(customers_df, \"credit_card_limit\")"
   ]
  },
  {
   "cell_type": "markdown",
   "id": "5c50bec7-b1b1-43fb-8561-45d313fcb09b",
   "metadata": {},
   "source": [
    "#### 3.1.3 Replace NaN Values\n",
    "1. Coluna gender: Colocar o gender \"O\" para \"NULL\"\n",
    "2. Coluna credit_card_limit: Usar a mediana para substituir os dados nulos"
   ]
  },
  {
   "cell_type": "code",
   "execution_count": 27,
   "id": "4f040040-d58c-4f80-a431-67731913a247",
   "metadata": {},
   "outputs": [
    {
     "name": "stdout",
     "output_type": "stream",
     "text": [
      "🔍 Cleaning 'gender' column...\n",
      "✅ 'gender' cleaned: values normalized (M, F, unknown)\n",
      "\n",
      "📈 Calculating statistics for 'credit_card_limit'...\n",
      "📊 Mean credit limit: 65404.99\n",
      "📏 Median credit limit: 63000.00\n",
      "✅ 'credit_card_limit' nulls filled with median.\n"
     ]
    }
   ],
   "source": [
    "customers_df = clean_customers_data(customers_df)"
   ]
  },
  {
   "cell_type": "code",
   "execution_count": 28,
   "id": "961e68b3-e429-4767-97e2-ae245e08eee3",
   "metadata": {},
   "outputs": [
    {
     "name": "stdout",
     "output_type": "stream",
     "text": [
      "\n",
      "📘 Schema de customers:\n",
      "root\n",
      " |-- age: long (nullable = true)\n",
      " |-- credit_card_limit: double (nullable = false)\n",
      " |-- gender: string (nullable = true)\n",
      " |-- id: string (nullable = true)\n",
      " |-- registered_on: string (nullable = true)\n",
      "\n",
      "\n",
      "🔢 Total de linhas: 17000\n",
      "\n",
      "📊 Nulos por coluna (valores e %):\n",
      "– age: 0 nulos (0.00%)\n",
      "– credit_card_limit: 0 nulos (0.00%)\n",
      "– gender: 0 nulos (0.00%)\n",
      "– id: 0 nulos (0.00%)\n",
      "– registered_on: 0 nulos (0.00%)\n",
      "\n",
      "🔎 Amostra de customers:\n",
      "+---+-----------------+-------+--------------------------------+-------------+\n",
      "|age|credit_card_limit|gender |id                              |registered_on|\n",
      "+---+-----------------+-------+--------------------------------+-------------+\n",
      "|118|63000.0          |unknown|68be06ca386d4c31939f3a4f0e3dd783|20170212     |\n",
      "|55 |112000.0         |F      |0610b486422d4921ae7d2bf64640c50b|20170715     |\n",
      "|118|63000.0          |unknown|38fe809add3b4fcf9315a9694bb96ff5|20180712     |\n",
      "|75 |100000.0         |F      |78afa995795e4d85b5d9ceeca43f5fef|20170509     |\n",
      "|118|63000.0          |unknown|a03223e636434f42ac4c3df47e8bac43|20170804     |\n",
      "+---+-----------------+-------+--------------------------------+-------------+\n",
      "only showing top 5 rows\n",
      "\n"
     ]
    }
   ],
   "source": [
    "isna_sum(customers_df, \"customers\")"
   ]
  },
  {
   "cell_type": "code",
   "execution_count": 29,
   "id": "c06efd5d-d184-4653-8583-29e8a13ddfe0",
   "metadata": {},
   "outputs": [
    {
     "data": {
      "text/plain": [
       "[30000.0, 39000.0, 51000.0, 63000.0, 75000.0, 93000.0, 120000.0]"
      ]
     },
     "execution_count": 29,
     "metadata": {},
     "output_type": "execute_result"
    }
   ],
   "source": [
    "credit_card_limit_quantiles = customers_df.approxQuantile('credit_card_limit', [0.0, 0.1, 0.25, 0.5, 0.75, 0.9, 1.0], 0.01)\n",
    "credit_card_limit_quantiles"
   ]
  },
  {
   "cell_type": "code",
   "execution_count": 30,
   "id": "9dd72e5e-df29-4351-8d3f-c025ee9859a5",
   "metadata": {},
   "outputs": [
    {
     "data": {
      "text/plain": [
       "[18.0, 45.0, 58.0, 72.0, 118.0, 118.0]"
      ]
     },
     "execution_count": 30,
     "metadata": {},
     "output_type": "execute_result"
    }
   ],
   "source": [
    "age_quantiles = customers_df.approxQuantile('age', [0.0, 0.25, 0.5, 0.75, 0.88, 1.0], 0.01)\n",
    "age_quantiles"
   ]
  },
  {
   "cell_type": "markdown",
   "id": "39210827-d31f-45d2-9d5a-92c9504aff4f",
   "metadata": {},
   "source": [
    "🔎 Grande parte da base é composta por clientes mais velhos. Com 75% dos usuários com mais de 45 anos, e com 12% da base concentrada nos 118 anos (idade máxima), isso indica que:"
   ]
  },
  {
   "cell_type": "markdown",
   "id": "b5cb60be-1b90-46dc-9f57-05df5e843d18",
   "metadata": {},
   "source": [
    "#### 3.1.4 Feature Engineering ``Customers``\n",
    "- Create new feature ``birth_year`` (\"Ano de nascimento = Ano de cadastro - idade na data do cadastro\")\n",
    "- Create new feature ``age_group``\n",
    "- Create new feature ``credit_limit_bucket``"
   ]
  },
  {
   "cell_type": "code",
   "execution_count": 31,
   "id": "fcbf7133-8153-448b-a83d-612df9312106",
   "metadata": {},
   "outputs": [],
   "source": [
    "customers_df = feature_engineering_customers_data(customers_df)"
   ]
  },
  {
   "cell_type": "code",
   "execution_count": 32,
   "id": "ee7eabc7-c669-41f8-a538-ad918996dab1",
   "metadata": {},
   "outputs": [
    {
     "name": "stdout",
     "output_type": "stream",
     "text": [
      "+---+-----------------+-------+--------------------+-------------+----------+-------------+-------------------+\n",
      "|age|credit_card_limit| gender|                  id|registered_on|birth_year|    age_group|credit_limit_bucket|\n",
      "+---+-----------------+-------+--------------------+-------------+----------+-------------+-------------------+\n",
      "|118|          63000.0|unknown|68be06ca386d4c319...|     20170212|      1899|Boomers (60+)|  Very High (> 60k)|\n",
      "| 55|         112000.0|      F|0610b486422d4921a...|     20170715|      1962|Boomers (60+)|  Very High (> 60k)|\n",
      "|118|          63000.0|unknown|38fe809add3b4fcf9...|     20180712|      1900|Boomers (60+)|  Very High (> 60k)|\n",
      "| 75|         100000.0|      F|78afa995795e4d85b...|     20170509|      1942|Boomers (60+)|  Very High (> 60k)|\n",
      "|118|          63000.0|unknown|a03223e636434f42a...|     20170804|      1899|Boomers (60+)|  Very High (> 60k)|\n",
      "+---+-----------------+-------+--------------------+-------------+----------+-------------+-------------------+\n",
      "only showing top 5 rows\n",
      "\n"
     ]
    }
   ],
   "source": [
    "customers_df.show(5)"
   ]
  },
  {
   "cell_type": "markdown",
   "id": "5e2e869b-037d-42d7-8cac-e8dcf4a4969c",
   "metadata": {},
   "source": [
    "### 3.2 Tabela ``offers``"
   ]
  },
  {
   "cell_type": "code",
   "execution_count": 33,
   "id": "9e17515c-5bcb-4a47-a058-1412bd0625c5",
   "metadata": {},
   "outputs": [
    {
     "name": "stdout",
     "output_type": "stream",
     "text": [
      "+----------------------------+--------------+--------+--------------------------------+---------+-------------+\n",
      "|channels                    |discount_value|duration|id                              |min_value|offer_type   |\n",
      "+----------------------------+--------------+--------+--------------------------------+---------+-------------+\n",
      "|[email, mobile, social]     |10            |7.0     |ae264e3637204a6fb9bb56bc8210ddfd|10       |bogo         |\n",
      "|[web, email, mobile, social]|10            |5.0     |4d5c57ea9a6940dd891ad53e9dbe8da0|10       |bogo         |\n",
      "|[web, email, mobile]        |0             |4.0     |3f207df678b143eea3cee63160fa8bed|0        |informational|\n",
      "|[web, email, mobile]        |5             |7.0     |9b98b8c7a33c4b65b9aebfe6a799e6d9|5        |bogo         |\n",
      "|[web, email]                |5             |10.0    |0b1e1539f2cc45b7b9fa7c272da2e1d7|20       |discount     |\n",
      "+----------------------------+--------------+--------+--------------------------------+---------+-------------+\n",
      "only showing top 5 rows\n",
      "\n"
     ]
    }
   ],
   "source": [
    "offers_df.show(5, truncate=False)"
   ]
  },
  {
   "cell_type": "markdown",
   "id": "96ae47cc-0125-4b00-bdf4-caf99e58a0a6",
   "metadata": {},
   "source": [
    "#### 3.2.1 OneHotEncoder columns ``Channels``"
   ]
  },
  {
   "cell_type": "code",
   "execution_count": 34,
   "id": "fd2a3ff9-3a19-494c-8272-a292e18883e0",
   "metadata": {},
   "outputs": [
    {
     "name": "stderr",
     "output_type": "stream",
     "text": [
      "                                                                                "
     ]
    }
   ],
   "source": [
    "offers_df = explode_list_columns_to_ohe(offers_df)"
   ]
  },
  {
   "cell_type": "code",
   "execution_count": 35,
   "id": "a94f73da-22e0-4cf6-93a9-d7070f947dcd",
   "metadata": {},
   "outputs": [
    {
     "name": "stdout",
     "output_type": "stream",
     "text": [
      "root\n",
      " |-- discount_value: long (nullable = true)\n",
      " |-- duration: double (nullable = true)\n",
      " |-- id: string (nullable = true)\n",
      " |-- min_value: long (nullable = true)\n",
      " |-- offer_type: string (nullable = true)\n",
      " |-- channels_mobile: integer (nullable = false)\n",
      " |-- channels_email: integer (nullable = false)\n",
      " |-- channels_social: integer (nullable = false)\n",
      " |-- channels_web: integer (nullable = false)\n",
      "\n"
     ]
    }
   ],
   "source": [
    "offers_df.printSchema()"
   ]
  },
  {
   "cell_type": "code",
   "execution_count": 36,
   "id": "fc9c6ace-0b47-406f-9b83-7b0ebf97b8b8",
   "metadata": {},
   "outputs": [
    {
     "name": "stdout",
     "output_type": "stream",
     "text": [
      "+--------------+--------+--------------------------------+---------+-------------+---------------+--------------+---------------+------------+\n",
      "|discount_value|duration|id                              |min_value|offer_type   |channels_mobile|channels_email|channels_social|channels_web|\n",
      "+--------------+--------+--------------------------------+---------+-------------+---------------+--------------+---------------+------------+\n",
      "|10            |7.0     |ae264e3637204a6fb9bb56bc8210ddfd|10       |bogo         |1              |1             |1              |0           |\n",
      "|10            |5.0     |4d5c57ea9a6940dd891ad53e9dbe8da0|10       |bogo         |1              |1             |1              |1           |\n",
      "|0             |4.0     |3f207df678b143eea3cee63160fa8bed|0        |informational|1              |1             |0              |1           |\n",
      "|5             |7.0     |9b98b8c7a33c4b65b9aebfe6a799e6d9|5        |bogo         |1              |1             |0              |1           |\n",
      "|5             |10.0    |0b1e1539f2cc45b7b9fa7c272da2e1d7|20       |discount     |0              |1             |0              |1           |\n",
      "|3             |7.0     |2298d6c36e964ae4a3e7e9706d1fb8c2|7        |discount     |1              |1             |1              |1           |\n",
      "|2             |10.0    |fafdcd668e3743c1bb461111dcafc2a4|10       |discount     |1              |1             |1              |1           |\n",
      "|0             |3.0     |5a8bc65990b245e5a138643cd4eb9837|0        |informational|1              |1             |1              |0           |\n",
      "|5             |5.0     |f19421c1d4aa40978ebb69ca19b0e20d|5        |bogo         |1              |1             |1              |1           |\n",
      "|2             |7.0     |2906b810c7d4411798c6938adc9daaa5|10       |discount     |1              |1             |0              |1           |\n",
      "+--------------+--------+--------------------------------+---------+-------------+---------------+--------------+---------------+------------+\n",
      "\n"
     ]
    }
   ],
   "source": [
    "offers_df.show(50, truncate=False)"
   ]
  },
  {
   "cell_type": "markdown",
   "id": "cfb3ad77-f88f-4aa7-a5fd-d81384a98b8d",
   "metadata": {},
   "source": [
    "#### 3.2.2 Check NaN Values ``Offers``\n",
    "**obs:** Não existe dados nulos na tabela Ofertas"
   ]
  },
  {
   "cell_type": "code",
   "execution_count": 37,
   "id": "3aaa1970-b9b2-426d-98a0-21ce1ad50ff1",
   "metadata": {},
   "outputs": [
    {
     "name": "stdout",
     "output_type": "stream",
     "text": [
      "\n",
      "📘 Schema de offers:\n",
      "root\n",
      " |-- discount_value: long (nullable = true)\n",
      " |-- duration: double (nullable = true)\n",
      " |-- id: string (nullable = true)\n",
      " |-- min_value: long (nullable = true)\n",
      " |-- offer_type: string (nullable = true)\n",
      " |-- channels_mobile: integer (nullable = false)\n",
      " |-- channels_email: integer (nullable = false)\n",
      " |-- channels_social: integer (nullable = false)\n",
      " |-- channels_web: integer (nullable = false)\n",
      "\n",
      "\n",
      "🔢 Total de linhas: 10\n",
      "\n",
      "📊 Nulos por coluna (valores e %):\n",
      "– discount_value: 0 nulos (0.00%)\n",
      "– duration: 0 nulos (0.00%)\n",
      "– id: 0 nulos (0.00%)\n",
      "– min_value: 0 nulos (0.00%)\n",
      "– offer_type: 0 nulos (0.00%)\n",
      "– channels_mobile: 0 nulos (0.00%)\n",
      "– channels_email: 0 nulos (0.00%)\n",
      "– channels_social: 0 nulos (0.00%)\n",
      "– channels_web: 0 nulos (0.00%)\n",
      "\n",
      "🔎 Amostra de offers:\n",
      "+--------------+--------+--------------------------------+---------+-------------+---------------+--------------+---------------+------------+\n",
      "|discount_value|duration|id                              |min_value|offer_type   |channels_mobile|channels_email|channels_social|channels_web|\n",
      "+--------------+--------+--------------------------------+---------+-------------+---------------+--------------+---------------+------------+\n",
      "|10            |7.0     |ae264e3637204a6fb9bb56bc8210ddfd|10       |bogo         |1              |1             |1              |0           |\n",
      "|10            |5.0     |4d5c57ea9a6940dd891ad53e9dbe8da0|10       |bogo         |1              |1             |1              |1           |\n",
      "|0             |4.0     |3f207df678b143eea3cee63160fa8bed|0        |informational|1              |1             |0              |1           |\n",
      "|5             |7.0     |9b98b8c7a33c4b65b9aebfe6a799e6d9|5        |bogo         |1              |1             |0              |1           |\n",
      "|5             |10.0    |0b1e1539f2cc45b7b9fa7c272da2e1d7|20       |discount     |0              |1             |0              |1           |\n",
      "+--------------+--------+--------------------------------+---------+-------------+---------------+--------------+---------------+------------+\n",
      "only showing top 5 rows\n",
      "\n"
     ]
    }
   ],
   "source": [
    "isna_sum(offers_df, \"offers\")"
   ]
  },
  {
   "cell_type": "markdown",
   "id": "73c63c66-5f4e-4081-a011-d1ba0b8b8ca2",
   "metadata": {},
   "source": [
    "#### 3.2.3 EDA ``Offers``"
   ]
  },
  {
   "cell_type": "code",
   "execution_count": 38,
   "id": "cc636af6-c4f7-4aa0-afdc-3ec0b4f4cce1",
   "metadata": {},
   "outputs": [
    {
     "name": "stdout",
     "output_type": "stream",
     "text": [
      "\n",
      "📊 Distribuição da coluna: min_value (total: 10 registros)\n",
      "+---------+-----+-------+\n",
      "|min_value|count|percent|\n",
      "+---------+-----+-------+\n",
      "|10       |4    |40.0   |\n",
      "|0        |2    |20.0   |\n",
      "|5        |2    |20.0   |\n",
      "|7        |1    |10.0   |\n",
      "|20       |1    |10.0   |\n",
      "+---------+-----+-------+\n",
      "\n"
     ]
    }
   ],
   "source": [
    "value_counts(offers_df, column='min_value')"
   ]
  },
  {
   "cell_type": "code",
   "execution_count": 39,
   "id": "c3a6e519-f145-4a62-baf2-0be68a7a204a",
   "metadata": {},
   "outputs": [
    {
     "name": "stdout",
     "output_type": "stream",
     "text": [
      "\n",
      "📊 Distribuição da coluna: offer_type (total: 10 registros)\n",
      "+-------------+-----+-------+\n",
      "|offer_type   |count|percent|\n",
      "+-------------+-----+-------+\n",
      "|discount     |4    |40.0   |\n",
      "|bogo         |4    |40.0   |\n",
      "|informational|2    |20.0   |\n",
      "+-------------+-----+-------+\n",
      "\n"
     ]
    }
   ],
   "source": [
    "value_counts(offers_df, column='offer_type')"
   ]
  },
  {
   "cell_type": "markdown",
   "id": "fe36f529-f8b8-4177-ae60-d04d42abbc9c",
   "metadata": {},
   "source": [
    "### 3.3 Tabela ``transactions``"
   ]
  },
  {
   "cell_type": "code",
   "execution_count": 40,
   "id": "581020d0-e5ed-4ea9-bed7-fd6c563964ba",
   "metadata": {},
   "outputs": [
    {
     "name": "stdout",
     "output_type": "stream",
     "text": [
      "+--------------------------------+--------------+---------------------+----------------------------------------------------+\n",
      "|account_id                      |event         |time_since_test_start|value                                               |\n",
      "+--------------------------------+--------------+---------------------+----------------------------------------------------+\n",
      "|78afa995795e4d85b5d9ceeca43f5fef|offer received|0.0                  |{NULL, 9b98b8c7a33c4b65b9aebfe6a799e6d9, NULL, NULL}|\n",
      "|a03223e636434f42ac4c3df47e8bac43|offer received|0.0                  |{NULL, 0b1e1539f2cc45b7b9fa7c272da2e1d7, NULL, NULL}|\n",
      "|e2127556f4f64592b11af22de27a7932|offer received|0.0                  |{NULL, 2906b810c7d4411798c6938adc9daaa5, NULL, NULL}|\n",
      "|8ec6ce2a7e7949b1bf142def7d0e0586|offer received|0.0                  |{NULL, fafdcd668e3743c1bb461111dcafc2a4, NULL, NULL}|\n",
      "|68617ca6246f4fbc85e91a2a49552598|offer received|0.0                  |{NULL, 4d5c57ea9a6940dd891ad53e9dbe8da0, NULL, NULL}|\n",
      "+--------------------------------+--------------+---------------------+----------------------------------------------------+\n",
      "only showing top 5 rows\n",
      "\n"
     ]
    },
    {
     "name": "stderr",
     "output_type": "stream",
     "text": [
      "                                                                                "
     ]
    }
   ],
   "source": [
    "transactions_df.show(5, truncate=False)"
   ]
  },
  {
   "cell_type": "code",
   "execution_count": 41,
   "id": "1a6d72ff-1df4-47fc-8385-d27ce58ca112",
   "metadata": {},
   "outputs": [
    {
     "name": "stdout",
     "output_type": "stream",
     "text": [
      "root\n",
      " |-- account_id: string (nullable = true)\n",
      " |-- event: string (nullable = true)\n",
      " |-- time_since_test_start: double (nullable = true)\n",
      " |-- value: struct (nullable = true)\n",
      " |    |-- amount: double (nullable = true)\n",
      " |    |-- offer id: string (nullable = true)\n",
      " |    |-- offer_id: string (nullable = true)\n",
      " |    |-- reward: double (nullable = true)\n",
      "\n"
     ]
    }
   ],
   "source": [
    "transactions_df.printSchema()"
   ]
  },
  {
   "cell_type": "markdown",
   "id": "bac86025-2721-414c-bdad-0dcd674fd226",
   "metadata": {},
   "source": [
    "#### 3.3.1 OneHotEncoder columns ``Value``"
   ]
  },
  {
   "cell_type": "code",
   "execution_count": 42,
   "id": "5c467006-2a28-48b0-b6a3-343fd4a768a0",
   "metadata": {},
   "outputs": [],
   "source": [
    "transactions_df = explode_list_columns_to_ohe(transactions_df)"
   ]
  },
  {
   "cell_type": "code",
   "execution_count": 43,
   "id": "ae80a888-3327-4117-9c03-b60916960730",
   "metadata": {},
   "outputs": [
    {
     "name": "stdout",
     "output_type": "stream",
     "text": [
      "+--------------------------------+--------------+---------------------+------------+--------------------------------+--------------+------------+\n",
      "|account_id                      |event         |time_since_test_start|value_amount|value_offer id                  |value_offer_id|value_reward|\n",
      "+--------------------------------+--------------+---------------------+------------+--------------------------------+--------------+------------+\n",
      "|78afa995795e4d85b5d9ceeca43f5fef|offer received|0.0                  |NULL        |9b98b8c7a33c4b65b9aebfe6a799e6d9|NULL          |NULL        |\n",
      "|a03223e636434f42ac4c3df47e8bac43|offer received|0.0                  |NULL        |0b1e1539f2cc45b7b9fa7c272da2e1d7|NULL          |NULL        |\n",
      "|e2127556f4f64592b11af22de27a7932|offer received|0.0                  |NULL        |2906b810c7d4411798c6938adc9daaa5|NULL          |NULL        |\n",
      "|8ec6ce2a7e7949b1bf142def7d0e0586|offer received|0.0                  |NULL        |fafdcd668e3743c1bb461111dcafc2a4|NULL          |NULL        |\n",
      "|68617ca6246f4fbc85e91a2a49552598|offer received|0.0                  |NULL        |4d5c57ea9a6940dd891ad53e9dbe8da0|NULL          |NULL        |\n",
      "+--------------------------------+--------------+---------------------+------------+--------------------------------+--------------+------------+\n",
      "only showing top 5 rows\n",
      "\n"
     ]
    },
    {
     "name": "stderr",
     "output_type": "stream",
     "text": [
      "                                                                                "
     ]
    }
   ],
   "source": [
    "transactions_df.show(5, truncate=False)"
   ]
  },
  {
   "cell_type": "markdown",
   "id": "71c57d71-b9f0-40e3-9cf9-a629ff70b2df",
   "metadata": {},
   "source": [
    "#### 3.3.2 Fix two columns ``value.offer_id``"
   ]
  },
  {
   "cell_type": "code",
   "execution_count": 44,
   "id": "5eebde11-55cf-4555-9907-8c0dd0684468",
   "metadata": {},
   "outputs": [
    {
     "name": "stdout",
     "output_type": "stream",
     "text": [
      "+--------------------------------+--------------+---------------------+------------+--------------------------------+--------------+------------+\n",
      "|account_id                      |event         |time_since_test_start|value_amount|value_offer id                  |value_offer_id|value_reward|\n",
      "+--------------------------------+--------------+---------------------+------------+--------------------------------+--------------+------------+\n",
      "|78afa995795e4d85b5d9ceeca43f5fef|offer received|0.0                  |NULL        |9b98b8c7a33c4b65b9aebfe6a799e6d9|NULL          |NULL        |\n",
      "|a03223e636434f42ac4c3df47e8bac43|offer received|0.0                  |NULL        |0b1e1539f2cc45b7b9fa7c272da2e1d7|NULL          |NULL        |\n",
      "|e2127556f4f64592b11af22de27a7932|offer received|0.0                  |NULL        |2906b810c7d4411798c6938adc9daaa5|NULL          |NULL        |\n",
      "|8ec6ce2a7e7949b1bf142def7d0e0586|offer received|0.0                  |NULL        |fafdcd668e3743c1bb461111dcafc2a4|NULL          |NULL        |\n",
      "|68617ca6246f4fbc85e91a2a49552598|offer received|0.0                  |NULL        |4d5c57ea9a6940dd891ad53e9dbe8da0|NULL          |NULL        |\n",
      "+--------------------------------+--------------+---------------------+------------+--------------------------------+--------------+------------+\n",
      "only showing top 5 rows\n",
      "\n"
     ]
    },
    {
     "name": "stderr",
     "output_type": "stream",
     "text": [
      "                                                                                "
     ]
    }
   ],
   "source": [
    "inconsistent_df = transactions_df.filter(\n",
    "    (col(\"value_offer_id\").isNull() & col(\"value.`offer id`\").isNotNull()) |\n",
    "    (col(\"value_offer_id\").isNotNull() & col(\"value.`offer id`\").isNull())\n",
    ")\n",
    "inconsistent_df.show(5, truncate=False)"
   ]
  },
  {
   "cell_type": "code",
   "execution_count": 45,
   "id": "22e58b61-e74b-4e37-a560-4e60b7e65cfd",
   "metadata": {},
   "outputs": [
    {
     "name": "stdout",
     "output_type": "stream",
     "text": [
      "+----------+-----+---------------------+------------+--------------+--------------+------------+\n",
      "|account_id|event|time_since_test_start|value_amount|value_offer id|value_offer_id|value_reward|\n",
      "+----------+-----+---------------------+------------+--------------+--------------+------------+\n",
      "+----------+-----+---------------------+------------+--------------+--------------+------------+\n",
      "\n"
     ]
    },
    {
     "name": "stderr",
     "output_type": "stream",
     "text": [
      "                                                                                "
     ]
    }
   ],
   "source": [
    "both_present_df = transactions_df.filter(\n",
    "    col(\"value_offer_id\").isNotNull() & col(\"value.`offer id`\").isNotNull()\n",
    ")\n",
    "both_present_df.show(5, truncate=False)"
   ]
  },
  {
   "cell_type": "code",
   "execution_count": 46,
   "id": "766be9b5-aa56-4f60-be38-506d73d10e2d",
   "metadata": {},
   "outputs": [],
   "source": [
    "transactions_df = consolidate_columns(\n",
    "    transactions_df,\n",
    "    output_col=\"offer_id\",\n",
    "    input_cols=[\"value_offer_id\", \"value_offer id\"]\n",
    ")"
   ]
  },
  {
   "cell_type": "code",
   "execution_count": 47,
   "id": "4853c369-7bbc-4d81-9659-82dc9e45f396",
   "metadata": {},
   "outputs": [
    {
     "name": "stdout",
     "output_type": "stream",
     "text": [
      "+--------------------------------+--------------+---------------------+------------+--------------------------------+--------------+------------+--------------------------------+\n",
      "|account_id                      |event         |time_since_test_start|value_amount|value_offer id                  |value_offer_id|value_reward|offer_id                        |\n",
      "+--------------------------------+--------------+---------------------+------------+--------------------------------+--------------+------------+--------------------------------+\n",
      "|78afa995795e4d85b5d9ceeca43f5fef|offer received|0.0                  |NULL        |9b98b8c7a33c4b65b9aebfe6a799e6d9|NULL          |NULL        |9b98b8c7a33c4b65b9aebfe6a799e6d9|\n",
      "|a03223e636434f42ac4c3df47e8bac43|offer received|0.0                  |NULL        |0b1e1539f2cc45b7b9fa7c272da2e1d7|NULL          |NULL        |0b1e1539f2cc45b7b9fa7c272da2e1d7|\n",
      "|e2127556f4f64592b11af22de27a7932|offer received|0.0                  |NULL        |2906b810c7d4411798c6938adc9daaa5|NULL          |NULL        |2906b810c7d4411798c6938adc9daaa5|\n",
      "|8ec6ce2a7e7949b1bf142def7d0e0586|offer received|0.0                  |NULL        |fafdcd668e3743c1bb461111dcafc2a4|NULL          |NULL        |fafdcd668e3743c1bb461111dcafc2a4|\n",
      "|68617ca6246f4fbc85e91a2a49552598|offer received|0.0                  |NULL        |4d5c57ea9a6940dd891ad53e9dbe8da0|NULL          |NULL        |4d5c57ea9a6940dd891ad53e9dbe8da0|\n",
      "+--------------------------------+--------------+---------------------+------------+--------------------------------+--------------+------------+--------------------------------+\n",
      "only showing top 5 rows\n",
      "\n"
     ]
    },
    {
     "name": "stderr",
     "output_type": "stream",
     "text": [
      "                                                                                "
     ]
    }
   ],
   "source": [
    "transactions_df.show(5, truncate=False)"
   ]
  },
  {
   "cell_type": "markdown",
   "id": "19a47bf5-ea99-4a7a-886e-c3ea06f082ea",
   "metadata": {},
   "source": [
    "#### 3.3.3 Ckeck NaN values"
   ]
  },
  {
   "cell_type": "code",
   "execution_count": 48,
   "id": "de490ff5-6814-436b-be35-4cb2b23184a9",
   "metadata": {},
   "outputs": [
    {
     "name": "stdout",
     "output_type": "stream",
     "text": [
      "\n",
      "📘 Schema de transactions:\n",
      "root\n",
      " |-- account_id: string (nullable = true)\n",
      " |-- event: string (nullable = true)\n",
      " |-- time_since_test_start: double (nullable = true)\n",
      " |-- value_amount: double (nullable = true)\n",
      " |-- value_offer id: string (nullable = true)\n",
      " |-- value_offer_id: string (nullable = true)\n",
      " |-- value_reward: double (nullable = true)\n",
      " |-- offer_id: string (nullable = true)\n",
      "\n",
      "\n",
      "🔢 Total de linhas: 306534\n",
      "\n",
      "📊 Nulos por coluna (valores e %):\n"
     ]
    },
    {
     "name": "stderr",
     "output_type": "stream",
     "text": [
      "                                                                                "
     ]
    },
    {
     "name": "stdout",
     "output_type": "stream",
     "text": [
      "– account_id: 0 nulos (0.00%)\n",
      "– event: 0 nulos (0.00%)\n",
      "– time_since_test_start: 0 nulos (0.00%)\n",
      "– value_amount: 167581 nulos (54.67%)\n",
      "– value_offer id: 172532 nulos (56.28%)\n",
      "– value_offer_id: 272955 nulos (89.05%)\n",
      "– value_reward: 272955 nulos (89.05%)\n",
      "– offer_id: 138953 nulos (45.33%)\n",
      "\n",
      "🔎 Amostra de transactions:\n",
      "+--------------------------------+--------------+---------------------+------------+--------------------------------+--------------+------------+--------------------------------+\n",
      "|account_id                      |event         |time_since_test_start|value_amount|value_offer id                  |value_offer_id|value_reward|offer_id                        |\n",
      "+--------------------------------+--------------+---------------------+------------+--------------------------------+--------------+------------+--------------------------------+\n",
      "|78afa995795e4d85b5d9ceeca43f5fef|offer received|0.0                  |NULL        |9b98b8c7a33c4b65b9aebfe6a799e6d9|NULL          |NULL        |9b98b8c7a33c4b65b9aebfe6a799e6d9|\n",
      "|a03223e636434f42ac4c3df47e8bac43|offer received|0.0                  |NULL        |0b1e1539f2cc45b7b9fa7c272da2e1d7|NULL          |NULL        |0b1e1539f2cc45b7b9fa7c272da2e1d7|\n",
      "|e2127556f4f64592b11af22de27a7932|offer received|0.0                  |NULL        |2906b810c7d4411798c6938adc9daaa5|NULL          |NULL        |2906b810c7d4411798c6938adc9daaa5|\n",
      "|8ec6ce2a7e7949b1bf142def7d0e0586|offer received|0.0                  |NULL        |fafdcd668e3743c1bb461111dcafc2a4|NULL          |NULL        |fafdcd668e3743c1bb461111dcafc2a4|\n",
      "|68617ca6246f4fbc85e91a2a49552598|offer received|0.0                  |NULL        |4d5c57ea9a6940dd891ad53e9dbe8da0|NULL          |NULL        |4d5c57ea9a6940dd891ad53e9dbe8da0|\n",
      "+--------------------------------+--------------+---------------------+------------+--------------------------------+--------------+------------+--------------------------------+\n",
      "only showing top 5 rows\n",
      "\n"
     ]
    },
    {
     "name": "stderr",
     "output_type": "stream",
     "text": [
      "                                                                                "
     ]
    }
   ],
   "source": [
    "isna_sum(transactions_df, \"transactions\")"
   ]
  },
  {
   "cell_type": "markdown",
   "id": "3cc4a967-6388-449c-b49d-c412a6d12acf",
   "metadata": {},
   "source": [
    "#### 3.3.4 Drop Columns"
   ]
  },
  {
   "cell_type": "code",
   "execution_count": 49,
   "id": "df830aea-7c0a-4c64-99a6-3ce842d19a61",
   "metadata": {},
   "outputs": [],
   "source": [
    "columns_to_remove = [\"value_offer_id\", \"value_offer id\"]\n",
    "transactions_df = drop_columns(transactions_df, columns_to_remove)"
   ]
  },
  {
   "cell_type": "code",
   "execution_count": 50,
   "id": "c4710ce7-f07c-4bdf-b88b-751387a6ff12",
   "metadata": {},
   "outputs": [
    {
     "name": "stdout",
     "output_type": "stream",
     "text": [
      "+--------------------------------+--------------+---------------------+------------+------------+--------------------------------+\n",
      "|account_id                      |event         |time_since_test_start|value_amount|value_reward|offer_id                        |\n",
      "+--------------------------------+--------------+---------------------+------------+------------+--------------------------------+\n",
      "|78afa995795e4d85b5d9ceeca43f5fef|offer received|0.0                  |NULL        |NULL        |9b98b8c7a33c4b65b9aebfe6a799e6d9|\n",
      "|a03223e636434f42ac4c3df47e8bac43|offer received|0.0                  |NULL        |NULL        |0b1e1539f2cc45b7b9fa7c272da2e1d7|\n",
      "|e2127556f4f64592b11af22de27a7932|offer received|0.0                  |NULL        |NULL        |2906b810c7d4411798c6938adc9daaa5|\n",
      "|8ec6ce2a7e7949b1bf142def7d0e0586|offer received|0.0                  |NULL        |NULL        |fafdcd668e3743c1bb461111dcafc2a4|\n",
      "|68617ca6246f4fbc85e91a2a49552598|offer received|0.0                  |NULL        |NULL        |4d5c57ea9a6940dd891ad53e9dbe8da0|\n",
      "+--------------------------------+--------------+---------------------+------------+------------+--------------------------------+\n",
      "only showing top 5 rows\n",
      "\n"
     ]
    },
    {
     "name": "stderr",
     "output_type": "stream",
     "text": [
      "                                                                                "
     ]
    }
   ],
   "source": [
    "transactions_df.show(5, truncate=False)"
   ]
  },
  {
   "cell_type": "markdown",
   "id": "3e02f506-6551-465d-8293-3af24d9b6582",
   "metadata": {},
   "source": [
    "#### 3.3.5 Data Analysis Table ``transactions``"
   ]
  },
  {
   "cell_type": "code",
   "execution_count": 51,
   "id": "6d0e17ec-6bc1-4128-b76f-bc8b09545281",
   "metadata": {},
   "outputs": [
    {
     "name": "stdout",
     "output_type": "stream",
     "text": [
      "\n",
      "📊 Distribuição da coluna: event (total: 306534 registros)\n",
      "+---------------+------+------------------+\n",
      "|event          |count |percent           |\n",
      "+---------------+------+------------------+\n",
      "|transaction    |138953|45.33037118231583 |\n",
      "|offer received |76277 |24.88369968747349 |\n",
      "|offer viewed   |57725 |18.831516242896384|\n",
      "|offer completed|33579 |10.954412887314295|\n",
      "+---------------+------+------------------+\n",
      "\n"
     ]
    }
   ],
   "source": [
    "value_counts(transactions_df, 'event', show_nulls=True)"
   ]
  },
  {
   "cell_type": "code",
   "execution_count": 52,
   "id": "2f48b28e-17cc-4ed7-acef-51dbe0d23c03",
   "metadata": {},
   "outputs": [
    {
     "name": "stdout",
     "output_type": "stream",
     "text": [
      "\n",
      "📊 Distribuição da coluna: time_since_test_start (total: 306534 registros)\n",
      "+---------------------+-----+------------------+\n",
      "|time_since_test_start|count|percent           |\n",
      "+---------------------+-----+------------------+\n",
      "|17.0                 |17030|5.555664298250765 |\n",
      "|24.0                 |17015|5.5507708769663395|\n",
      "|21.0                 |16822|5.487808856440068 |\n",
      "|14.0                 |16302|5.318170251913328 |\n",
      "|7.0                  |16150|5.2685835828978185|\n",
      "|0.0                  |15561|5.076435240462722 |\n",
      "|17.25                |3583 |1.1688752308063706|\n",
      "|21.25                |3514 |1.1463654928980147|\n",
      "|24.25                |3484 |1.1365786503291642|\n",
      "|24.5                 |3222 |1.051106891894537 |\n",
      "|21.5                 |3153 |1.028597153986181 |\n",
      "|17.5                 |3146 |1.0263135573867825|\n",
      "|14.25                |3017 |0.9842301343407257|\n",
      "|24.75                |2937 |0.9581318874904577|\n",
      "|17.75                |2908 |0.9486712730072357|\n",
      "|7.25                 |2823 |0.9209418857288262|\n",
      "|21.75                |2783 |0.9078927623036923|\n",
      "|25.0                 |2739 |0.893538726536045 |\n",
      "|18.0                 |2690 |0.8775535503402558|\n",
      "|7.5                  |2659 |0.8674404796857771|\n",
      "+---------------------+-----+------------------+\n",
      "only showing top 20 rows\n",
      "\n"
     ]
    }
   ],
   "source": [
    "value_counts(transactions_df, 'time_since_test_start', show_nulls=True)"
   ]
  },
  {
   "cell_type": "code",
   "execution_count": 53,
   "id": "e68aa232-784b-4390-801d-16046ff32fa3",
   "metadata": {},
   "outputs": [
    {
     "name": "stdout",
     "output_type": "stream",
     "text": [
      "\n",
      "📊 Distribuição da coluna: value_amount (total: 306534 registros)\n"
     ]
    },
    {
     "name": "stderr",
     "output_type": "stream",
     "text": [
      "[Stage 156:>                                                        (0 + 1) / 1]"
     ]
    },
    {
     "name": "stdout",
     "output_type": "stream",
     "text": [
      "+------------+------+--------------------+\n",
      "|value_amount|count |percent             |\n",
      "+------------+------+--------------------+\n",
      "|NULL        |167581|54.66962881768417   |\n",
      "|0.05        |431   |0.14060430490581793 |\n",
      "|0.66        |166   |0.05415386221430575 |\n",
      "|1.18        |165   |0.05382763412867741 |\n",
      "|1.01        |163   |0.05317517795742071 |\n",
      "|1.23        |161   |0.05252272178616402 |\n",
      "|0.9         |161   |0.05252272178616402 |\n",
      "|1.19        |159   |0.051870265614907325|\n",
      "|0.53        |159   |0.051870265614907325|\n",
      "|0.5         |159   |0.051870265614907325|\n",
      "|0.79        |157   |0.05121780944365062 |\n",
      "|1.5         |156   |0.05089158135802227 |\n",
      "|0.92        |156   |0.05089158135802227 |\n",
      "|1.54        |155   |0.05056535327239393 |\n",
      "|0.7         |154   |0.05023912518676558 |\n",
      "|0.74        |154   |0.05023912518676558 |\n",
      "|1.57        |154   |0.05023912518676558 |\n",
      "|1.27        |153   |0.04991289710113723 |\n",
      "|1.22        |153   |0.04991289710113723 |\n",
      "|0.65        |152   |0.049586669015508886|\n",
      "+------------+------+--------------------+\n",
      "only showing top 20 rows\n",
      "\n"
     ]
    },
    {
     "name": "stderr",
     "output_type": "stream",
     "text": [
      "                                                                                "
     ]
    }
   ],
   "source": [
    "value_counts(transactions_df, 'value_amount', show_nulls=True)"
   ]
  },
  {
   "cell_type": "code",
   "execution_count": 54,
   "id": "d8ec6bd5-feba-4a9d-a9bf-81088da15b37",
   "metadata": {},
   "outputs": [
    {
     "name": "stdout",
     "output_type": "stream",
     "text": [
      "\n",
      "📊 Distribuição da coluna: value_reward (total: 306534 registros)\n",
      "+------------+------+------------------+\n",
      "|value_reward|count |percent           |\n",
      "+------------+------+------------------+\n",
      "|NULL        |272955|89.04558711268571 |\n",
      "|5.0         |12070 |3.9375729935341592|\n",
      "|2.0         |9334  |3.0450129512549995|\n",
      "|10.0        |7019  |2.289794933025374 |\n",
      "|3.0         |5156  |1.6820320094997616|\n",
      "+------------+------+------------------+\n",
      "\n"
     ]
    },
    {
     "name": "stderr",
     "output_type": "stream",
     "text": [
      "                                                                                "
     ]
    }
   ],
   "source": [
    "value_counts(transactions_df, 'value_reward', show_nulls=True)"
   ]
  },
  {
   "cell_type": "code",
   "execution_count": 55,
   "id": "39f089bb-3b49-45d6-8f4d-e41f1b222176",
   "metadata": {},
   "outputs": [
    {
     "name": "stdout",
     "output_type": "stream",
     "text": [
      "\n",
      "📊 Distribuição da coluna: offer_id (total: 306534 registros)\n",
      "+--------------------------------+------+------------------+\n",
      "|offer_id                        |count |percent           |\n",
      "+--------------------------------+------+------------------+\n",
      "|NULL                            |138953|45.33037118231583 |\n",
      "|fafdcd668e3743c1bb461111dcafc2a4|20241 |6.60318268120339  |\n",
      "|2298d6c36e964ae4a3e7e9706d1fb8c2|20139 |6.569907416469299 |\n",
      "|f19421c1d4aa40978ebb69ca19b0e20d|19131 |6.241069506155924 |\n",
      "|4d5c57ea9a6940dd891ad53e9dbe8da0|18222 |5.944528176319755 |\n",
      "|ae264e3637204a6fb9bb56bc8210ddfd|18062 |5.89233168261922  |\n",
      "|9b98b8c7a33c4b65b9aebfe6a799e6d9|16202 |5.2855474433504925|\n",
      "|2906b810c7d4411798c6938adc9daaa5|15767 |5.143638226102162 |\n",
      "|5a8bc65990b245e5a138643cd4eb9837|14305 |4.666692764913517 |\n",
      "|0b1e1539f2cc45b7b9fa7c272da2e1d7|13751 |4.485962405475412 |\n",
      "|3f207df678b143eea3cee63160fa8bed|11761 |3.836768515075    |\n",
      "+--------------------------------+------+------------------+\n",
      "\n"
     ]
    },
    {
     "name": "stderr",
     "output_type": "stream",
     "text": [
      "                                                                                "
     ]
    }
   ],
   "source": [
    "value_counts(transactions_df, 'offer_id', show_nulls=True)"
   ]
  },
  {
   "cell_type": "markdown",
   "id": "9dfdf672-190e-4cca-b5cd-61d3d6ba750e",
   "metadata": {},
   "source": [
    "## 4. Data Integration"
   ]
  },
  {
   "cell_type": "code",
   "execution_count": 56,
   "id": "b5b2dd15-eead-4454-9690-bbb6db70edd5",
   "metadata": {},
   "outputs": [
    {
     "name": "stdout",
     "output_type": "stream",
     "text": [
      "+--------------+--------+--------------------+---------+----------+---------------+--------------+---------------+------------+\n",
      "|discount_value|duration|                  id|min_value|offer_type|channels_mobile|channels_email|channels_social|channels_web|\n",
      "+--------------+--------+--------------------+---------+----------+---------------+--------------+---------------+------------+\n",
      "|            10|     7.0|ae264e3637204a6fb...|       10|      bogo|              1|             1|              1|           0|\n",
      "|            10|     5.0|4d5c57ea9a6940dd8...|       10|      bogo|              1|             1|              1|           1|\n",
      "+--------------+--------+--------------------+---------+----------+---------------+--------------+---------------+------------+\n",
      "only showing top 2 rows\n",
      "\n"
     ]
    }
   ],
   "source": [
    "offers_df.show(2)"
   ]
  },
  {
   "cell_type": "code",
   "execution_count": 57,
   "id": "e629c257-0046-426a-bf73-4e7bb3d45cd2",
   "metadata": {},
   "outputs": [
    {
     "name": "stdout",
     "output_type": "stream",
     "text": [
      "+--------------------+--------------+---------------------+------------+------------+--------------------+\n",
      "|          account_id|         event|time_since_test_start|value_amount|value_reward|            offer_id|\n",
      "+--------------------+--------------+---------------------+------------+------------+--------------------+\n",
      "|78afa995795e4d85b...|offer received|                  0.0|        NULL|        NULL|9b98b8c7a33c4b65b...|\n",
      "|a03223e636434f42a...|offer received|                  0.0|        NULL|        NULL|0b1e1539f2cc45b7b...|\n",
      "+--------------------+--------------+---------------------+------------+------------+--------------------+\n",
      "only showing top 2 rows\n",
      "\n"
     ]
    },
    {
     "name": "stderr",
     "output_type": "stream",
     "text": [
      "                                                                                "
     ]
    }
   ],
   "source": [
    "transactions_df.show(2)"
   ]
  },
  {
   "cell_type": "code",
   "execution_count": 58,
   "id": "85228cf9-ca48-4bfe-9a10-ce026619c83e",
   "metadata": {},
   "outputs": [
    {
     "name": "stdout",
     "output_type": "stream",
     "text": [
      "+--------------+--------+--------------------+---------+----------+---------------+--------------+---------------+------------+\n",
      "|discount_value|duration|                  id|min_value|offer_type|channels_mobile|channels_email|channels_social|channels_web|\n",
      "+--------------+--------+--------------------+---------+----------+---------------+--------------+---------------+------------+\n",
      "|            10|     7.0|ae264e3637204a6fb...|       10|      bogo|              1|             1|              1|           0|\n",
      "|            10|     5.0|4d5c57ea9a6940dd8...|       10|      bogo|              1|             1|              1|           1|\n",
      "+--------------+--------+--------------------+---------+----------+---------------+--------------+---------------+------------+\n",
      "only showing top 2 rows\n",
      "\n"
     ]
    }
   ],
   "source": [
    "offers_df.show(2)"
   ]
  },
  {
   "cell_type": "code",
   "execution_count": 59,
   "id": "b5991fe9-2bea-421a-be2d-5b44034bf388",
   "metadata": {},
   "outputs": [
    {
     "name": "stdout",
     "output_type": "stream",
     "text": [
      "root\n",
      " |-- account_id: string (nullable = true)\n",
      " |-- event: string (nullable = true)\n",
      " |-- time_since_test_start: double (nullable = true)\n",
      " |-- value_amount: double (nullable = true)\n",
      " |-- value_reward: double (nullable = true)\n",
      " |-- offer_id: string (nullable = true)\n",
      " |-- age: long (nullable = true)\n",
      " |-- credit_card_limit: double (nullable = true)\n",
      " |-- gender: string (nullable = true)\n",
      " |-- registered_on: string (nullable = true)\n",
      " |-- birth_year: long (nullable = true)\n",
      " |-- age_group: string (nullable = true)\n",
      " |-- credit_limit_bucket: string (nullable = true)\n",
      " |-- discount_value: long (nullable = true)\n",
      " |-- duration: double (nullable = true)\n",
      " |-- min_value: long (nullable = true)\n",
      " |-- offer_type: string (nullable = true)\n",
      " |-- channels_mobile: integer (nullable = true)\n",
      " |-- channels_email: integer (nullable = true)\n",
      " |-- channels_social: integer (nullable = true)\n",
      " |-- channels_web: integer (nullable = true)\n",
      "\n"
     ]
    }
   ],
   "source": [
    "full_df = integrate_all_dataframes(transactions_df, customers_df, offers_df)\n",
    "full_df.printSchema()"
   ]
  },
  {
   "cell_type": "code",
   "execution_count": 60,
   "id": "b71d19c3-ee88-4eda-8e67-eb97289b8947",
   "metadata": {},
   "outputs": [
    {
     "name": "stdout",
     "output_type": "stream",
     "text": [
      "+--------------------------------+--------------+---------------------+------------+------------+--------------------------------+---+-----------------+-------+-------------+----------+-------------+-------------------+--------------+--------+---------+----------+---------------+--------------+---------------+------------+\n",
      "|account_id                      |event         |time_since_test_start|value_amount|value_reward|offer_id                        |age|credit_card_limit|gender |registered_on|birth_year|age_group    |credit_limit_bucket|discount_value|duration|min_value|offer_type|channels_mobile|channels_email|channels_social|channels_web|\n",
      "+--------------------------------+--------------+---------------------+------------+------------+--------------------------------+---+-----------------+-------+-------------+----------+-------------+-------------------+--------------+--------+---------+----------+---------------+--------------+---------------+------------+\n",
      "|78afa995795e4d85b5d9ceeca43f5fef|offer received|0.0                  |NULL        |NULL        |9b98b8c7a33c4b65b9aebfe6a799e6d9|75 |100000.0         |F      |20170509     |1942      |Boomers (60+)|Very High (> 60k)  |5             |7.0     |5        |bogo      |1              |1             |0              |1           |\n",
      "|a03223e636434f42ac4c3df47e8bac43|offer received|0.0                  |NULL        |NULL        |0b1e1539f2cc45b7b9fa7c272da2e1d7|118|63000.0          |unknown|20170804     |1899      |Boomers (60+)|Very High (> 60k)  |5             |10.0    |20       |discount  |0              |1             |0              |1           |\n",
      "|e2127556f4f64592b11af22de27a7932|offer received|0.0                  |NULL        |NULL        |2906b810c7d4411798c6938adc9daaa5|68 |70000.0          |M      |20180426     |1950      |Boomers (60+)|Very High (> 60k)  |2             |7.0     |10       |discount  |1              |1             |0              |1           |\n",
      "|8ec6ce2a7e7949b1bf142def7d0e0586|offer received|0.0                  |NULL        |NULL        |fafdcd668e3743c1bb461111dcafc2a4|118|63000.0          |unknown|20170925     |1899      |Boomers (60+)|Very High (> 60k)  |2             |10.0    |10       |discount  |1              |1             |1              |1           |\n",
      "|68617ca6246f4fbc85e91a2a49552598|offer received|0.0                  |NULL        |NULL        |4d5c57ea9a6940dd891ad53e9dbe8da0|118|63000.0          |unknown|20171002     |1899      |Boomers (60+)|Very High (> 60k)  |10            |5.0     |10       |bogo      |1              |1             |1              |1           |\n",
      "+--------------------------------+--------------+---------------------+------------+------------+--------------------------------+---+-----------------+-------+-------------+----------+-------------+-------------------+--------------+--------+---------+----------+---------------+--------------+---------------+------------+\n",
      "only showing top 5 rows\n",
      "\n"
     ]
    },
    {
     "name": "stderr",
     "output_type": "stream",
     "text": [
      "                                                                                "
     ]
    }
   ],
   "source": [
    "full_df.show(5, truncate=False)"
   ]
  },
  {
   "cell_type": "markdown",
   "id": "f61712b1-c0c6-44c6-a7ab-cc200aaaa870",
   "metadata": {},
   "source": [
    "## 5. Save full Dataframe with processed data"
   ]
  },
  {
   "cell_type": "code",
   "execution_count": 61,
   "id": "e01de4a0-6cbb-4f8a-8619-de5bf94c126f",
   "metadata": {},
   "outputs": [],
   "source": [
    "PROCESSED_FILE_PATH = \"../data/processed/full_data\""
   ]
  },
  {
   "cell_type": "code",
   "execution_count": 62,
   "id": "03ea6222-f927-4b03-8236-8f2633a1d057",
   "metadata": {},
   "outputs": [
    {
     "ename": "NameError",
     "evalue": "name 'save_spark_dataframe' is not defined",
     "output_type": "error",
     "traceback": [
      "\u001b[31m---------------------------------------------------------------------------\u001b[39m",
      "\u001b[31mNameError\u001b[39m                                 Traceback (most recent call last)",
      "\u001b[36mCell\u001b[39m\u001b[36m \u001b[39m\u001b[32mIn[62]\u001b[39m\u001b[32m, line 1\u001b[39m\n\u001b[32m----> \u001b[39m\u001b[32m1\u001b[39m \u001b[43msave_spark_dataframe\u001b[49m(full_df, \n\u001b[32m      2\u001b[39m                      PROCESSED_FILE_PATH, \n\u001b[32m      3\u001b[39m                      \u001b[38;5;28mformat\u001b[39m=\u001b[33m\"\u001b[39m\u001b[33mparquet\u001b[39m\u001b[33m\"\u001b[39m, \n\u001b[32m      4\u001b[39m                      compression=\u001b[33m\"\u001b[39m\u001b[33msnappy\u001b[39m\u001b[33m\"\u001b[39m)\n",
      "\u001b[31mNameError\u001b[39m: name 'save_spark_dataframe' is not defined"
     ]
    }
   ],
   "source": [
    "save_spark_dataframe(full_df, \n",
    "                     PROCESSED_FILE_PATH, \n",
    "                     format=\"parquet\", \n",
    "                     compression=\"snappy\")"
   ]
  },
  {
   "cell_type": "markdown",
   "id": "05e50498-0b4b-40d0-b916-939a1b291f4b",
   "metadata": {},
   "source": [
    "## 6. Exploratory Data Analysis"
   ]
  },
  {
   "cell_type": "code",
   "execution_count": 64,
   "id": "2ebe4559-6e41-492c-a955-85567e29516a",
   "metadata": {},
   "outputs": [
    {
     "name": "stdout",
     "output_type": "stream",
     "text": [
      "reading dataset from disk\n"
     ]
    }
   ],
   "source": [
    "print('reading dataset from disk')\n",
    "full_df = spark.read.parquet(PROCESSED_FILE_PATH)"
   ]
  },
  {
   "cell_type": "code",
   "execution_count": 124,
   "id": "8a0451b6-9d72-4f60-bed2-ab779fef3926",
   "metadata": {},
   "outputs": [
    {
     "name": "stdout",
     "output_type": "stream",
     "text": [
      "+--------------------+--------------+---------------------+------------+------------+--------------------+---+-----------------+-------+-------------+----------+-------------+-------------------+--------------+--------+---------+-------------+---------------+--------------+---------------+------------+\n",
      "|          account_id|         event|time_since_test_start|value_amount|value_reward|            offer_id|age|credit_card_limit| gender|registered_on|birth_year|    age_group|credit_limit_bucket|discount_value|duration|min_value|   offer_type|channels_mobile|channels_email|channels_social|channels_web|\n",
      "+--------------------+--------------+---------------------+------------+------------+--------------------+---+-----------------+-------+-------------+----------+-------------+-------------------+--------------+--------+---------+-------------+---------------+--------------+---------------+------------+\n",
      "|78afa995795e4d85b...|offer received|                  0.0|        NULL|        NULL|9b98b8c7a33c4b65b...| 75|         100000.0|      F|     20170509|      1942|Boomers (60+)|  Very High (> 60k)|             5|     7.0|        5|         bogo|              1|             1|              0|           1|\n",
      "|a03223e636434f42a...|offer received|                  0.0|        NULL|        NULL|0b1e1539f2cc45b7b...|118|          63000.0|unknown|     20170804|      1899|Boomers (60+)|  Very High (> 60k)|             5|    10.0|       20|     discount|              0|             1|              0|           1|\n",
      "|e2127556f4f64592b...|offer received|                  0.0|        NULL|        NULL|2906b810c7d441179...| 68|          70000.0|      M|     20180426|      1950|Boomers (60+)|  Very High (> 60k)|             2|     7.0|       10|     discount|              1|             1|              0|           1|\n",
      "|8ec6ce2a7e7949b1b...|offer received|                  0.0|        NULL|        NULL|fafdcd668e3743c1b...|118|          63000.0|unknown|     20170925|      1899|Boomers (60+)|  Very High (> 60k)|             2|    10.0|       10|     discount|              1|             1|              1|           1|\n",
      "|68617ca6246f4fbc8...|offer received|                  0.0|        NULL|        NULL|4d5c57ea9a6940dd8...|118|          63000.0|unknown|     20171002|      1899|Boomers (60+)|  Very High (> 60k)|            10|     5.0|       10|         bogo|              1|             1|              1|           1|\n",
      "|389bc3fa690240e79...|offer received|                  0.0|        NULL|        NULL|f19421c1d4aa40978...| 65|          53000.0|      M|     20180209|      1953|Boomers (60+)|     High (30k–60k)|             5|     5.0|        5|         bogo|              1|             1|              1|           1|\n",
      "|c4863c7985cf408fa...|offer received|                  0.0|        NULL|        NULL|2298d6c36e964ae4a...|118|          63000.0|unknown|     20170824|      1899|Boomers (60+)|  Very High (> 60k)|             3|     7.0|        7|     discount|              1|             1|              1|           1|\n",
      "|2eeac8d8feae4a8ca...|offer received|                  0.0|        NULL|        NULL|3f207df678b143eea...| 58|          51000.0|      M|     20171111|      1959|Boomers (60+)|     High (30k–60k)|             0|     4.0|        0|informational|              1|             1|              0|           1|\n",
      "|aa4862eba776480b8...|offer received|                  0.0|        NULL|        NULL|0b1e1539f2cc45b7b...| 61|          57000.0|      F|     20170911|      1956|Boomers (60+)|     High (30k–60k)|             5|    10.0|       20|     discount|              0|             1|              0|           1|\n",
      "|31dda685af34476ca...|offer received|                  0.0|        NULL|        NULL|0b1e1539f2cc45b7b...| 62|          71000.0|      F|     20160211|      1954|Boomers (60+)|  Very High (> 60k)|             5|    10.0|       20|     discount|              0|             1|              0|           1|\n",
      "|744d603ef08c4f33a...|offer received|                  0.0|        NULL|        NULL|0b1e1539f2cc45b7b...|118|          63000.0|unknown|     20170801|      1899|Boomers (60+)|  Very High (> 60k)|             5|    10.0|       20|     discount|              0|             1|              0|           1|\n",
      "|3d02345581554e81b...|offer received|                  0.0|        NULL|        NULL|0b1e1539f2cc45b7b...|118|          63000.0|unknown|     20170127|      1899|Boomers (60+)|  Very High (> 60k)|             5|    10.0|       20|     discount|              0|             1|              0|           1|\n",
      "|4b0da7e80e5945209...|offer received|                  0.0|        NULL|        NULL|ae264e3637204a6fb...| 64|         100000.0|      M|     20170909|      1953|Boomers (60+)|  Very High (> 60k)|            10|     7.0|       10|         bogo|              1|             1|              1|           0|\n",
      "|c27e0d6ab72c455a8...|offer received|                  0.0|        NULL|        NULL|3f207df678b143eea...| 78|          71000.0|      F|     20170616|      1939|Boomers (60+)|  Very High (> 60k)|             0|     4.0|        0|informational|              1|             1|              0|           1|\n",
      "|d53717f5400c4e84a...|offer received|                  0.0|        NULL|        NULL|0b1e1539f2cc45b7b...| 88|          53000.0|      F|     20170518|      1929|Boomers (60+)|     High (30k–60k)|             5|    10.0|       20|     discount|              0|             1|              0|           1|\n",
      "|f806632c011441378...|offer received|                  0.0|        NULL|        NULL|fafdcd668e3743c1b...| 42|          69000.0|      M|     20130811|      1971|Gen X (45–59)|  Very High (> 60k)|             2|    10.0|       10|     discount|              1|             1|              1|           1|\n",
      "|d058f73bf8674a26a...|offer received|                  0.0|        NULL|        NULL|0b1e1539f2cc45b7b...| 56|          88000.0|      F|     20180428|      1962|Boomers (60+)|  Very High (> 60k)|             5|    10.0|       20|     discount|              0|             1|              0|           1|\n",
      "|65aba5c617294649a...|offer received|                  0.0|        NULL|        NULL|2906b810c7d441179...|118|          63000.0|unknown|     20170330|      1899|Boomers (60+)|  Very High (> 60k)|             2|     7.0|       10|     discount|              1|             1|              0|           1|\n",
      "|ebe7ef46ea6f4963a...|offer received|                  0.0|        NULL|        NULL|9b98b8c7a33c4b65b...| 59|          41000.0|      M|     20150121|      1956|Boomers (60+)|     High (30k–60k)|             5|     7.0|        5|         bogo|              1|             1|              0|           1|\n",
      "|1e9420836d554513a...|offer received|                  0.0|        NULL|        NULL|ae264e3637204a6fb...| 22|          70000.0|      M|     20170925|      1995|Gen Z (15–29)|  Very High (> 60k)|            10|     7.0|       10|         bogo|              1|             1|              1|           0|\n",
      "+--------------------+--------------+---------------------+------------+------------+--------------------+---+-----------------+-------+-------------+----------+-------------+-------------------+--------------+--------+---------+-------------+---------------+--------------+---------------+------------+\n",
      "only showing top 20 rows\n",
      "\n"
     ]
    }
   ],
   "source": [
    "full_df.show()"
   ]
  },
  {
   "cell_type": "markdown",
   "id": "22f16566-e047-4946-b13d-bea15e8a0105",
   "metadata": {},
   "source": [
    "#### a) Qual o perfil de clientes que completam ofertas considerando as features idade (ano de nascimento), gênero e limite de credito?"
   ]
  },
  {
   "cell_type": "code",
   "execution_count": 65,
   "id": "6127b77f-6a58-4b90-b6d2-2f3cc47d2d6a",
   "metadata": {},
   "outputs": [
    {
     "name": "stdout",
     "output_type": "stream",
     "text": [
      "+-------------------+-----+-------+\n",
      "|age_group          |count|percent|\n",
      "+-------------------+-----+-------+\n",
      "|Boomers (60+)      |21235|63.24  |\n",
      "|Gen X (45–59)      |7577 |22.56  |\n",
      "|Millennials (30–44)|3897 |11.61  |\n",
      "|Gen Z (15–29)      |870  |2.59   |\n",
      "+-------------------+-----+-------+\n",
      "\n"
     ]
    }
   ],
   "source": [
    "total = full_df.filter(col(\"event\") == \"offer completed\").count()\n",
    "\n",
    "full_df.filter(col(\"event\") == \"offer completed\") \\\n",
    "    .groupBy(\"age_group\") \\\n",
    "    .agg(count(\"*\").alias(\"count\")) \\\n",
    "    .withColumn(\"percent\", spark_round((col(\"count\") / total) * 100, 2)) \\\n",
    "    .orderBy(\"count\", ascending=False) \\\n",
    "    .show(5, truncate=False)"
   ]
  },
  {
   "cell_type": "markdown",
   "id": "fb83a606-d1e6-4aa0-99ce-ddccf1e7c5c8",
   "metadata": {},
   "source": [
    "🔍 Insight: a base tem **forte presença de clientes com 45 anos ou mais (Boomers e Gen X somam mais de 85%)**. Isso pode refletir o histórico da base de dados ou o público principal da plataforma nesse período."
   ]
  },
  {
   "cell_type": "code",
   "execution_count": 66,
   "id": "12a01e34-3801-42c4-9dc1-23576f518f6b",
   "metadata": {},
   "outputs": [
    {
     "name": "stdout",
     "output_type": "stream",
     "text": [
      "+-------+-----+-------+\n",
      "|gender |count|percent|\n",
      "+-------+-----+-------+\n",
      "|M      |16466|49.04  |\n",
      "|F      |15477|46.09  |\n",
      "|unknown|1636 |4.87   |\n",
      "+-------+-----+-------+\n",
      "\n"
     ]
    }
   ],
   "source": [
    "total = full_df.filter(col(\"event\") == \"offer completed\").count()\n",
    "\n",
    "full_df.filter(col(\"event\") == \"offer completed\") \\\n",
    "    .groupBy(\"gender\") \\\n",
    "    .agg(count(\"*\").alias(\"count\")) \\\n",
    "    .withColumn(\"percent\", spark_round((col(\"count\") / total) * 100, 2)) \\\n",
    "    .orderBy(\"count\", ascending=False) \\\n",
    "    .show(5, truncate=False)"
   ]
  },
  {
   "cell_type": "markdown",
   "id": "1f8ad2fa-72ef-4abc-b834-1212246f440e",
   "metadata": {},
   "source": [
    "🔍 Insight: **Distribuição de gênero bastante balanceada** — bom para estratégias de comunicação neutras ou segmentadas."
   ]
  },
  {
   "cell_type": "code",
   "execution_count": 67,
   "id": "a0883e1d-7c5a-44e5-9ae5-e2d2c102e602",
   "metadata": {},
   "outputs": [
    {
     "name": "stdout",
     "output_type": "stream",
     "text": [
      "+-------------------+-----+-------+\n",
      "|credit_limit_bucket|count|percent|\n",
      "+-------------------+-----+-------+\n",
      "|Very High (> 60k)  |21483|63.98  |\n",
      "|High (30k–60k)     |11976|35.67  |\n",
      "|Medium (10k–30k)   |120  |0.36   |\n",
      "+-------------------+-----+-------+\n",
      "\n"
     ]
    }
   ],
   "source": [
    "total = full_df.filter(col(\"event\") == \"offer completed\").count()\n",
    "\n",
    "full_df.filter(col(\"event\") == \"offer completed\") \\\n",
    "    .groupBy(\"credit_limit_bucket\") \\\n",
    "    .agg(count(\"*\").alias(\"count\")) \\\n",
    "    .withColumn(\"percent\", spark_round((col(\"count\") / total) * 100, 2)) \\\n",
    "    .orderBy(\"count\", ascending=False) \\\n",
    "    .show(5, truncate=False)"
   ]
  },
  {
   "cell_type": "markdown",
   "id": "ecca9d52-61f5-4e96-8b82-5491c6add5b9",
   "metadata": {},
   "source": [
    "🔍 Insight: A base está altamente concentrada em **clientes de alto poder aquisitivo**. Estratégias de cupons e ofertas podem ser mais voltadas para valor agregado (ex: brindes, experiências) do que simples descontos."
   ]
  },
  {
   "cell_type": "markdown",
   "id": "972fc0cf-c187-4a0a-bbde-01c92ac8644d",
   "metadata": {},
   "source": [
    "#### b) Qual tipo de oferta tem maior taxa de conversão?"
   ]
  },
  {
   "cell_type": "code",
   "execution_count": 69,
   "id": "f6a93360-da79-4a20-be52-d017d452cf3b",
   "metadata": {},
   "outputs": [],
   "source": [
    "# Filtra eventos de recebimento e conclusão de ofertas\n",
    "received = full_df.filter(col(\"event\") == \"offer received\") \\\n",
    "    .groupBy(\"offer_type\") \\\n",
    "    .agg(count(\"*\").alias(\"received_count\"))\n",
    "\n",
    "completed = full_df.filter(col(\"event\") == \"offer completed\") \\\n",
    "    .groupBy(\"offer_type\") \\\n",
    "    .agg(count(\"*\").alias(\"completed_count\"))\n",
    "\n",
    "# Junta os dois e calcula a taxa\n",
    "conversion_df = received.join(completed, on=\"offer_type\", how=\"left\") \\\n",
    "    .withColumn(\"conversion_rate\", spark_round((col(\"completed_count\") / col(\"received_count\")) * 100, 2)) \\\n",
    "    .orderBy(\"conversion_rate\", ascending=False)"
   ]
  },
  {
   "cell_type": "code",
   "execution_count": 70,
   "id": "9cc77cef-3ae1-41cd-a3f3-584dbfc75da8",
   "metadata": {},
   "outputs": [
    {
     "name": "stdout",
     "output_type": "stream",
     "text": [
      "+-------------+--------------+---------------+---------------+\n",
      "|offer_type   |received_count|completed_count|conversion_rate|\n",
      "+-------------+--------------+---------------+---------------+\n",
      "|discount     |30543         |17910          |58.64          |\n",
      "|bogo         |30499         |15669          |51.38          |\n",
      "|informational|15235         |NULL           |NULL           |\n",
      "+-------------+--------------+---------------+---------------+\n",
      "\n"
     ]
    }
   ],
   "source": [
    "conversion_df.show(truncate=False)"
   ]
  },
  {
   "cell_type": "markdown",
   "id": "531ddef6-a980-4e2d-b478-b3a47488903b",
   "metadata": {},
   "source": [
    "🔍 Insight: Ofertas do tipo “discount” têm a maior taxa de conversão (58,6%), seguidas por “bogo” (51,4%). Isso indica que descontos diretos são mais eficazes em motivar a conclusão de uma oferta."
   ]
  },
  {
   "cell_type": "markdown",
   "id": "2bf7da2e-09c5-47b1-836c-dd4a91480bda",
   "metadata": {},
   "source": [
    "#### c) Quais canais têm melhor desempenho por perfil?"
   ]
  },
  {
   "cell_type": "code",
   "execution_count": 74,
   "id": "4b627cff-f02b-4eeb-a388-e1291dcc17a3",
   "metadata": {},
   "outputs": [
    {
     "data": {
      "text/plain": [
       "DataFrame[age_group: string, received: bigint, completed: bigint, conversion_rate: double, channel: string]"
      ]
     },
     "execution_count": 74,
     "metadata": {},
     "output_type": "execute_result"
    }
   ],
   "source": [
    "# Lista dos canais disponíveis no dataset\n",
    "channels = [\"channels_mobile\", \"channels_email\", \"channels_social\", \"channels_web\"]\n",
    "\n",
    "# Cria uma lista de DataFrames, um para cada canal\n",
    "conversion_by_channel_age = []\n",
    "\n",
    "for ch in channels:\n",
    "    received = full_df.filter((col(\"event\") == \"offer received\") & (col(ch) == 1)) \\\n",
    "        .groupBy(\"age_group\") \\\n",
    "        .agg(count(\"*\").alias(\"received\"))\n",
    "\n",
    "    completed = full_df.filter((col(\"event\") == \"offer completed\") & (col(ch) == 1)) \\\n",
    "        .groupBy(\"age_group\") \\\n",
    "        .agg(count(\"*\").alias(\"completed\"))\n",
    "\n",
    "    # Junta os dois e calcula taxa de conversão\n",
    "    joined = received.join(completed, on=\"age_group\", how=\"left\") \\\n",
    "        .withColumn(\"conversion_rate\", spark_round((col(\"completed\") / col(\"received\")) * 100, 2)) \\\n",
    "        .withColumn(\"channel\", lit(ch.replace(\"channels_\", \"\")))\n",
    "\n",
    "    conversion_by_channel_age.append(joined)\n",
    "\n",
    "# Junta todos os canais em um único DataFrame\n",
    "result = conversion_by_channel_age[0]\n",
    "for df in conversion_by_channel_age[1:]:\n",
    "    result = result.unionByName(df)\n",
    "\n",
    "# Ordena para visualização\n",
    "result.orderBy(\"channel\")"
   ]
  },
  {
   "cell_type": "code",
   "execution_count": 75,
   "id": "f78dd356-ed62-41b4-bd67-9c5936cb53f1",
   "metadata": {},
   "outputs": [
    {
     "name": "stdout",
     "output_type": "stream",
     "text": [
      "+-------------------+-------+---------------+\n",
      "|age_group          |channel|conversion_rate|\n",
      "+-------------------+-------+---------------+\n",
      "|Gen X (45–59)      |web    |53.22          |\n",
      "|Gen X (45–59)      |social |51.41          |\n",
      "|Boomers (60+)      |web    |48.85          |\n",
      "|Gen X (45–59)      |email  |47.76          |\n",
      "|Gen X (45–59)      |mobile |47.64          |\n",
      "|Boomers (60+)      |social |47.59          |\n",
      "|Millennials (30–44)|web    |45.4           |\n",
      "|Millennials (30–44)|social |44.81          |\n",
      "|Boomers (60+)      |email  |44.0           |\n",
      "|Boomers (60+)      |mobile |43.81          |\n",
      "|Millennials (30–44)|mobile |41.03          |\n",
      "|Millennials (30–44)|email  |40.38          |\n",
      "|Gen Z (15–29)      |web    |39.22          |\n",
      "|Gen Z (15–29)      |social |37.42          |\n",
      "|Gen Z (15–29)      |mobile |34.77          |\n",
      "|Gen Z (15–29)      |email  |34.76          |\n",
      "+-------------------+-------+---------------+\n",
      "\n"
     ]
    }
   ],
   "source": [
    "result.select(\"age_group\", \"channel\", \"conversion_rate\") \\\n",
    "      .orderBy(\"conversion_rate\", ascending=False) \\\n",
    "      .show(20, truncate=False)"
   ]
  },
  {
   "cell_type": "markdown",
   "id": "bd1491fb-681d-4b04-8e71-ec664d0af10d",
   "metadata": {},
   "source": [
    "#### d) Qual o perfil de quem só usa cupom e nunca compra fora da oferta"
   ]
  },
  {
   "cell_type": "code",
   "execution_count": 76,
   "id": "11f79fb9-ad3d-44c4-9490-30ab25d924a7",
   "metadata": {},
   "outputs": [],
   "source": [
    "# 1. Identificar usuários que completaram ofertas\n",
    "users_with_offers = full_df.filter(col(\"event\") == \"offer completed\") \\\n",
    "                           .select(\"account_id\") \\\n",
    "                           .distinct()\n",
    "\n",
    "# 2. Identificar usuários que realizaram transações diretas (sem oferta)\n",
    "users_with_transactions = full_df.filter(col(\"event\") == \"transaction\") \\\n",
    "                                 .select(\"account_id\") \\\n",
    "                                 .distinct()\n",
    "\n",
    "# 3. Encontrar usuários que completaram ofertas, mas nunca fizeram transação sem cupom\n",
    "only_coupon_users = users_with_offers.subtract(users_with_transactions)\n",
    "\n",
    "# 4. Unir com os dados de clientes para entender o perfil\n",
    "coupon_only_profile = only_coupon_users.join(full_df, on=\"account_id\") \\\n",
    "                                       .select(\"account_id\", \"age_group\", \"gender\", \"credit_limit_bucket\") \\\n",
    "                                       .distinct()"
   ]
  },
  {
   "cell_type": "code",
   "execution_count": 82,
   "id": "8adb2ffd-741c-4127-8919-02f370799984",
   "metadata": {},
   "outputs": [
    {
     "name": "stdout",
     "output_type": "stream",
     "text": [
      "+----------+\n",
      "|account_id|\n",
      "+----------+\n",
      "+----------+\n",
      "\n"
     ]
    }
   ],
   "source": [
    "only_coupon_users.show()"
   ]
  },
  {
   "cell_type": "code",
   "execution_count": 77,
   "id": "b7f415ad-f198-4d1f-b9ca-ed1bf3506fce",
   "metadata": {},
   "outputs": [
    {
     "name": "stdout",
     "output_type": "stream",
     "text": [
      "+---------+-----+\n",
      "|age_group|count|\n",
      "+---------+-----+\n",
      "+---------+-----+\n",
      "\n"
     ]
    }
   ],
   "source": [
    "# 5. Exibir distribuição por faixa etária, gênero e faixa de limite\n",
    "coupon_only_profile.groupBy(\"age_group\").count().orderBy(\"count\", ascending=False).show()"
   ]
  },
  {
   "cell_type": "code",
   "execution_count": 78,
   "id": "1d6c624a-06a2-4d31-bbc5-61134c7b66db",
   "metadata": {},
   "outputs": [
    {
     "name": "stdout",
     "output_type": "stream",
     "text": [
      "+------+-----+\n",
      "|gender|count|\n",
      "+------+-----+\n",
      "+------+-----+\n",
      "\n"
     ]
    }
   ],
   "source": [
    "coupon_only_profile.groupBy(\"gender\").count().orderBy(\"count\", ascending=False).show()"
   ]
  },
  {
   "cell_type": "code",
   "execution_count": 79,
   "id": "0100c854-f71b-4881-891f-589c1959104e",
   "metadata": {},
   "outputs": [
    {
     "name": "stdout",
     "output_type": "stream",
     "text": [
      "+-------------------+-----+\n",
      "|credit_limit_bucket|count|\n",
      "+-------------------+-----+\n",
      "+-------------------+-----+\n",
      "\n"
     ]
    }
   ],
   "source": [
    "coupon_only_profile.groupBy(\"credit_limit_bucket\").count().orderBy(\"count\", ascending=False).show()"
   ]
  },
  {
   "cell_type": "markdown",
   "id": "03a43b9c-6e11-48d2-baba-cfd100547bb1",
   "metadata": {},
   "source": [
    "🔍 Nenhum cliente exclusivo de cupons — todos os usuários que completaram uma oferta também realizaram pelo menos uma compra direta. Isso indica um comportamento de consumo mais amplo, em que os cupons são um estímulo adicional, mas não a única motivação de compra."
   ]
  },
  {
   "cell_type": "markdown",
   "id": "e5de8a29-5884-4278-b42a-e72163cf24fb",
   "metadata": {},
   "source": [
    "#### e) Quem compra mesmo sem oferta (transações sem offer_id)?"
   ]
  },
  {
   "cell_type": "code",
   "execution_count": 83,
   "id": "3c1b25b1-67f9-4531-9bc6-b26d44b8a4e0",
   "metadata": {},
   "outputs": [
    {
     "name": "stdout",
     "output_type": "stream",
     "text": [
      "🔢 Total de usuários que compram sem cupom: 16578\n",
      "+--------------------------------+\n",
      "|account_id                      |\n",
      "+--------------------------------+\n",
      "|08579355f46b49efa8412ddacc4ac832|\n",
      "|708d8271f758417e9555313e8de385ce|\n",
      "|dd1069bbc7ef423c9b22bc81aceb6ec1|\n",
      "|9da3f2339b244229a8337572e982b189|\n",
      "|30105215903d4eefbfe3ac8bb02ca786|\n",
      "|0bcecfedf7e448b08e5ed4c00f47217d|\n",
      "|d3c24fa42d0947a4be104283c35a7983|\n",
      "|738943cdecfd4534853c159569fa9e49|\n",
      "|f3acf14291c040a5b6d93bdd426898c6|\n",
      "|ab25fd6fbd5040f880751921e4029757|\n",
      "+--------------------------------+\n",
      "only showing top 10 rows\n",
      "\n"
     ]
    }
   ],
   "source": [
    "# Usuários que fizeram transações sem vínculo com nenhuma oferta\n",
    "non_coupon_users = full_df \\\n",
    "    .filter((col(\"event\") == \"transaction\") & (col(\"offer_id\").isNull())) \\\n",
    "    .select(\"account_id\") \\\n",
    "    .distinct()\n",
    "\n",
    "# Exibir quantidade\n",
    "print(f\"🔢 Total de usuários que compram sem cupom: {non_coupon_users.count()}\")\n",
    "non_coupon_users.show(10, truncate=False)"
   ]
  },
  {
   "cell_type": "code",
   "execution_count": 84,
   "id": "cebefcee-54d4-453f-b47f-22235775bff1",
   "metadata": {},
   "outputs": [
    {
     "name": "stdout",
     "output_type": "stream",
     "text": [
      "+-------------------+-------+-------------------+-----+\n",
      "|age_group          |gender |credit_limit_bucket|count|\n",
      "+-------------------+-------+-------------------+-----+\n",
      "|Boomers (60+)      |F      |Very High (> 60k)  |2880 |\n",
      "|Boomers (60+)      |M      |Very High (> 60k)  |2406 |\n",
      "|Boomers (60+)      |unknown|Very High (> 60k)  |2150 |\n",
      "|Boomers (60+)      |M      |High (30k–60k)     |1909 |\n",
      "|Gen X (45–59)      |M      |High (30k–60k)     |1108 |\n",
      "|Millennials (30–44)|M      |High (30k–60k)     |1018 |\n",
      "|Boomers (60+)      |F      |High (30k–60k)     |1011 |\n",
      "|Gen X (45–59)      |M      |Very High (> 60k)  |971  |\n",
      "|Gen X (45–59)      |F      |Very High (> 60k)  |778  |\n",
      "|Gen X (45–59)      |F      |High (30k–60k)     |526  |\n",
      "|Millennials (30–44)|F      |High (30k–60k)     |438  |\n",
      "|Millennials (30–44)|M      |Very High (> 60k)  |425  |\n",
      "|Gen Z (15–29)      |M      |High (30k–60k)     |299  |\n",
      "|Millennials (30–44)|F      |Very High (> 60k)  |189  |\n",
      "|Gen Z (15–29)      |F      |High (30k–60k)     |103  |\n",
      "|Gen Z (15–29)      |M      |Very High (> 60k)  |96   |\n",
      "|Boomers (60+)      |unknown|High (30k–60k)     |52   |\n",
      "|Gen Z (15–29)      |F      |Very High (> 60k)  |46   |\n",
      "|Gen X (45–59)      |unknown|Very High (> 60k)  |32   |\n",
      "|Boomers (60+)      |M      |Medium (10k–30k)   |26   |\n",
      "+-------------------+-------+-------------------+-----+\n",
      "only showing top 20 rows\n",
      "\n"
     ]
    }
   ],
   "source": [
    "non_coupon_profile = non_coupon_users.join(\n",
    "    full_df.select(\"account_id\", \"age_group\", \"gender\", \"credit_limit_bucket\").distinct(),\n",
    "    on=\"account_id\",\n",
    "    how=\"left\"\n",
    ")\n",
    "\n",
    "non_coupon_profile.groupBy(\"age_group\", \"gender\", \"credit_limit_bucket\") \\\n",
    "    .count() \\\n",
    "    .orderBy(\"count\", ascending=False) \\\n",
    "    .show(truncate=False)"
   ]
  },
  {
   "cell_type": "markdown",
   "id": "13c3e73b-b169-4165-8bc3-2d1fbc95a05a",
   "metadata": {},
   "source": [
    "🔍 Insight: **Clientes que compram sem ofertas tendem a ser mais velhos e com alto poder aquisitiv**o — a maioria pertence à **geração Boomers (60+)**, possui limites de **crédito elevados (acima de 60 mil** e apresenta equilíbrio entre os gêneros. Esse grupo demonstra baixa dependência de cupons, sendo ideal para estratégias de fidelização e produtos premium."
   ]
  },
  {
   "cell_type": "markdown",
   "id": "bc81e56c-e0c7-452b-b0bc-a52fc9a4233f",
   "metadata": {},
   "source": [
    "#### f) Limite de cartão influencia o engajamento com ofertas?"
   ]
  },
  {
   "cell_type": "code",
   "execution_count": 85,
   "id": "fecd1f9e-9e12-435e-9260-e596ba47988e",
   "metadata": {},
   "outputs": [],
   "source": [
    "# Filtra apenas eventos relevantes (oferta recebida e completada)\n",
    "received = full_df.filter(col(\"event\") == \"offer received\") \\\n",
    "    .filter(col(\"offer_id\").isNotNull()) \\\n",
    "    .groupBy(\"credit_limit_bucket\") \\\n",
    "    .agg(count(\"*\").alias(\"received_count\"))\n",
    "\n",
    "completed = full_df.filter(col(\"event\") == \"offer completed\") \\\n",
    "    .filter(col(\"offer_id\").isNotNull()) \\\n",
    "    .groupBy(\"credit_limit_bucket\") \\\n",
    "    .agg(count(\"*\").alias(\"completed_count\"))\n",
    "\n",
    "# Junta os dois resultados\n",
    "conversion_by_credit = received.join(\n",
    "    completed,\n",
    "    on=\"credit_limit_bucket\",\n",
    "    how=\"left\"\n",
    ").withColumn(\n",
    "    \"conversion_rate\",\n",
    "    spark_round((col(\"completed_count\") / col(\"received_count\")) * 100, 2)\n",
    ").orderBy(\"conversion_rate\", ascending=False)"
   ]
  },
  {
   "cell_type": "code",
   "execution_count": 86,
   "id": "53798f09-105d-420c-b413-8cc5075fe1c6",
   "metadata": {},
   "outputs": [
    {
     "name": "stdout",
     "output_type": "stream",
     "text": [
      "+-------------------+--------------+---------------+---------------+\n",
      "|credit_limit_bucket|received_count|completed_count|conversion_rate|\n",
      "+-------------------+--------------+---------------+---------------+\n",
      "|Very High (> 60k)  |46152         |21483          |46.55          |\n",
      "|High (30k–60k)     |29729         |11976          |40.28          |\n",
      "|Medium (10k–30k)   |396           |120            |30.3           |\n",
      "+-------------------+--------------+---------------+---------------+\n",
      "\n"
     ]
    }
   ],
   "source": [
    "conversion_by_credit.show(truncate=False)"
   ]
  },
  {
   "cell_type": "markdown",
   "id": "e50c6d49-28ff-48fb-8bb2-7437e0409de9",
   "metadata": {},
   "source": [
    "🔍 Insight: **Limite de crédito mais alto** está relacionado a maior engajamento com ofertas — usuários com limite acima de 60k apresentaram a maior taxa de conversão (46.55%), enquanto os com limite entre 10k e 30k ficaram com apenas 30.3%. Isso sugere que **clientes com maior poder aquisitivo são mais propensos a completar ofertas recebidas**, o que pode orientar campanhas mais efetivas por faixa de crédito."
   ]
  },
  {
   "cell_type": "markdown",
   "id": "6c0f7aa7-5e23-4335-a672-029f39a073c4",
   "metadata": {},
   "source": [
    "#### g) Existe relação entre idade e valor gasto nas transações?"
   ]
  },
  {
   "cell_type": "code",
   "execution_count": 95,
   "id": "eb836531-66c9-437b-815c-7da72bfcda2e",
   "metadata": {},
   "outputs": [],
   "source": [
    "# Filtra apenas transações (event == \"transaction\") com valor não nulo\n",
    "transaction_values = full_df.filter(\n",
    "    (col(\"event\") == \"transaction\") & (col(\"value_amount\").isNotNull())\n",
    ")\n",
    "\n",
    "# Agrupa por faixa etária e calcula média e soma\n",
    "result = transaction_values.groupBy(\"age_group\") \\\n",
    "    .agg(\n",
    "        count(\"*\").alias(\"transaction_count\"),\n",
    "        _sum(\"value_amount\").alias(\"total_spent\"),\n",
    "        avg(\"value_amount\").alias(\"avg_spent\")\n",
    "    ) \\\n",
    "    .orderBy(\"avg_spent\", ascending=False)"
   ]
  },
  {
   "cell_type": "code",
   "execution_count": 96,
   "id": "d7411bd2-3d00-407f-94ad-5399de25d07a",
   "metadata": {},
   "outputs": [
    {
     "name": "stdout",
     "output_type": "stream",
     "text": [
      "+-------------------+-----------------+------------------+------------------+\n",
      "|age_group          |transaction_count|total_spent       |avg_spent         |\n",
      "+-------------------+-----------------+------------------+------------------+\n",
      "|Boomers (60+)      |82268            |1148939.8100000077|13.965816720960856|\n",
      "|Gen X (45–59)      |29730            |393538.7100000006 |13.237090817356226|\n",
      "|Millennials (30–44)|21735            |188172.54999999955|8.657582240625699 |\n",
      "|Gen Z (15–29)      |5220             |44800.900000000154|8.582547892720337 |\n",
      "+-------------------+-----------------+------------------+------------------+\n",
      "\n"
     ]
    }
   ],
   "source": [
    "result.show(truncate=False)"
   ]
  },
  {
   "cell_type": "markdown",
   "id": "c0568b23-87ab-47fb-b2b0-a577469c5681",
   "metadata": {},
   "source": [
    "🔍 Insight: **Boomers gastam mais por transação** — Usuários da geração Boomers (60+) possuem o maior valor médio por compra (13,97 reais), seguidos por Gen X (45–59) com 13,24 reais. Já Millennials e Gen Z gastam menos por transação (cerca de R$8,6). Isso sugere que **campanhas voltadas a ticket médio maior podem ser mais eficazes com o público mais velho**, enquanto públicos mais jovens talvez respondam melhor a ofertas de menor valor."
   ]
  },
  {
   "cell_type": "markdown",
   "id": "9fb1bfc6-5b10-4100-8c98-04a6b5177330",
   "metadata": {},
   "source": [
    "#### h) Qual é o tempo médio entre \"offer received\" e \"offer completed\"?"
   ]
  },
  {
   "cell_type": "code",
   "execution_count": 97,
   "id": "cc6dae3c-4d69-47f8-9d8d-f621158506a6",
   "metadata": {},
   "outputs": [
    {
     "name": "stdout",
     "output_type": "stream",
     "text": [
      "+--------------------+\n",
      "|avg_days_to_complete|\n",
      "+--------------------+\n",
      "|     2.6893959091697|\n",
      "+--------------------+\n",
      "\n"
     ]
    }
   ],
   "source": [
    "# Filtra os eventos recebidos e completados\n",
    "received_df = full_df.filter(col(\"event\") == \"offer received\") \\\n",
    "    .select(\"account_id\", \"offer_id\", col(\"time_since_test_start\").alias(\"received_time\"))\n",
    "\n",
    "completed_df = full_df.filter(col(\"event\") == \"offer completed\") \\\n",
    "    .select(\"account_id\", \"offer_id\", col(\"time_since_test_start\").alias(\"completed_time\"))\n",
    "\n",
    "# Une os dois dataframes por conta e oferta\n",
    "joined_df = received_df.join(completed_df, on=[\"account_id\", \"offer_id\"], how=\"inner\")\n",
    "\n",
    "# Calcula o tempo entre recebimento e conclusão\n",
    "timed_df = joined_df.withColumn(\"time_to_complete\", col(\"completed_time\") - col(\"received_time\"))\n",
    "\n",
    "# Tempo médio de conclusão\n",
    "avg_time = timed_df.select(avg(\"time_to_complete\").alias(\"avg_days_to_complete\"))\n",
    "avg_time.show()"
   ]
  },
  {
   "cell_type": "markdown",
   "id": "98ad2b61-cdc0-4688-a299-9d59b73d251a",
   "metadata": {},
   "source": [
    "🔍 Insight: **Tempo médio de conversão rápido** — em média, os usuários completam as ofertas cerca de 2,7 dias após recebê-las. Isso indica que as campanhas promocionais têm impacto quase imediato e podem ser otimizadas para ciclos curtos de engajamento."
   ]
  },
  {
   "cell_type": "markdown",
   "id": "cac7e04e-b0de-4797-951f-6e620a2b9935",
   "metadata": {},
   "source": [
    "#### i) Alguns perfis visualizam a oferta, mas não completam?"
   ]
  },
  {
   "cell_type": "code",
   "execution_count": 98,
   "id": "d0f8d7fb-3028-49c6-8693-a0d3c58a006c",
   "metadata": {},
   "outputs": [
    {
     "name": "stdout",
     "output_type": "stream",
     "text": [
      "+-------------------+-------+-------------------+-----+\n",
      "|age_group          |gender |credit_limit_bucket|count|\n",
      "+-------------------+-------+-------------------+-----+\n",
      "|Boomers (60+)      |unknown|Very High (> 60k)  |5763 |\n",
      "|Boomers (60+)      |M      |High (30k–60k)     |3122 |\n",
      "|Boomers (60+)      |F      |Very High (> 60k)  |2852 |\n",
      "|Boomers (60+)      |M      |Very High (> 60k)  |2845 |\n",
      "|Gen X (45–59)      |M      |High (30k–60k)     |1695 |\n",
      "|Millennials (30–44)|M      |High (30k–60k)     |1606 |\n",
      "|Gen X (45–59)      |M      |Very High (> 60k)  |1364 |\n",
      "|Boomers (60+)      |F      |High (30k–60k)     |1300 |\n",
      "|Gen X (45–59)      |F      |Very High (> 60k)  |971  |\n",
      "|Gen X (45–59)      |F      |High (30k–60k)     |668  |\n",
      "|Millennials (30–44)|M      |Very High (> 60k)  |622  |\n",
      "|Gen Z (15–29)      |M      |High (30k–60k)     |497  |\n",
      "|Millennials (30–44)|F      |High (30k–60k)     |483  |\n",
      "|Millennials (30–44)|F      |Very High (> 60k)  |206  |\n",
      "|Gen Z (15–29)      |F      |High (30k–60k)     |168  |\n",
      "|Gen Z (15–29)      |M      |Very High (> 60k)  |159  |\n",
      "|Boomers (60+)      |unknown|High (30k–60k)     |67   |\n",
      "|Gen X (45–59)      |unknown|Very High (> 60k)  |47   |\n",
      "|Gen Z (15–29)      |F      |Very High (> 60k)  |40   |\n",
      "|Boomers (60+)      |M      |Medium (10k–30k)   |39   |\n",
      "+-------------------+-------+-------------------+-----+\n",
      "only showing top 20 rows\n",
      "\n"
     ]
    }
   ],
   "source": [
    "# Usuários que visualizaram ofertas\n",
    "viewed_df = full_df.filter(col(\"event\") == \"offer viewed\").select(\"account_id\", \"offer_id\").distinct()\n",
    "\n",
    "# Usuários que completaram ofertas\n",
    "completed_df = full_df.filter(col(\"event\") == \"offer completed\").select(\"account_id\", \"offer_id\").distinct()\n",
    "\n",
    "# Identifica quem visualizou mas não completou\n",
    "viewed_not_completed = viewed_df.join(completed_df, on=[\"account_id\", \"offer_id\"], how=\"left_anti\")\n",
    "\n",
    "# Junta com dados demográficos para analisar perfil\n",
    "viewed_not_completed_profiles = viewed_not_completed.join(\n",
    "    full_df.select(\"account_id\", \"age_group\", \"gender\", \"credit_limit_bucket\").dropDuplicates([\"account_id\"]),\n",
    "    on=\"account_id\",\n",
    "    how=\"left\"\n",
    ")\n",
    "\n",
    "# Agrupamento por perfil\n",
    "result = viewed_not_completed_profiles.groupBy(\"age_group\", \"gender\", \"credit_limit_bucket\") \\\n",
    "    .count() \\\n",
    "    .orderBy(\"count\", ascending=False)\n",
    "\n",
    "result.show(truncate=False)"
   ]
  },
  {
   "cell_type": "markdown",
   "id": "46bb205e-ebfb-4438-a30d-4c83ca46fe58",
   "metadata": {},
   "source": [
    "🔍 Insight: Alto abandono mesmo após visualização — Muitos usuários visualizam ofertas, mas não completam. **O perfil predominante entre os que abandonam são Boomers com limite de cartão muito alto, especialmente homens e gênero desconhecido**. Isso pode indicar que, embora esses clientes estejam engajados o suficiente para visualizar, a oferta pode não estar sendo percebida como vantajosa ou relevante o bastante para incentivar a conversão."
   ]
  },
  {
   "cell_type": "markdown",
   "id": "2049e801-6442-447b-962c-6b888955d417",
   "metadata": {},
   "source": [
    "#### j) Qual a sequência típica de eventos?"
   ]
  },
  {
   "cell_type": "code",
   "execution_count": 102,
   "id": "ff446d87-d706-4053-b369-5ee7e31df724",
   "metadata": {},
   "outputs": [
    {
     "name": "stdout",
     "output_type": "stream",
     "text": [
      "+----------------------------------------------------------------------------------------------+-----+\n",
      "|event_sequence                                                                                |count|\n",
      "+----------------------------------------------------------------------------------------------+-----+\n",
      "|[offer received, offer viewed]                                                                |20275|\n",
      "|[offer received, offer viewed, offer completed]                                               |15947|\n",
      "|[offer received]                                                                              |8540 |\n",
      "|[offer received, offer completed]                                                             |3911 |\n",
      "|[offer received, offer viewed, offer received, offer viewed]                                  |2916 |\n",
      "|[offer received, offer completed, offer viewed]                                               |2827 |\n",
      "|[offer received, offer viewed, offer completed, offer received, offer viewed, offer completed]|1868 |\n",
      "|[offer received, offer received]                                                              |994  |\n",
      "|[offer received, offer viewed, offer received, offer viewed, offer completed]                 |584  |\n",
      "|[offer received, offer viewed, offer received]                                                |529  |\n",
      "|[offer received, offer received, offer viewed]                                                |476  |\n",
      "|[offer received, offer viewed, offer completed, offer received, offer viewed]                 |458  |\n",
      "|[offer received, offer viewed, offer completed, offer received, offer completed, offer viewed]|382  |\n",
      "|[offer received, offer viewed, offer received, offer viewed, offer received, offer viewed]    |259  |\n",
      "|[offer received, offer viewed, offer completed, offer received, offer completed]              |240  |\n",
      "|[offer received, offer completed, offer viewed, offer received, offer viewed, offer completed]|239  |\n",
      "|[offer received, offer completed, offer received, offer completed]                            |221  |\n",
      "|[offer received, offer completed, offer received, offer viewed, offer completed]              |156  |\n",
      "|[offer received, offer received, offer completed]                                             |155  |\n",
      "|[offer received, offer completed, offer received]                                             |138  |\n",
      "+----------------------------------------------------------------------------------------------+-----+\n",
      "only showing top 20 rows\n",
      "\n"
     ]
    }
   ],
   "source": [
    "# Filtra eventos relacionados a ofertas (exclui transações normais)\n",
    "events_df = full_df.filter(col(\"offer_id\").isNotNull()) \\\n",
    "    .select(\"account_id\", \"offer_id\", \"event\", \"time_since_test_start\")\n",
    "\n",
    "# Cria uma janela para ordenar eventos por tempo\n",
    "window_spec = Window.partitionBy(\"account_id\", \"offer_id\").orderBy(\"time_since_test_start\")\n",
    "\n",
    "# Ordena os eventos por tempo e agrupa como lista\n",
    "sequenced_df = events_df.withColumn(\"rank\", row_number().over(window_spec)) \\\n",
    "    .groupBy(\"account_id\", \"offer_id\") \\\n",
    "    .agg(collect_list(\"event\").alias(\"event_sequence\"))\n",
    "\n",
    "# Conta as sequências mais comuns\n",
    "sequence_counts = sequenced_df.groupBy(\"event_sequence\").count().orderBy(\"count\", ascending=False)\n",
    "\n",
    "sequence_counts.show(truncate=False, n=20)"
   ]
  },
  {
   "cell_type": "markdown",
   "id": "66c31256-7fe6-4b53-bbad-f909078ccd09",
   "metadata": {},
   "source": [
    "🔍 Insight: Padrão de engajamento com ofertas é previsível e estruturado — a maioria dos usuários segue a sequência \"offer received → offer viewed\" (20.2 mil casos), indicando que grande parte primeiro visualiza a oferta antes de agir. Já \"offer received → offer viewed → offer completed\" aparece com 15.9 mil registros, evidenciando um comportamento ideal de funil completo. Outros padrões interessantes incluem usuários que completam ofertas mesmo sem visualizar (\"offer received → offer completed\"), o que pode indicar automatismo ou confiança no benefício. Já sequências longas com repetições indicam engajamento contínuo ou múltiplas campanhas ativas."
   ]
  },
  {
   "cell_type": "markdown",
   "id": "e847d675-6559-4a6f-9e4d-398bb9f161bd",
   "metadata": {},
   "source": [
    "#### h) Usuários mais antigos (com maior tempo desde registered_on) são mais engajados? Completam mais ofertas? "
   ]
  },
  {
   "cell_type": "code",
   "execution_count": 122,
   "id": "8075cd8b-76ee-4f20-8726-51c8db7d4fdc",
   "metadata": {},
   "outputs": [
    {
     "name": "stdout",
     "output_type": "stream",
     "text": [
      "Total de usuários que completaram ofertas:  33579\n",
      "+----------------------+---------------+\n",
      "|registration_age_group|completed_count|\n",
      "+----------------------+---------------+\n",
      "|3 anos ou mais        |33579          |\n",
      "+----------------------+---------------+\n",
      "\n"
     ]
    }
   ],
   "source": [
    "from pyspark.sql.functions import col, to_date, datediff, lit, current_date, when, count\n",
    "\n",
    "# ✅ Calcula dias desde o registro\n",
    "df_with_registration_time = full_df.withColumn(\n",
    "    \"days_since_registration\",\n",
    "    datediff(current_date(), to_date(col(\"registered_on\").cast(\"string\"), \"yyyyMMdd\"))\n",
    ")\n",
    "\n",
    "# 📊 Filtra apenas eventos de conclusão\n",
    "completed_offers = df_with_registration_time.filter(col(\"event\") == \"offer completed\")\n",
    "print(\"Total de usuários que completaram ofertas: \", completed_offers.count())\n",
    "\n",
    "# 📦 Agrupa por faixa de tempo desde o registro\n",
    "result = completed_offers.withColumn(\n",
    "    \"registration_age_group\",\n",
    "    when(col(\"days_since_registration\") < 365, \"Até 1 ano\")\n",
    "    .when((col(\"days_since_registration\") >= 365) & (col(\"days_since_registration\") < 730), \"1 a 2 anos\")\n",
    "    .when((col(\"days_since_registration\") >= 730) & (col(\"days_since_registration\") < 1095), \"2 a 3 anos\")\n",
    "    .when(col(\"days_since_registration\") >= 1095, \"3 anos ou mais\")\n",
    "    .otherwise(\"Desconhecido\")\n",
    ").groupBy(\"registration_age_group\") \\\n",
    " .agg(count(\"*\").alias(\"completed_count\")) \\\n",
    " .orderBy(\"completed_count\", ascending=False)\n",
    "\n",
    "# 👀 Exibe resultado\n",
    "result.show(truncate=False)"
   ]
  },
  {
   "cell_type": "markdown",
   "id": "08f5d64c-497b-41fa-9aac-ca854282271d",
   "metadata": {},
   "source": [
    "🔍 Insight: **Usuários com mais de 3 anos de cadastro são os que mais completam ofertas**, com um total de 33.579 conversões. Isso sugere que usuários mais antigos demonstram maior engajamento com as campanhas promocionais, sendo um público valioso para estratégias de fidelização e ofertas exclusivas."
   ]
  },
  {
   "cell_type": "markdown",
   "id": "4df9441b-eb9a-49cc-a8f9-f22e4f469e18",
   "metadata": {},
   "source": [
    "#### i) Ofertas com maior valor de desconto têm taxas de conversão proporcionalmente maiores?"
   ]
  },
  {
   "cell_type": "code",
   "execution_count": 123,
   "id": "12bc7731-5cfb-4e0d-af8e-301ea2c7f7d9",
   "metadata": {},
   "outputs": [
    {
     "name": "stdout",
     "output_type": "stream",
     "text": [
      "+-----------------+--------------+---------------+---------------+\n",
      "|discount_bucket  |received_count|completed_count|conversion_rate|\n",
      "+-----------------+--------------+---------------+---------------+\n",
      "|0 (Informational)|15235         |NULL           |NULL           |\n",
      "|1-3              |22875         |14490          |63.34          |\n",
      "|4-5              |22916         |12070          |52.67          |\n",
      "|6+               |15251         |7019           |46.02          |\n",
      "+-----------------+--------------+---------------+---------------+\n",
      "\n"
     ]
    }
   ],
   "source": [
    "# 🔹 Cria faixas para o valor de desconto\n",
    "full_df_discount = full_df.withColumn(\n",
    "    \"discount_bucket\",\n",
    "    when(col(\"discount_value\") == 0, \"0 (Informational)\")\n",
    "    .when(col(\"discount_value\") <= 3, \"1-3\")\n",
    "    .when(col(\"discount_value\") <= 5, \"4-5\")\n",
    "    .when(col(\"discount_value\") > 5, \"6+\")\n",
    ")\n",
    "\n",
    "# 🔸 Contagem de recebidos por faixa\n",
    "received_df = full_df_discount.filter(col(\"event\") == \"offer received\") \\\n",
    "    .groupBy(\"discount_bucket\") \\\n",
    "    .agg(count(\"*\").alias(\"received_count\"))\n",
    "\n",
    "# 🔸 Contagem de concluídos por faixa\n",
    "completed_df = full_df_discount.filter(col(\"event\") == \"offer completed\") \\\n",
    "    .groupBy(\"discount_bucket\") \\\n",
    "    .agg(count(\"*\").alias(\"completed_count\"))\n",
    "\n",
    "# 🔹 Junta e calcula taxa de conversão\n",
    "conversion_df = received_df.join(completed_df, on=\"discount_bucket\", how=\"left\") \\\n",
    "    .withColumn(\n",
    "        \"conversion_rate\",\n",
    "        spark_round((col(\"completed_count\") / col(\"received_count\")) * 100, 2)\n",
    "    ) \\\n",
    "    .orderBy(\"discount_bucket\")\n",
    "\n",
    "conversion_df.show(truncate=False)"
   ]
  },
  {
   "cell_type": "markdown",
   "id": "30ed5e30-01c0-467c-bc2b-9e24266cf1f6",
   "metadata": {},
   "source": [
    "🔍 Insight: **Ofertas com menor desconto convertem mais!**\n",
    "Ofertas com descontos entre 1 a 3 unidades apresentaram a maior taxa de conversão (63.34%), seguidas pelas de 4 a 5 unidades (52.67%). Curiosamente, ofertas com descontos maiores que 6 unidades tiveram uma taxa mais baixa (46.02%), o que pode indicar que um alto valor de desconto não garante engajamento maior. Já as ofertas informacionais não têm conversões registradas, como esperado. Isso sugere que o equilíbrio entre valor percebido e acessibilidade pode ser mais eficaz que simplesmente oferecer mais desconto."
   ]
  },
  {
   "cell_type": "code",
   "execution_count": null,
   "id": "b708be27-69e8-4488-b793-3c178d257819",
   "metadata": {},
   "outputs": [],
   "source": []
  },
  {
   "cell_type": "code",
   "execution_count": null,
   "id": "cee8ac64-edaa-4274-9cff-3ae6cfbb78cf",
   "metadata": {},
   "outputs": [],
   "source": []
  }
 ],
 "metadata": {
  "kernelspec": {
   "display_name": "Python 3 (ipykernel)",
   "language": "python",
   "name": "python3"
  },
  "language_info": {
   "codemirror_mode": {
    "name": "ipython",
    "version": 3
   },
   "file_extension": ".py",
   "mimetype": "text/x-python",
   "name": "python",
   "nbconvert_exporter": "python",
   "pygments_lexer": "ipython3",
   "version": "3.11.11"
  }
 },
 "nbformat": 4,
 "nbformat_minor": 5
}
